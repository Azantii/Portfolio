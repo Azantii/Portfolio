{
 "cells": [
  {
   "cell_type": "markdown",
   "metadata": {},
   "source": [
    "# Выбор локации для скважины"
   ]
  },
  {
   "cell_type": "markdown",
   "metadata": {},
   "source": [
    "Допустим, вы работаете в добывающей компании «ГлавРосГосНефть». Нужно решить, где бурить новую скважину.\n",
    "\n",
    "Вам предоставлены пробы нефти в трёх регионах: в каждом 10 000 месторождений, где измерили качество нефти и объём её запасов. Постройте модель машинного обучения, которая поможет определить регион, где добыча принесёт наибольшую прибыль. Проанализируйте возможную прибыль и риски техникой *Bootstrap.*\n",
    "\n",
    "Шаги для выбора локации:\n",
    "\n",
    "- В избранном регионе ищут месторождения, для каждого определяют значения признаков;\n",
    "- Строят модель и оценивают объём запасов;\n",
    "- Выбирают месторождения с самым высокими оценками значений. Количество месторождений зависит от бюджета компании и стоимости разработки одной скважины;\n",
    "- Прибыль равна суммарной прибыли отобранных месторождений."
   ]
  },
  {
   "cell_type": "markdown",
   "metadata": {},
   "source": [
    "## Загрузка и подготовка данных"
   ]
  },
  {
   "cell_type": "markdown",
   "metadata": {},
   "source": [
    "### Импорт необходимых библиотек"
   ]
  },
  {
   "cell_type": "code",
   "execution_count": 1,
   "metadata": {},
   "outputs": [],
   "source": [
    "import pandas as pd\n",
    "from sklearn.model_selection import train_test_split\n",
    "from sklearn.linear_model import LinearRegression\n",
    "from sklearn.metrics import mean_squared_error\n",
    "import numpy as np\n",
    "from sklearn.preprocessing import StandardScaler "
   ]
  },
  {
   "cell_type": "markdown",
   "metadata": {},
   "source": [
    "### Осмотр данных"
   ]
  },
  {
   "cell_type": "markdown",
   "metadata": {},
   "source": [
    "В файлах находятся данные геологоразведки трёх регионов.\n",
    "\n",
    "Описание данных:\n",
    "\n",
    "    id — уникальный идентификатор скважины;\n",
    "\n",
    "    f0, f1, f2 — три признака точек (неважно, что они означают, но сами признаки значимы);\n",
    "\n",
    "    product — объём запасов в скважине (тыс. баррелей)."
   ]
  },
  {
   "cell_type": "code",
   "execution_count": 2,
   "metadata": {},
   "outputs": [
    {
     "data": {
      "text/html": [
       "<div>\n",
       "<style scoped>\n",
       "    .dataframe tbody tr th:only-of-type {\n",
       "        vertical-align: middle;\n",
       "    }\n",
       "\n",
       "    .dataframe tbody tr th {\n",
       "        vertical-align: top;\n",
       "    }\n",
       "\n",
       "    .dataframe thead th {\n",
       "        text-align: right;\n",
       "    }\n",
       "</style>\n",
       "<table border=\"1\" class=\"dataframe\">\n",
       "  <thead>\n",
       "    <tr style=\"text-align: right;\">\n",
       "      <th></th>\n",
       "      <th>id</th>\n",
       "      <th>f0</th>\n",
       "      <th>f1</th>\n",
       "      <th>f2</th>\n",
       "      <th>product</th>\n",
       "    </tr>\n",
       "  </thead>\n",
       "  <tbody>\n",
       "    <tr>\n",
       "      <th>0</th>\n",
       "      <td>txEyH</td>\n",
       "      <td>0.705745</td>\n",
       "      <td>-0.497823</td>\n",
       "      <td>1.221170</td>\n",
       "      <td>105.280062</td>\n",
       "    </tr>\n",
       "    <tr>\n",
       "      <th>1</th>\n",
       "      <td>2acmU</td>\n",
       "      <td>1.334711</td>\n",
       "      <td>-0.340164</td>\n",
       "      <td>4.365080</td>\n",
       "      <td>73.037750</td>\n",
       "    </tr>\n",
       "    <tr>\n",
       "      <th>2</th>\n",
       "      <td>409Wp</td>\n",
       "      <td>1.022732</td>\n",
       "      <td>0.151990</td>\n",
       "      <td>1.419926</td>\n",
       "      <td>85.265647</td>\n",
       "    </tr>\n",
       "    <tr>\n",
       "      <th>3</th>\n",
       "      <td>iJLyR</td>\n",
       "      <td>-0.032172</td>\n",
       "      <td>0.139033</td>\n",
       "      <td>2.978566</td>\n",
       "      <td>168.620776</td>\n",
       "    </tr>\n",
       "    <tr>\n",
       "      <th>4</th>\n",
       "      <td>Xdl7t</td>\n",
       "      <td>1.988431</td>\n",
       "      <td>0.155413</td>\n",
       "      <td>4.751769</td>\n",
       "      <td>154.036647</td>\n",
       "    </tr>\n",
       "  </tbody>\n",
       "</table>\n",
       "</div>"
      ],
      "text/plain": [
       "      id        f0        f1        f2     product\n",
       "0  txEyH  0.705745 -0.497823  1.221170  105.280062\n",
       "1  2acmU  1.334711 -0.340164  4.365080   73.037750\n",
       "2  409Wp  1.022732  0.151990  1.419926   85.265647\n",
       "3  iJLyR -0.032172  0.139033  2.978566  168.620776\n",
       "4  Xdl7t  1.988431  0.155413  4.751769  154.036647"
      ]
     },
     "metadata": {},
     "output_type": "display_data"
    },
    {
     "data": {
      "text/html": [
       "<div>\n",
       "<style scoped>\n",
       "    .dataframe tbody tr th:only-of-type {\n",
       "        vertical-align: middle;\n",
       "    }\n",
       "\n",
       "    .dataframe tbody tr th {\n",
       "        vertical-align: top;\n",
       "    }\n",
       "\n",
       "    .dataframe thead th {\n",
       "        text-align: right;\n",
       "    }\n",
       "</style>\n",
       "<table border=\"1\" class=\"dataframe\">\n",
       "  <thead>\n",
       "    <tr style=\"text-align: right;\">\n",
       "      <th></th>\n",
       "      <th>id</th>\n",
       "      <th>f0</th>\n",
       "      <th>f1</th>\n",
       "      <th>f2</th>\n",
       "      <th>product</th>\n",
       "    </tr>\n",
       "  </thead>\n",
       "  <tbody>\n",
       "    <tr>\n",
       "      <th>0</th>\n",
       "      <td>kBEdx</td>\n",
       "      <td>-15.001348</td>\n",
       "      <td>-8.276000</td>\n",
       "      <td>-0.005876</td>\n",
       "      <td>3.179103</td>\n",
       "    </tr>\n",
       "    <tr>\n",
       "      <th>1</th>\n",
       "      <td>62mP7</td>\n",
       "      <td>14.272088</td>\n",
       "      <td>-3.475083</td>\n",
       "      <td>0.999183</td>\n",
       "      <td>26.953261</td>\n",
       "    </tr>\n",
       "    <tr>\n",
       "      <th>2</th>\n",
       "      <td>vyE1P</td>\n",
       "      <td>6.263187</td>\n",
       "      <td>-5.948386</td>\n",
       "      <td>5.001160</td>\n",
       "      <td>134.766305</td>\n",
       "    </tr>\n",
       "    <tr>\n",
       "      <th>3</th>\n",
       "      <td>KcrkZ</td>\n",
       "      <td>-13.081196</td>\n",
       "      <td>-11.506057</td>\n",
       "      <td>4.999415</td>\n",
       "      <td>137.945408</td>\n",
       "    </tr>\n",
       "    <tr>\n",
       "      <th>4</th>\n",
       "      <td>AHL4O</td>\n",
       "      <td>12.702195</td>\n",
       "      <td>-8.147433</td>\n",
       "      <td>5.004363</td>\n",
       "      <td>134.766305</td>\n",
       "    </tr>\n",
       "  </tbody>\n",
       "</table>\n",
       "</div>"
      ],
      "text/plain": [
       "      id         f0         f1        f2     product\n",
       "0  kBEdx -15.001348  -8.276000 -0.005876    3.179103\n",
       "1  62mP7  14.272088  -3.475083  0.999183   26.953261\n",
       "2  vyE1P   6.263187  -5.948386  5.001160  134.766305\n",
       "3  KcrkZ -13.081196 -11.506057  4.999415  137.945408\n",
       "4  AHL4O  12.702195  -8.147433  5.004363  134.766305"
      ]
     },
     "metadata": {},
     "output_type": "display_data"
    },
    {
     "data": {
      "text/html": [
       "<div>\n",
       "<style scoped>\n",
       "    .dataframe tbody tr th:only-of-type {\n",
       "        vertical-align: middle;\n",
       "    }\n",
       "\n",
       "    .dataframe tbody tr th {\n",
       "        vertical-align: top;\n",
       "    }\n",
       "\n",
       "    .dataframe thead th {\n",
       "        text-align: right;\n",
       "    }\n",
       "</style>\n",
       "<table border=\"1\" class=\"dataframe\">\n",
       "  <thead>\n",
       "    <tr style=\"text-align: right;\">\n",
       "      <th></th>\n",
       "      <th>id</th>\n",
       "      <th>f0</th>\n",
       "      <th>f1</th>\n",
       "      <th>f2</th>\n",
       "      <th>product</th>\n",
       "    </tr>\n",
       "  </thead>\n",
       "  <tbody>\n",
       "    <tr>\n",
       "      <th>0</th>\n",
       "      <td>fwXo0</td>\n",
       "      <td>-1.146987</td>\n",
       "      <td>0.963328</td>\n",
       "      <td>-0.828965</td>\n",
       "      <td>27.758673</td>\n",
       "    </tr>\n",
       "    <tr>\n",
       "      <th>1</th>\n",
       "      <td>WJtFt</td>\n",
       "      <td>0.262778</td>\n",
       "      <td>0.269839</td>\n",
       "      <td>-2.530187</td>\n",
       "      <td>56.069697</td>\n",
       "    </tr>\n",
       "    <tr>\n",
       "      <th>2</th>\n",
       "      <td>ovLUW</td>\n",
       "      <td>0.194587</td>\n",
       "      <td>0.289035</td>\n",
       "      <td>-5.586433</td>\n",
       "      <td>62.871910</td>\n",
       "    </tr>\n",
       "    <tr>\n",
       "      <th>3</th>\n",
       "      <td>q6cA6</td>\n",
       "      <td>2.236060</td>\n",
       "      <td>-0.553760</td>\n",
       "      <td>0.930038</td>\n",
       "      <td>114.572842</td>\n",
       "    </tr>\n",
       "    <tr>\n",
       "      <th>4</th>\n",
       "      <td>WPMUX</td>\n",
       "      <td>-0.515993</td>\n",
       "      <td>1.716266</td>\n",
       "      <td>5.899011</td>\n",
       "      <td>149.600746</td>\n",
       "    </tr>\n",
       "  </tbody>\n",
       "</table>\n",
       "</div>"
      ],
      "text/plain": [
       "      id        f0        f1        f2     product\n",
       "0  fwXo0 -1.146987  0.963328 -0.828965   27.758673\n",
       "1  WJtFt  0.262778  0.269839 -2.530187   56.069697\n",
       "2  ovLUW  0.194587  0.289035 -5.586433   62.871910\n",
       "3  q6cA6  2.236060 -0.553760  0.930038  114.572842\n",
       "4  WPMUX -0.515993  1.716266  5.899011  149.600746"
      ]
     },
     "metadata": {},
     "output_type": "display_data"
    }
   ],
   "source": [
    "geo_1 = pd.read_csv('/datasets/geo_data_0.csv') # загрузим данные и посмотрим на них\n",
    "geo_2 = pd.read_csv('/datasets/geo_data_1.csv')\n",
    "geo_3 = pd.read_csv('/datasets/geo_data_2.csv')\n",
    "display(geo_1.head())\n",
    "display(geo_2.head())\n",
    "display(geo_3.head())"
   ]
  },
  {
   "cell_type": "code",
   "execution_count": 3,
   "metadata": {},
   "outputs": [
    {
     "name": "stdout",
     "output_type": "stream",
     "text": [
      "<class 'pandas.core.frame.DataFrame'>\n",
      "RangeIndex: 100000 entries, 0 to 99999\n",
      "Data columns (total 5 columns):\n",
      " #   Column   Non-Null Count   Dtype  \n",
      "---  ------   --------------   -----  \n",
      " 0   id       100000 non-null  object \n",
      " 1   f0       100000 non-null  float64\n",
      " 2   f1       100000 non-null  float64\n",
      " 3   f2       100000 non-null  float64\n",
      " 4   product  100000 non-null  float64\n",
      "dtypes: float64(4), object(1)\n",
      "memory usage: 3.8+ MB\n"
     ]
    }
   ],
   "source": [
    "geo_1.info()"
   ]
  },
  {
   "cell_type": "code",
   "execution_count": 4,
   "metadata": {},
   "outputs": [
    {
     "name": "stdout",
     "output_type": "stream",
     "text": [
      "<class 'pandas.core.frame.DataFrame'>\n",
      "RangeIndex: 100000 entries, 0 to 99999\n",
      "Data columns (total 5 columns):\n",
      " #   Column   Non-Null Count   Dtype  \n",
      "---  ------   --------------   -----  \n",
      " 0   id       100000 non-null  object \n",
      " 1   f0       100000 non-null  float64\n",
      " 2   f1       100000 non-null  float64\n",
      " 3   f2       100000 non-null  float64\n",
      " 4   product  100000 non-null  float64\n",
      "dtypes: float64(4), object(1)\n",
      "memory usage: 3.8+ MB\n"
     ]
    }
   ],
   "source": [
    "geo_2.info()"
   ]
  },
  {
   "cell_type": "code",
   "execution_count": 5,
   "metadata": {},
   "outputs": [
    {
     "name": "stdout",
     "output_type": "stream",
     "text": [
      "<class 'pandas.core.frame.DataFrame'>\n",
      "RangeIndex: 100000 entries, 0 to 99999\n",
      "Data columns (total 5 columns):\n",
      " #   Column   Non-Null Count   Dtype  \n",
      "---  ------   --------------   -----  \n",
      " 0   id       100000 non-null  object \n",
      " 1   f0       100000 non-null  float64\n",
      " 2   f1       100000 non-null  float64\n",
      " 3   f2       100000 non-null  float64\n",
      " 4   product  100000 non-null  float64\n",
      "dtypes: float64(4), object(1)\n",
      "memory usage: 3.8+ MB\n"
     ]
    }
   ],
   "source": [
    "geo_3.info()"
   ]
  },
  {
   "cell_type": "markdown",
   "metadata": {},
   "source": [
    "Судя по информации пропусков нет, но проверим."
   ]
  },
  {
   "cell_type": "code",
   "execution_count": 6,
   "metadata": {},
   "outputs": [
    {
     "name": "stdout",
     "output_type": "stream",
     "text": [
      "id         0\n",
      "f0         0\n",
      "f1         0\n",
      "f2         0\n",
      "product    0\n",
      "dtype: int64\n",
      "id         0\n",
      "f0         0\n",
      "f1         0\n",
      "f2         0\n",
      "product    0\n",
      "dtype: int64\n",
      "id         0\n",
      "f0         0\n",
      "f1         0\n",
      "f2         0\n",
      "product    0\n",
      "dtype: int64\n"
     ]
    }
   ],
   "source": [
    "print(geo_1.isna().sum())\n",
    "print(geo_2.isna().sum())\n",
    "print(geo_3.isna().sum())"
   ]
  },
  {
   "cell_type": "markdown",
   "metadata": {},
   "source": [
    "Пропусков нет и это хорошо, облегчает работу по предобработке данных.  Посмотрим на наличие явных дубликатов."
   ]
  },
  {
   "cell_type": "code",
   "execution_count": 7,
   "metadata": {},
   "outputs": [
    {
     "name": "stdout",
     "output_type": "stream",
     "text": [
      "0\n",
      "0\n",
      "0\n"
     ]
    }
   ],
   "source": [
    "print(geo_1.duplicated().sum())\n",
    "print(geo_2.duplicated().sum())\n",
    "print(geo_3.duplicated().sum())"
   ]
  },
  {
   "cell_type": "markdown",
   "metadata": {},
   "source": [
    "Явных дубликатов тоже нет. \n",
    "\n",
    "Посмотрим на гистограммы и числовые описания данных"
   ]
  },
  {
   "cell_type": "code",
   "execution_count": 8,
   "metadata": {},
   "outputs": [
    {
     "data": {
      "image/png": "[encoded data removed]",
      "text/plain": [
       "<Figure size 1080x1080 with 4 Axes>"
      ]
     },
     "metadata": {
      "needs_background": "light"
     },
     "output_type": "display_data"
    }
   ],
   "source": [
    "geo_1.hist(bins=50, figsize=(15,15));"
   ]
  },
  {
   "cell_type": "code",
   "execution_count": 9,
   "metadata": {},
   "outputs": [
    {
     "data": {
      "image/png": "[encoded data removed]",
      "text/plain": [
       "<Figure size 1080x1080 with 4 Axes>"
      ]
     },
     "metadata": {
      "needs_background": "light"
     },
     "output_type": "display_data"
    }
   ],
   "source": [
    "geo_2.hist(bins=50, figsize=(15,15));"
   ]
  },
  {
   "cell_type": "markdown",
   "metadata": {},
   "source": [
    "Не зная смысловой нагрузки признаков f0, f1, f2, смотреть на их гистограммы занятие так себе, но всё же у второго региона f2  и product(объём запасов в скважине (тыс. баррелей)) явно отличаются от остальных регионов. Данные как будто классифицированы и имеют схожие значения по количеству. Но с чем это связано мне лично не понятно, мало \"вводных\" в задании. "
   ]
  },
  {
   "cell_type": "code",
   "execution_count": 10,
   "metadata": {},
   "outputs": [
    {
     "data": {
      "image/png": "[encoded data removed]",
      "text/plain": [
       "<Figure size 1080x1080 with 4 Axes>"
      ]
     },
     "metadata": {
      "needs_background": "light"
     },
     "output_type": "display_data"
    }
   ],
   "source": [
    "geo_3.hist(bins=50, figsize=(15,15));"
   ]
  },
  {
   "cell_type": "code",
   "execution_count": 11,
   "metadata": {},
   "outputs": [
    {
     "data": {
      "text/html": [
       "<div>\n",
       "<style scoped>\n",
       "    .dataframe tbody tr th:only-of-type {\n",
       "        vertical-align: middle;\n",
       "    }\n",
       "\n",
       "    .dataframe tbody tr th {\n",
       "        vertical-align: top;\n",
       "    }\n",
       "\n",
       "    .dataframe thead th {\n",
       "        text-align: right;\n",
       "    }\n",
       "</style>\n",
       "<table border=\"1\" class=\"dataframe\">\n",
       "  <thead>\n",
       "    <tr style=\"text-align: right;\">\n",
       "      <th></th>\n",
       "      <th>f0</th>\n",
       "      <th>f1</th>\n",
       "      <th>f2</th>\n",
       "      <th>product</th>\n",
       "    </tr>\n",
       "  </thead>\n",
       "  <tbody>\n",
       "    <tr>\n",
       "      <th>count</th>\n",
       "      <td>100000.000000</td>\n",
       "      <td>100000.000000</td>\n",
       "      <td>100000.000000</td>\n",
       "      <td>100000.000000</td>\n",
       "    </tr>\n",
       "    <tr>\n",
       "      <th>mean</th>\n",
       "      <td>0.500419</td>\n",
       "      <td>0.250143</td>\n",
       "      <td>2.502647</td>\n",
       "      <td>92.500000</td>\n",
       "    </tr>\n",
       "    <tr>\n",
       "      <th>std</th>\n",
       "      <td>0.871832</td>\n",
       "      <td>0.504433</td>\n",
       "      <td>3.248248</td>\n",
       "      <td>44.288691</td>\n",
       "    </tr>\n",
       "    <tr>\n",
       "      <th>min</th>\n",
       "      <td>-1.408605</td>\n",
       "      <td>-0.848218</td>\n",
       "      <td>-12.088328</td>\n",
       "      <td>0.000000</td>\n",
       "    </tr>\n",
       "    <tr>\n",
       "      <th>25%</th>\n",
       "      <td>-0.072580</td>\n",
       "      <td>-0.200881</td>\n",
       "      <td>0.287748</td>\n",
       "      <td>56.497507</td>\n",
       "    </tr>\n",
       "    <tr>\n",
       "      <th>50%</th>\n",
       "      <td>0.502360</td>\n",
       "      <td>0.250252</td>\n",
       "      <td>2.515969</td>\n",
       "      <td>91.849972</td>\n",
       "    </tr>\n",
       "    <tr>\n",
       "      <th>75%</th>\n",
       "      <td>1.073581</td>\n",
       "      <td>0.700646</td>\n",
       "      <td>4.715088</td>\n",
       "      <td>128.564089</td>\n",
       "    </tr>\n",
       "    <tr>\n",
       "      <th>max</th>\n",
       "      <td>2.362331</td>\n",
       "      <td>1.343769</td>\n",
       "      <td>16.003790</td>\n",
       "      <td>185.364347</td>\n",
       "    </tr>\n",
       "  </tbody>\n",
       "</table>\n",
       "</div>"
      ],
      "text/plain": [
       "                  f0             f1             f2        product\n",
       "count  100000.000000  100000.000000  100000.000000  100000.000000\n",
       "mean        0.500419       0.250143       2.502647      92.500000\n",
       "std         0.871832       0.504433       3.248248      44.288691\n",
       "min        -1.408605      -0.848218     -12.088328       0.000000\n",
       "25%        -0.072580      -0.200881       0.287748      56.497507\n",
       "50%         0.502360       0.250252       2.515969      91.849972\n",
       "75%         1.073581       0.700646       4.715088     128.564089\n",
       "max         2.362331       1.343769      16.003790     185.364347"
      ]
     },
     "execution_count": 11,
     "metadata": {},
     "output_type": "execute_result"
    }
   ],
   "source": [
    "geo_1.describe()"
   ]
  },
  {
   "cell_type": "code",
   "execution_count": 12,
   "metadata": {},
   "outputs": [
    {
     "data": {
      "text/html": [
       "<div>\n",
       "<style scoped>\n",
       "    .dataframe tbody tr th:only-of-type {\n",
       "        vertical-align: middle;\n",
       "    }\n",
       "\n",
       "    .dataframe tbody tr th {\n",
       "        vertical-align: top;\n",
       "    }\n",
       "\n",
       "    .dataframe thead th {\n",
       "        text-align: right;\n",
       "    }\n",
       "</style>\n",
       "<table border=\"1\" class=\"dataframe\">\n",
       "  <thead>\n",
       "    <tr style=\"text-align: right;\">\n",
       "      <th></th>\n",
       "      <th>f0</th>\n",
       "      <th>f1</th>\n",
       "      <th>f2</th>\n",
       "      <th>product</th>\n",
       "    </tr>\n",
       "  </thead>\n",
       "  <tbody>\n",
       "    <tr>\n",
       "      <th>count</th>\n",
       "      <td>100000.000000</td>\n",
       "      <td>100000.000000</td>\n",
       "      <td>100000.000000</td>\n",
       "      <td>100000.000000</td>\n",
       "    </tr>\n",
       "    <tr>\n",
       "      <th>mean</th>\n",
       "      <td>1.141296</td>\n",
       "      <td>-4.796579</td>\n",
       "      <td>2.494541</td>\n",
       "      <td>68.825000</td>\n",
       "    </tr>\n",
       "    <tr>\n",
       "      <th>std</th>\n",
       "      <td>8.965932</td>\n",
       "      <td>5.119872</td>\n",
       "      <td>1.703572</td>\n",
       "      <td>45.944423</td>\n",
       "    </tr>\n",
       "    <tr>\n",
       "      <th>min</th>\n",
       "      <td>-31.609576</td>\n",
       "      <td>-26.358598</td>\n",
       "      <td>-0.018144</td>\n",
       "      <td>0.000000</td>\n",
       "    </tr>\n",
       "    <tr>\n",
       "      <th>25%</th>\n",
       "      <td>-6.298551</td>\n",
       "      <td>-8.267985</td>\n",
       "      <td>1.000021</td>\n",
       "      <td>26.953261</td>\n",
       "    </tr>\n",
       "    <tr>\n",
       "      <th>50%</th>\n",
       "      <td>1.153055</td>\n",
       "      <td>-4.813172</td>\n",
       "      <td>2.011479</td>\n",
       "      <td>57.085625</td>\n",
       "    </tr>\n",
       "    <tr>\n",
       "      <th>75%</th>\n",
       "      <td>8.621015</td>\n",
       "      <td>-1.332816</td>\n",
       "      <td>3.999904</td>\n",
       "      <td>107.813044</td>\n",
       "    </tr>\n",
       "    <tr>\n",
       "      <th>max</th>\n",
       "      <td>29.421755</td>\n",
       "      <td>18.734063</td>\n",
       "      <td>5.019721</td>\n",
       "      <td>137.945408</td>\n",
       "    </tr>\n",
       "  </tbody>\n",
       "</table>\n",
       "</div>"
      ],
      "text/plain": [
       "                  f0             f1             f2        product\n",
       "count  100000.000000  100000.000000  100000.000000  100000.000000\n",
       "mean        1.141296      -4.796579       2.494541      68.825000\n",
       "std         8.965932       5.119872       1.703572      45.944423\n",
       "min       -31.609576     -26.358598      -0.018144       0.000000\n",
       "25%        -6.298551      -8.267985       1.000021      26.953261\n",
       "50%         1.153055      -4.813172       2.011479      57.085625\n",
       "75%         8.621015      -1.332816       3.999904     107.813044\n",
       "max        29.421755      18.734063       5.019721     137.945408"
      ]
     },
     "execution_count": 12,
     "metadata": {},
     "output_type": "execute_result"
    }
   ],
   "source": [
    "geo_2.describe()"
   ]
  },
  {
   "cell_type": "code",
   "execution_count": 13,
   "metadata": {},
   "outputs": [
    {
     "data": {
      "text/html": [
       "<div>\n",
       "<style scoped>\n",
       "    .dataframe tbody tr th:only-of-type {\n",
       "        vertical-align: middle;\n",
       "    }\n",
       "\n",
       "    .dataframe tbody tr th {\n",
       "        vertical-align: top;\n",
       "    }\n",
       "\n",
       "    .dataframe thead th {\n",
       "        text-align: right;\n",
       "    }\n",
       "</style>\n",
       "<table border=\"1\" class=\"dataframe\">\n",
       "  <thead>\n",
       "    <tr style=\"text-align: right;\">\n",
       "      <th></th>\n",
       "      <th>f0</th>\n",
       "      <th>f1</th>\n",
       "      <th>f2</th>\n",
       "      <th>product</th>\n",
       "    </tr>\n",
       "  </thead>\n",
       "  <tbody>\n",
       "    <tr>\n",
       "      <th>count</th>\n",
       "      <td>100000.000000</td>\n",
       "      <td>100000.000000</td>\n",
       "      <td>100000.000000</td>\n",
       "      <td>100000.000000</td>\n",
       "    </tr>\n",
       "    <tr>\n",
       "      <th>mean</th>\n",
       "      <td>0.002023</td>\n",
       "      <td>-0.002081</td>\n",
       "      <td>2.495128</td>\n",
       "      <td>95.000000</td>\n",
       "    </tr>\n",
       "    <tr>\n",
       "      <th>std</th>\n",
       "      <td>1.732045</td>\n",
       "      <td>1.730417</td>\n",
       "      <td>3.473445</td>\n",
       "      <td>44.749921</td>\n",
       "    </tr>\n",
       "    <tr>\n",
       "      <th>min</th>\n",
       "      <td>-8.760004</td>\n",
       "      <td>-7.084020</td>\n",
       "      <td>-11.970335</td>\n",
       "      <td>0.000000</td>\n",
       "    </tr>\n",
       "    <tr>\n",
       "      <th>25%</th>\n",
       "      <td>-1.162288</td>\n",
       "      <td>-1.174820</td>\n",
       "      <td>0.130359</td>\n",
       "      <td>59.450441</td>\n",
       "    </tr>\n",
       "    <tr>\n",
       "      <th>50%</th>\n",
       "      <td>0.009424</td>\n",
       "      <td>-0.009482</td>\n",
       "      <td>2.484236</td>\n",
       "      <td>94.925613</td>\n",
       "    </tr>\n",
       "    <tr>\n",
       "      <th>75%</th>\n",
       "      <td>1.158535</td>\n",
       "      <td>1.163678</td>\n",
       "      <td>4.858794</td>\n",
       "      <td>130.595027</td>\n",
       "    </tr>\n",
       "    <tr>\n",
       "      <th>max</th>\n",
       "      <td>7.238262</td>\n",
       "      <td>7.844801</td>\n",
       "      <td>16.739402</td>\n",
       "      <td>190.029838</td>\n",
       "    </tr>\n",
       "  </tbody>\n",
       "</table>\n",
       "</div>"
      ],
      "text/plain": [
       "                  f0             f1             f2        product\n",
       "count  100000.000000  100000.000000  100000.000000  100000.000000\n",
       "mean        0.002023      -0.002081       2.495128      95.000000\n",
       "std         1.732045       1.730417       3.473445      44.749921\n",
       "min        -8.760004      -7.084020     -11.970335       0.000000\n",
       "25%        -1.162288      -1.174820       0.130359      59.450441\n",
       "50%         0.009424      -0.009482       2.484236      94.925613\n",
       "75%         1.158535       1.163678       4.858794     130.595027\n",
       "max         7.238262       7.844801      16.739402     190.029838"
      ]
     },
     "execution_count": 13,
     "metadata": {},
     "output_type": "execute_result"
    }
   ],
   "source": [
    "geo_3.describe()"
   ]
  },
  {
   "cell_type": "markdown",
   "metadata": {},
   "source": [
    "### Вывод"
   ]
  },
  {
   "cell_type": "markdown",
   "metadata": {},
   "source": [
    "Все три таблицы имеют одинаковую структуру и одинаковое количество данных (по 100 000).\n",
    "\n",
    "Пропуски и явные дубликаты в данных отсутствуют.\n",
    "\n",
    "Были выявлены \"странности\" на гистограммах f2 и product второго региона, но на сколько это важно пока не понятно.\n",
    "\n",
    "Признаки f0, f1, f2, product - количественные. Признак id - категориальный.\n",
    "\n",
    "Признак id (уникальный идентификатор скважины) не будет использоваться в исследование, поле можно удалить.\n"
   ]
  },
  {
   "cell_type": "markdown",
   "metadata": {},
   "source": [
    "## Обучение и проверка модели"
   ]
  },
  {
   "cell_type": "markdown",
   "metadata": {},
   "source": [
    "В качестве модели будет использоваться модель линейной регрессии.\n",
    "\n",
    "Данные будут делится на обучающую и валидационную выборки в соотношении 75:25.\n",
    "\n",
    "Признаки - f0, f1, f2.\n",
    "\n",
    "Целевой признак - product."
   ]
  },
  {
   "cell_type": "markdown",
   "metadata": {},
   "source": [
    "### Первый регион"
   ]
  },
  {
   "cell_type": "markdown",
   "metadata": {},
   "source": [
    "Для начала разбиваем данные на обучающие и целевые признаки, заодно удаляя лишний столбец."
   ]
  },
  {
   "cell_type": "code",
   "execution_count": 14,
   "metadata": {},
   "outputs": [],
   "source": [
    "features_geo_1 = geo_1.drop(['id', 'product'], axis=1)\n",
    "target_geo_1 = geo_1['product']"
   ]
  },
  {
   "cell_type": "markdown",
   "metadata": {},
   "source": [
    "Масштабируем"
   ]
  },
  {
   "cell_type": "code",
   "execution_count": 23,
   "metadata": {},
   "outputs": [],
   "source": [
    "def mashtab(features_train, features_valid):\n",
    "    numeric=['f0', 'f1', 'f2']\n",
    "    scaler = StandardScaler()\n",
    "    scaler.fit(features_train[numeric]) \n",
    "    features_train[numeric] = scaler.transform(features_train[numeric])\n",
    "    features_valid[numeric] = scaler.transform(features_valid[numeric])\n",
    "    return features_train, features_valid"
   ]
  },
  {
   "cell_type": "markdown",
   "metadata": {},
   "source": [
    "Разделим их на обучающие и валидационную в соотношении 75:25"
   ]
  },
  {
   "cell_type": "code",
   "execution_count": 24,
   "metadata": {},
   "outputs": [
    {
     "name": "stdout",
     "output_type": "stream",
     "text": [
      "количество строк в features_train_geo_1:  75000\n",
      "количество строк в target_train_geo_1:  75000\n",
      "количество строк в features_valid_geo_1:  25000\n",
      "количество строк в target_valid_geo_1:  25000\n"
     ]
    }
   ],
   "source": [
    "features_train_geo_1, features_valid_geo_1, target_train_geo_1, target_valid_geo_1  = train_test_split(\n",
    "    features_geo_1, \n",
    "    target_geo_1, \n",
    "    train_size=0.75, random_state=12345)\n",
    "\n",
    "\n",
    "# Сразу посмотрим на правильность разделения\n",
    "print('количество строк в features_train_geo_1: ', features_train_geo_1.shape[0])\n",
    "print('количество строк в target_train_geo_1: ', target_train_geo_1.shape[0])\n",
    "print('количество строк в features_valid_geo_1: ', features_valid_geo_1.shape[0])\n",
    "print('количество строк в target_valid_geo_1: ', target_valid_geo_1.shape[0])"
   ]
  },
  {
   "cell_type": "markdown",
   "metadata": {},
   "source": [
    "Обучим модель и найдем среднее значение предсказанных запасов, а также среднюю квадратичную ошибку"
   ]
  },
  {
   "cell_type": "code",
   "execution_count": 25,
   "metadata": {},
   "outputs": [
    {
     "name": "stdout",
     "output_type": "stream",
     "text": [
      "Средний запас предсказанного сырья: 92.593 (тыс. барелей)\n",
      "Среднеквадратическая ошибка RMSE: 37.58\n"
     ]
    },
    {
     "name": "stderr",
     "output_type": "stream",
     "text": [
      "/tmp/ipykernel_31/1171278908.py:5: SettingWithCopyWarning: \n",
      "A value is trying to be set on a copy of a slice from a DataFrame.\n",
      "Try using .loc[row_indexer,col_indexer] = value instead\n",
      "\n",
      "See the caveats in the documentation: https://pandas.pydata.org/pandas-docs/stable/user_guide/indexing.html#returning-a-view-versus-a-copy\n",
      "  features_train[numeric] = scaler.transform(features_train[numeric])\n",
      "/opt/conda/lib/python3.9/site-packages/pandas/core/indexing.py:1637: SettingWithCopyWarning: \n",
      "A value is trying to be set on a copy of a slice from a DataFrame\n",
      "\n",
      "See the caveats in the documentation: https://pandas.pydata.org/pandas-docs/stable/user_guide/indexing.html#returning-a-view-versus-a-copy\n",
      "  self._setitem_single_block(indexer, value, name)\n",
      "/opt/conda/lib/python3.9/site-packages/pandas/core/indexing.py:692: SettingWithCopyWarning: \n",
      "A value is trying to be set on a copy of a slice from a DataFrame\n",
      "\n",
      "See the caveats in the documentation: https://pandas.pydata.org/pandas-docs/stable/user_guide/indexing.html#returning-a-view-versus-a-copy\n",
      "  iloc._setitem_with_indexer(indexer, value, self.name)\n",
      "/tmp/ipykernel_31/1171278908.py:6: SettingWithCopyWarning: \n",
      "A value is trying to be set on a copy of a slice from a DataFrame.\n",
      "Try using .loc[row_indexer,col_indexer] = value instead\n",
      "\n",
      "See the caveats in the documentation: https://pandas.pydata.org/pandas-docs/stable/user_guide/indexing.html#returning-a-view-versus-a-copy\n",
      "  features_valid[numeric] = scaler.transform(features_valid[numeric])\n",
      "/opt/conda/lib/python3.9/site-packages/pandas/core/indexing.py:1637: SettingWithCopyWarning: \n",
      "A value is trying to be set on a copy of a slice from a DataFrame\n",
      "\n",
      "See the caveats in the documentation: https://pandas.pydata.org/pandas-docs/stable/user_guide/indexing.html#returning-a-view-versus-a-copy\n",
      "  self._setitem_single_block(indexer, value, name)\n",
      "/opt/conda/lib/python3.9/site-packages/pandas/core/indexing.py:692: SettingWithCopyWarning: \n",
      "A value is trying to be set on a copy of a slice from a DataFrame\n",
      "\n",
      "See the caveats in the documentation: https://pandas.pydata.org/pandas-docs/stable/user_guide/indexing.html#returning-a-view-versus-a-copy\n",
      "  iloc._setitem_with_indexer(indexer, value, self.name)\n"
     ]
    }
   ],
   "source": [
    "features_train_geo_1, features_valid_geo_1 = mashtab(features_train_geo_1, features_valid_geo_1)\n",
    "\n",
    "model = LinearRegression()\n",
    "model.fit(features_train_geo_1, target_train_geo_1)\n",
    "predicted_valid_1 = model.predict(features_valid_geo_1)\n",
    "mean_prediction_1 = predicted_valid_1.mean()\n",
    "mse_1 = mean_squared_error(target_valid_geo_1, predicted_valid_1)\n",
    "rmse_1 = mse_1**0.5\n",
    "location = 'Первый регион'\n",
    "\n",
    "#Создаю таблицу для удобства просмотра резуультатов\n",
    "tablo = [[location, round(mean_prediction_1, 3), round(rmse_1, 2)]]\n",
    "results = pd.DataFrame(tablo, columns=[\"Геолокация\", \"Средний запас\", \"Среднеквадратичная ошибка\"])\n",
    "\n",
    "\n",
    "\n",
    "print('Средний запас предсказанного сырья:', round(mean_prediction_1, 3), '(тыс. барелей)')\n",
    "print('Среднеквадратическая ошибка RMSE:', round(rmse_1, 2))"
   ]
  },
  {
   "cell_type": "markdown",
   "metadata": {},
   "source": [
    "### Второй регион"
   ]
  },
  {
   "cell_type": "markdown",
   "metadata": {},
   "source": [
    "Сделаем всё по аналогии как с первым регионом"
   ]
  },
  {
   "cell_type": "code",
   "execution_count": 27,
   "metadata": {},
   "outputs": [
    {
     "name": "stdout",
     "output_type": "stream",
     "text": [
      "Средний запас предсказанного сырья: 68.729 (тыс. барелей)\n",
      "Среднеквадратическая ошибка RMSE: 0.89\n"
     ]
    },
    {
     "name": "stderr",
     "output_type": "stream",
     "text": [
      "/tmp/ipykernel_31/1171278908.py:5: SettingWithCopyWarning: \n",
      "A value is trying to be set on a copy of a slice from a DataFrame.\n",
      "Try using .loc[row_indexer,col_indexer] = value instead\n",
      "\n",
      "See the caveats in the documentation: https://pandas.pydata.org/pandas-docs/stable/user_guide/indexing.html#returning-a-view-versus-a-copy\n",
      "  features_train[numeric] = scaler.transform(features_train[numeric])\n",
      "/opt/conda/lib/python3.9/site-packages/pandas/core/indexing.py:1637: SettingWithCopyWarning: \n",
      "A value is trying to be set on a copy of a slice from a DataFrame\n",
      "\n",
      "See the caveats in the documentation: https://pandas.pydata.org/pandas-docs/stable/user_guide/indexing.html#returning-a-view-versus-a-copy\n",
      "  self._setitem_single_block(indexer, value, name)\n",
      "/opt/conda/lib/python3.9/site-packages/pandas/core/indexing.py:692: SettingWithCopyWarning: \n",
      "A value is trying to be set on a copy of a slice from a DataFrame\n",
      "\n",
      "See the caveats in the documentation: https://pandas.pydata.org/pandas-docs/stable/user_guide/indexing.html#returning-a-view-versus-a-copy\n",
      "  iloc._setitem_with_indexer(indexer, value, self.name)\n",
      "/tmp/ipykernel_31/1171278908.py:6: SettingWithCopyWarning: \n",
      "A value is trying to be set on a copy of a slice from a DataFrame.\n",
      "Try using .loc[row_indexer,col_indexer] = value instead\n",
      "\n",
      "See the caveats in the documentation: https://pandas.pydata.org/pandas-docs/stable/user_guide/indexing.html#returning-a-view-versus-a-copy\n",
      "  features_valid[numeric] = scaler.transform(features_valid[numeric])\n",
      "/opt/conda/lib/python3.9/site-packages/pandas/core/indexing.py:1637: SettingWithCopyWarning: \n",
      "A value is trying to be set on a copy of a slice from a DataFrame\n",
      "\n",
      "See the caveats in the documentation: https://pandas.pydata.org/pandas-docs/stable/user_guide/indexing.html#returning-a-view-versus-a-copy\n",
      "  self._setitem_single_block(indexer, value, name)\n",
      "/opt/conda/lib/python3.9/site-packages/pandas/core/indexing.py:692: SettingWithCopyWarning: \n",
      "A value is trying to be set on a copy of a slice from a DataFrame\n",
      "\n",
      "See the caveats in the documentation: https://pandas.pydata.org/pandas-docs/stable/user_guide/indexing.html#returning-a-view-versus-a-copy\n",
      "  iloc._setitem_with_indexer(indexer, value, self.name)\n"
     ]
    }
   ],
   "source": [
    "features_geo_2 = geo_2.drop(['id', 'product'], axis=1)\n",
    "target_geo_2 = geo_2['product']\n",
    "\n",
    "\n",
    "features_train_geo_2, features_valid_geo_2, target_train_geo_2, target_valid_geo_2  = train_test_split(\n",
    "    features_geo_2, \n",
    "    target_geo_2, \n",
    "    train_size=0.75, random_state=12345)\n",
    "\n",
    "features_train_geo_2, features_valid_geo_2 = mashtab(features_train_geo_2, features_valid_geo_2)\n",
    "\n",
    "model = LinearRegression()\n",
    "model.fit(features_train_geo_2, target_train_geo_2)\n",
    "predicted_valid_2 = model.predict(features_valid_geo_2)\n",
    "mean_prediction_2 = predicted_valid_2.mean()\n",
    "mse_2 = mean_squared_error(target_valid_geo_2, predicted_valid_2)\n",
    "rmse_2 = mse_2**0.5\n",
    "location = 'Второй регион'\n",
    "\n",
    "new_index = {\"Геолокация\":location, \"Средний запас\":round(mean_prediction_2, 3), \"Среднеквадратичная ошибка\":round(rmse_2, 2)}\n",
    "results = results.append(new_index, ignore_index=True)\n",
    "\n",
    "print('Средний запас предсказанного сырья:', round(mean_prediction_2, 3), '(тыс. барелей)')\n",
    "print('Среднеквадратическая ошибка RMSE:', round(rmse_2, 2))"
   ]
  },
  {
   "cell_type": "markdown",
   "metadata": {},
   "source": [
    "### Третий регион"
   ]
  },
  {
   "cell_type": "markdown",
   "metadata": {},
   "source": [
    "Полная аналогия с предыдущими"
   ]
  },
  {
   "cell_type": "code",
   "execution_count": 28,
   "metadata": {},
   "outputs": [
    {
     "name": "stdout",
     "output_type": "stream",
     "text": [
      "Средний запас предсказанного сырья: 94.965 (тыс. барелей)\n",
      "Среднеквадратическая ошибка RMSE: 40.03\n"
     ]
    },
    {
     "name": "stderr",
     "output_type": "stream",
     "text": [
      "/tmp/ipykernel_31/1171278908.py:5: SettingWithCopyWarning: \n",
      "A value is trying to be set on a copy of a slice from a DataFrame.\n",
      "Try using .loc[row_indexer,col_indexer] = value instead\n",
      "\n",
      "See the caveats in the documentation: https://pandas.pydata.org/pandas-docs/stable/user_guide/indexing.html#returning-a-view-versus-a-copy\n",
      "  features_train[numeric] = scaler.transform(features_train[numeric])\n",
      "/opt/conda/lib/python3.9/site-packages/pandas/core/indexing.py:1637: SettingWithCopyWarning: \n",
      "A value is trying to be set on a copy of a slice from a DataFrame\n",
      "\n",
      "See the caveats in the documentation: https://pandas.pydata.org/pandas-docs/stable/user_guide/indexing.html#returning-a-view-versus-a-copy\n",
      "  self._setitem_single_block(indexer, value, name)\n",
      "/opt/conda/lib/python3.9/site-packages/pandas/core/indexing.py:692: SettingWithCopyWarning: \n",
      "A value is trying to be set on a copy of a slice from a DataFrame\n",
      "\n",
      "See the caveats in the documentation: https://pandas.pydata.org/pandas-docs/stable/user_guide/indexing.html#returning-a-view-versus-a-copy\n",
      "  iloc._setitem_with_indexer(indexer, value, self.name)\n",
      "/tmp/ipykernel_31/1171278908.py:6: SettingWithCopyWarning: \n",
      "A value is trying to be set on a copy of a slice from a DataFrame.\n",
      "Try using .loc[row_indexer,col_indexer] = value instead\n",
      "\n",
      "See the caveats in the documentation: https://pandas.pydata.org/pandas-docs/stable/user_guide/indexing.html#returning-a-view-versus-a-copy\n",
      "  features_valid[numeric] = scaler.transform(features_valid[numeric])\n",
      "/opt/conda/lib/python3.9/site-packages/pandas/core/indexing.py:1637: SettingWithCopyWarning: \n",
      "A value is trying to be set on a copy of a slice from a DataFrame\n",
      "\n",
      "See the caveats in the documentation: https://pandas.pydata.org/pandas-docs/stable/user_guide/indexing.html#returning-a-view-versus-a-copy\n",
      "  self._setitem_single_block(indexer, value, name)\n",
      "/opt/conda/lib/python3.9/site-packages/pandas/core/indexing.py:692: SettingWithCopyWarning: \n",
      "A value is trying to be set on a copy of a slice from a DataFrame\n",
      "\n",
      "See the caveats in the documentation: https://pandas.pydata.org/pandas-docs/stable/user_guide/indexing.html#returning-a-view-versus-a-copy\n",
      "  iloc._setitem_with_indexer(indexer, value, self.name)\n"
     ]
    }
   ],
   "source": [
    "features_geo_3 = geo_3.drop(['id', 'product'], axis=1)\n",
    "target_geo_3 = geo_3['product']\n",
    "\n",
    "\n",
    "features_train_geo_3, features_valid_geo_3, target_train_geo_3, target_valid_geo_3  = train_test_split(\n",
    "    features_geo_3, \n",
    "    target_geo_3, \n",
    "    train_size=0.75, random_state=12345)\n",
    "\n",
    "features_train_geo_3, features_valid_geo_3 = mashtab(features_train_geo_3, features_valid_geo_3)\n",
    "\n",
    "model = LinearRegression()\n",
    "model.fit(features_train_geo_3, target_train_geo_3)\n",
    "predicted_valid_3 = model.predict(features_valid_geo_3)\n",
    "mean_prediction_3 = predicted_valid_3.mean()\n",
    "mse_3 = mean_squared_error(target_valid_geo_3, predicted_valid_3)\n",
    "rmse_3 = mse_3**0.5\n",
    "\n",
    "location = 'Третий регион'\n",
    "\n",
    "new_index = {\"Геолокация\":location, \"Средний запас\":round(mean_prediction_3, 3), \"Среднеквадратичная ошибка\":round(rmse_3, 2)}\n",
    "results = results.append(new_index, ignore_index=True)\n",
    "\n",
    "print('Средний запас предсказанного сырья:', round(mean_prediction_3, 3), '(тыс. барелей)')\n",
    "print('Среднеквадратическая ошибка RMSE:', round(rmse_3, 2))"
   ]
  },
  {
   "cell_type": "markdown",
   "metadata": {},
   "source": [
    "### Вывод"
   ]
  },
  {
   "cell_type": "markdown",
   "metadata": {},
   "source": [
    "Взглянем на результаты"
   ]
  },
  {
   "cell_type": "code",
   "execution_count": 29,
   "metadata": {},
   "outputs": [
    {
     "data": {
      "text/html": [
       "<div>\n",
       "<style scoped>\n",
       "    .dataframe tbody tr th:only-of-type {\n",
       "        vertical-align: middle;\n",
       "    }\n",
       "\n",
       "    .dataframe tbody tr th {\n",
       "        vertical-align: top;\n",
       "    }\n",
       "\n",
       "    .dataframe thead th {\n",
       "        text-align: right;\n",
       "    }\n",
       "</style>\n",
       "<table border=\"1\" class=\"dataframe\">\n",
       "  <thead>\n",
       "    <tr style=\"text-align: right;\">\n",
       "      <th></th>\n",
       "      <th>Геолокация</th>\n",
       "      <th>Средний запас</th>\n",
       "      <th>Среднеквадратичная ошибка</th>\n",
       "    </tr>\n",
       "  </thead>\n",
       "  <tbody>\n",
       "    <tr>\n",
       "      <th>0</th>\n",
       "      <td>Первый регион</td>\n",
       "      <td>92.593</td>\n",
       "      <td>37.58</td>\n",
       "    </tr>\n",
       "    <tr>\n",
       "      <th>1</th>\n",
       "      <td>Второй регион</td>\n",
       "      <td>68.729</td>\n",
       "      <td>0.89</td>\n",
       "    </tr>\n",
       "    <tr>\n",
       "      <th>2</th>\n",
       "      <td>Третий регион</td>\n",
       "      <td>94.965</td>\n",
       "      <td>40.03</td>\n",
       "    </tr>\n",
       "  </tbody>\n",
       "</table>\n",
       "</div>"
      ],
      "text/plain": [
       "      Геолокация  Средний запас  Среднеквадратичная ошибка\n",
       "0  Первый регион         92.593                      37.58\n",
       "1  Второй регион         68.729                       0.89\n",
       "2  Третий регион         94.965                      40.03"
      ]
     },
     "execution_count": 29,
     "metadata": {},
     "output_type": "execute_result"
    }
   ],
   "source": [
    "results"
   ]
  },
  {
   "cell_type": "markdown",
   "metadata": {},
   "source": [
    "Самый высокий показатель среднего запаса пресказанного сырья 94.965 у третьего региона, но здесь довольно высокое значение среднеквадратической ошибки RMSE равное 40,03.\n",
    "\n",
    "У Первого региона показатели немного ниже, чем у Третьего региона, но по соотношению здесь ситуация аналогичная Третьему региону - довольно высокая RMSE.\n",
    "\n",
    "У Второго региона показатель среднего запаса предсказанного сырья 68,729 самый низкий, но значение среднеквадратической ошибки RMSE всего 0,89, т.е. разброс значений гораздо меньше, чем у Первого и Третьего регионов.\n",
    "\n",
    "Исходя из полученных значений, предварительно можно сказать, что Второй регион является самым предсказуемым для разработки, т.к. предсказанное значение запаса сырья во всех его скважинах примерно одинаковое."
   ]
  },
  {
   "cell_type": "markdown",
   "metadata": {},
   "source": [
    "## Подготовка к расчёту прибыли"
   ]
  },
  {
   "cell_type": "markdown",
   "metadata": {},
   "source": [
    "###  Все ключевые значения для расчётов сохраненный в отдельные переменные "
   ]
  },
  {
   "cell_type": "code",
   "execution_count": 30,
   "metadata": {},
   "outputs": [],
   "source": [
    "number_of_points = 500    # число точек, которое исследуют при разведке региона\n",
    "best_points = 200  # число лучших точек для разработки\n",
    "budget = 10**10          # бюджет на разработку скважин в регионе в рублях\n",
    "income_per_item = 450000  # доход с каждой единицы продукта в рублях\n",
    "risk = 0.025             # максимальная вероятность убытков "
   ]
  },
  {
   "cell_type": "markdown",
   "metadata": {},
   "source": [
    "### Рассчет достаточного объёма сырья для безубыточной разработки новой скважины."
   ]
  },
  {
   "cell_type": "code",
   "execution_count": 31,
   "metadata": {},
   "outputs": [
    {
     "name": "stdout",
     "output_type": "stream",
     "text": [
      "111.111 тыс. баррелей\n"
     ]
    }
   ],
   "source": [
    "min_product = budget / (best_points * income_per_item)\n",
    "print(round(min_product, 3), 'тыс. баррелей')"
   ]
  },
  {
   "cell_type": "markdown",
   "metadata": {},
   "source": [
    "###  Вывод"
   ]
  },
  {
   "cell_type": "markdown",
   "metadata": {},
   "source": [
    "Достаточный объём сырья для безубыточной разработки новой скважины составляет 111 тыс. барелей. Рассчитанный объём сырья превышает средние значения запасов скважин во всех исследуемых регионах."
   ]
  },
  {
   "cell_type": "markdown",
   "metadata": {},
   "source": [
    "## Расчёт прибыли и рисков "
   ]
  },
  {
   "cell_type": "markdown",
   "metadata": {},
   "source": [
    "### Расчет валовой прибыли 200 лучших скважин регионов"
   ]
  },
  {
   "cell_type": "markdown",
   "metadata": {},
   "source": [
    "Составим функцию для расчета валовой прибыли 200 лучших скважин регионов. "
   ]
  },
  {
   "cell_type": "code",
   "execution_count": 32,
   "metadata": {},
   "outputs": [],
   "source": [
    "def revenue(target, probabilities, count):\n",
    "    target = target.reset_index(drop=True)\n",
    "    probabilities = pd.Series(probabilities)\n",
    "    probs_sorted = probabilities.sort_values(ascending=False)\n",
    "    selected = (target[probs_sorted.index][:count]) * income_per_item\n",
    "    return selected.sum() - budget\n"
   ]
  },
  {
   "cell_type": "code",
   "execution_count": 33,
   "metadata": {},
   "outputs": [
    {
     "name": "stdout",
     "output_type": "stream",
     "text": [
      "Валовая прибыль с 200 лучших скважин в Первом регионе: 3 320 826 043 руб.\n",
      "Валовая прибыль с 200 лучших скважин во Втором регионе: 2 415 086 696 руб.\n",
      "Валовая прибыль с 200 лучших скважин в Третьем регионе: 2 710 349 963 руб.\n"
     ]
    }
   ],
   "source": [
    "print(\"Валовая прибыль с 200 лучших скважин в Первом регионе:\",\n",
    "      '{0:,}'.format(int(revenue(target_valid_geo_1, predicted_valid_1, best_points))).replace(',', ' '), 'руб.')\n",
    "print(\"Валовая прибыль с 200 лучших скважин во Втором регионе:\",\n",
    "      '{0:,}'.format(int(revenue(target_valid_geo_2, predicted_valid_2, best_points))).replace(',', ' '), 'руб.')\n",
    "print(\"Валовая прибыль с 200 лучших скважин в Третьем регионе:\",\n",
    "      '{0:,}'.format(int(revenue(target_valid_geo_3, predicted_valid_3, best_points))).replace(',', ' '), 'руб.')"
   ]
  },
  {
   "cell_type": "markdown",
   "metadata": {},
   "source": [
    "По валовой прибыли, Первый регион лидирует с хорошим отрывом от остальных, показав 3,32 млрд рублей."
   ]
  },
  {
   "cell_type": "markdown",
   "metadata": {},
   "source": [
    "### Расчет прибыли и рисков"
   ]
  },
  {
   "cell_type": "markdown",
   "metadata": {},
   "source": [
    "Составим функцию для расчета рисков и средней прибыли для регионов. Для работы применим технику Bootstrap с 1000 выюорок. \n"
   ]
  },
  {
   "cell_type": "code",
   "execution_count": 44,
   "metadata": {},
   "outputs": [],
   "source": [
    "def bootstrap(data):\n",
    "\n",
    "    features = data.drop(['id', 'product'], axis=1)    # разделение на целевой и обучающие признаки\n",
    "    target = data['product']\n",
    "\n",
    "    features_train, features_valid, target_train, target_valid = train_test_split(\n",
    "        features, \n",
    "        target,                                      #разделение на валидационные и обучающие выборки\n",
    "        train_size=0.75, random_state=12345)\n",
    "    \n",
    "    features_train, features_valid = mashtab(features_train, features_valid)\n",
    "    \n",
    "    target_valid = target_valid.reset_index(drop=True)\n",
    "    \n",
    "    model = LinearRegression()          # Обучаю модель \n",
    "    model.fit(features_train, target_train)\n",
    "    predictions = pd.Series(model.predict(features_valid))\n",
    "   \n",
    "    state = np.random.RandomState(12345) \n",
    "    profits = []            # пустой список для внесения значений выручки\n",
    "    \n",
    "    for i in range(1000):\n",
    "        target_subsample = target_valid.sample(n=number_of_points, replace=True, random_state=state)  # 500 случайных ответов\n",
    "        probs_subsample = predictions[target_subsample.index]     # 500 предсказаний соответсвующие 500 случайных ответов\n",
    "        \n",
    "        pred_sorted = probs_subsample.sort_values(ascending=False)  #сортировка по убыванию выбранных 500 предсказаний\n",
    "        selected = target_subsample[pred_sorted.index][:best_points] #выборка 200 ответов по отсортированным предсказаниям\n",
    "        \n",
    "        result = income_per_item * selected.sum() - budget  # Валовая прибыль\n",
    "        profits.append(result) \n",
    "                  \n",
    "    profits = pd.Series(profits)\n",
    "    damages_probability = (profits < 0).mean()     # вероятность убытков\n",
    "    \n",
    "    # 95%-й доверительный интервал\n",
    "    confidence_interval = (profits.quantile(0.025), profits.quantile(0.975))\n",
    "    \n",
    "    print('Средняя валовая прибыль:', '{0:,}'.format(int(profits.mean())).replace(',', ' '), 'руб.')\n",
    "    print('95%-й доверительный интевал для валовой прибыли (руб.):', confidence_interval)\n",
    "    print(\"Вероятность убытков: {:.1%}\".format(damages_probability)) \n",
    "\n",
    "    if damages_probability < risk:\n",
    "        print('Вероятность убытков ниже установленного порога')\n",
    "    elif damages_probability == risk:\n",
    "        print('Вероятность убытков равна установленному порогу')\n",
    "    else:\n",
    "        print('Вероятность убытков выше установленного порога')"
   ]
  },
  {
   "cell_type": "markdown",
   "metadata": {},
   "source": [
    "Посчитал, что функция, в которую просто закидываешь таблицу, а в ответ получаешь готовые ответы гораздо лучше. \n",
    "\n",
    "Ниже идет второй вариант функции,\n",
    "\n",
    "а в самом низу готовые ответы из второго варианта функции. "
   ]
  },
  {
   "cell_type": "code",
   "execution_count": 56,
   "metadata": {},
   "outputs": [],
   "source": [
    "def bootstrap_tp(target_valid, predictions):\n",
    "    \n",
    "    target_valid = target_valid.reset_index(drop=True)\n",
    "\n",
    "    predictions = pd.Series(predictions, index=target_valid.index)\n",
    "    state = np.random.RandomState(12345) \n",
    "    profits = []            # пустой список для внесения значений выручки\n",
    "    \n",
    "    for i in range(1000):\n",
    "        target_subsample = target_valid.sample(n=number_of_points, replace=True, random_state=state)  # 500 случайных ответов\n",
    "        probs_subsample = predictions[target_subsample.index]     # 500 предсказаний соответсвующие 500 случайных ответов\n",
    "        \n",
    "        pred_sorted = probs_subsample.sort_values(ascending=False)  #сортировка по убыванию выбранных 500 предсказаний\n",
    "        selected = target_subsample[pred_sorted.index][:best_points] #выборка 200 ответов по отсортированным предсказаниям\n",
    "        \n",
    "        result = income_per_item * selected.sum() - budget  # Валовая прибыль\n",
    "        profits.append(result) \n",
    "                  \n",
    "    profits = pd.Series(profits)\n",
    "    damages_probability = (profits < 0).mean()     # вероятность убытков\n",
    "    \n",
    "    # 95%-й доверительный интервал\n",
    "    confidence_interval = (profits.quantile(0.025), profits.quantile(0.975))\n",
    "    \n",
    "    print('Средняя валовая прибыль:', '{0:,}'.format(int(profits.mean())).replace(',', ' '), 'руб.')\n",
    "    print('95%-й доверительный интевал для валовой прибыли (руб.):', confidence_interval)\n",
    "    print(\"Вероятность убытков: {:.1%}\".format(damages_probability)) \n",
    "\n",
    "    if damages_probability < risk:\n",
    "        print('Вероятность убытков ниже установленного порога')\n",
    "    elif damages_probability == risk:\n",
    "        print('Вероятность убытков равна установленному порогу')\n",
    "    else:\n",
    "        print('Вероятность убытков выше установленного порога')"
   ]
  },
  {
   "cell_type": "markdown",
   "metadata": {},
   "source": [
    "Первый регион:"
   ]
  },
  {
   "cell_type": "code",
   "execution_count": 52,
   "metadata": {},
   "outputs": [
    {
     "name": "stderr",
     "output_type": "stream",
     "text": [
      "/tmp/ipykernel_31/1171278908.py:5: SettingWithCopyWarning: \n",
      "A value is trying to be set on a copy of a slice from a DataFrame.\n",
      "Try using .loc[row_indexer,col_indexer] = value instead\n",
      "\n",
      "See the caveats in the documentation: https://pandas.pydata.org/pandas-docs/stable/user_guide/indexing.html#returning-a-view-versus-a-copy\n",
      "  features_train[numeric] = scaler.transform(features_train[numeric])\n",
      "/opt/conda/lib/python3.9/site-packages/pandas/core/indexing.py:1637: SettingWithCopyWarning: \n",
      "A value is trying to be set on a copy of a slice from a DataFrame\n",
      "\n",
      "See the caveats in the documentation: https://pandas.pydata.org/pandas-docs/stable/user_guide/indexing.html#returning-a-view-versus-a-copy\n",
      "  self._setitem_single_block(indexer, value, name)\n",
      "/opt/conda/lib/python3.9/site-packages/pandas/core/indexing.py:692: SettingWithCopyWarning: \n",
      "A value is trying to be set on a copy of a slice from a DataFrame\n",
      "\n",
      "See the caveats in the documentation: https://pandas.pydata.org/pandas-docs/stable/user_guide/indexing.html#returning-a-view-versus-a-copy\n",
      "  iloc._setitem_with_indexer(indexer, value, self.name)\n",
      "/tmp/ipykernel_31/1171278908.py:6: SettingWithCopyWarning: \n",
      "A value is trying to be set on a copy of a slice from a DataFrame.\n",
      "Try using .loc[row_indexer,col_indexer] = value instead\n",
      "\n",
      "See the caveats in the documentation: https://pandas.pydata.org/pandas-docs/stable/user_guide/indexing.html#returning-a-view-versus-a-copy\n",
      "  features_valid[numeric] = scaler.transform(features_valid[numeric])\n",
      "/opt/conda/lib/python3.9/site-packages/pandas/core/indexing.py:1637: SettingWithCopyWarning: \n",
      "A value is trying to be set on a copy of a slice from a DataFrame\n",
      "\n",
      "See the caveats in the documentation: https://pandas.pydata.org/pandas-docs/stable/user_guide/indexing.html#returning-a-view-versus-a-copy\n",
      "  self._setitem_single_block(indexer, value, name)\n",
      "/opt/conda/lib/python3.9/site-packages/pandas/core/indexing.py:692: SettingWithCopyWarning: \n",
      "A value is trying to be set on a copy of a slice from a DataFrame\n",
      "\n",
      "See the caveats in the documentation: https://pandas.pydata.org/pandas-docs/stable/user_guide/indexing.html#returning-a-view-versus-a-copy\n",
      "  iloc._setitem_with_indexer(indexer, value, self.name)\n"
     ]
    },
    {
     "name": "stdout",
     "output_type": "stream",
     "text": [
      "Средняя валовая прибыль: 425 938 526 руб.\n",
      "95%-й доверительный интевал для валовой прибыли (руб.): (-102090094.83793654, 947976353.3583689)\n",
      "Вероятность убытков: 6.0%\n",
      "Вероятность убытков выше установленного порога\n"
     ]
    }
   ],
   "source": [
    "bootstrap(geo_1)"
   ]
  },
  {
   "cell_type": "markdown",
   "metadata": {},
   "source": [
    "Второй регион"
   ]
  },
  {
   "cell_type": "code",
   "execution_count": 53,
   "metadata": {},
   "outputs": [
    {
     "name": "stderr",
     "output_type": "stream",
     "text": [
      "/tmp/ipykernel_31/1171278908.py:5: SettingWithCopyWarning: \n",
      "A value is trying to be set on a copy of a slice from a DataFrame.\n",
      "Try using .loc[row_indexer,col_indexer] = value instead\n",
      "\n",
      "See the caveats in the documentation: https://pandas.pydata.org/pandas-docs/stable/user_guide/indexing.html#returning-a-view-versus-a-copy\n",
      "  features_train[numeric] = scaler.transform(features_train[numeric])\n",
      "/opt/conda/lib/python3.9/site-packages/pandas/core/indexing.py:1637: SettingWithCopyWarning: \n",
      "A value is trying to be set on a copy of a slice from a DataFrame\n",
      "\n",
      "See the caveats in the documentation: https://pandas.pydata.org/pandas-docs/stable/user_guide/indexing.html#returning-a-view-versus-a-copy\n",
      "  self._setitem_single_block(indexer, value, name)\n",
      "/opt/conda/lib/python3.9/site-packages/pandas/core/indexing.py:692: SettingWithCopyWarning: \n",
      "A value is trying to be set on a copy of a slice from a DataFrame\n",
      "\n",
      "See the caveats in the documentation: https://pandas.pydata.org/pandas-docs/stable/user_guide/indexing.html#returning-a-view-versus-a-copy\n",
      "  iloc._setitem_with_indexer(indexer, value, self.name)\n",
      "/tmp/ipykernel_31/1171278908.py:6: SettingWithCopyWarning: \n",
      "A value is trying to be set on a copy of a slice from a DataFrame.\n",
      "Try using .loc[row_indexer,col_indexer] = value instead\n",
      "\n",
      "See the caveats in the documentation: https://pandas.pydata.org/pandas-docs/stable/user_guide/indexing.html#returning-a-view-versus-a-copy\n",
      "  features_valid[numeric] = scaler.transform(features_valid[numeric])\n",
      "/opt/conda/lib/python3.9/site-packages/pandas/core/indexing.py:1637: SettingWithCopyWarning: \n",
      "A value is trying to be set on a copy of a slice from a DataFrame\n",
      "\n",
      "See the caveats in the documentation: https://pandas.pydata.org/pandas-docs/stable/user_guide/indexing.html#returning-a-view-versus-a-copy\n",
      "  self._setitem_single_block(indexer, value, name)\n",
      "/opt/conda/lib/python3.9/site-packages/pandas/core/indexing.py:692: SettingWithCopyWarning: \n",
      "A value is trying to be set on a copy of a slice from a DataFrame\n",
      "\n",
      "See the caveats in the documentation: https://pandas.pydata.org/pandas-docs/stable/user_guide/indexing.html#returning-a-view-versus-a-copy\n",
      "  iloc._setitem_with_indexer(indexer, value, self.name)\n"
     ]
    },
    {
     "name": "stdout",
     "output_type": "stream",
     "text": [
      "Средняя валовая прибыль: 515 222 773 руб.\n",
      "95%-й доверительный интевал для валовой прибыли (руб.): (68873225.37050176, 931547591.2570494)\n",
      "Вероятность убытков: 1.0%\n",
      "Вероятность убытков ниже установленного порога\n"
     ]
    }
   ],
   "source": [
    "bootstrap(geo_2)"
   ]
  },
  {
   "cell_type": "markdown",
   "metadata": {},
   "source": [
    "Третий регион"
   ]
  },
  {
   "cell_type": "code",
   "execution_count": 54,
   "metadata": {},
   "outputs": [
    {
     "name": "stderr",
     "output_type": "stream",
     "text": [
      "/tmp/ipykernel_31/1171278908.py:5: SettingWithCopyWarning: \n",
      "A value is trying to be set on a copy of a slice from a DataFrame.\n",
      "Try using .loc[row_indexer,col_indexer] = value instead\n",
      "\n",
      "See the caveats in the documentation: https://pandas.pydata.org/pandas-docs/stable/user_guide/indexing.html#returning-a-view-versus-a-copy\n",
      "  features_train[numeric] = scaler.transform(features_train[numeric])\n",
      "/opt/conda/lib/python3.9/site-packages/pandas/core/indexing.py:1637: SettingWithCopyWarning: \n",
      "A value is trying to be set on a copy of a slice from a DataFrame\n",
      "\n",
      "See the caveats in the documentation: https://pandas.pydata.org/pandas-docs/stable/user_guide/indexing.html#returning-a-view-versus-a-copy\n",
      "  self._setitem_single_block(indexer, value, name)\n",
      "/opt/conda/lib/python3.9/site-packages/pandas/core/indexing.py:692: SettingWithCopyWarning: \n",
      "A value is trying to be set on a copy of a slice from a DataFrame\n",
      "\n",
      "See the caveats in the documentation: https://pandas.pydata.org/pandas-docs/stable/user_guide/indexing.html#returning-a-view-versus-a-copy\n",
      "  iloc._setitem_with_indexer(indexer, value, self.name)\n",
      "/tmp/ipykernel_31/1171278908.py:6: SettingWithCopyWarning: \n",
      "A value is trying to be set on a copy of a slice from a DataFrame.\n",
      "Try using .loc[row_indexer,col_indexer] = value instead\n",
      "\n",
      "See the caveats in the documentation: https://pandas.pydata.org/pandas-docs/stable/user_guide/indexing.html#returning-a-view-versus-a-copy\n",
      "  features_valid[numeric] = scaler.transform(features_valid[numeric])\n",
      "/opt/conda/lib/python3.9/site-packages/pandas/core/indexing.py:1637: SettingWithCopyWarning: \n",
      "A value is trying to be set on a copy of a slice from a DataFrame\n",
      "\n",
      "See the caveats in the documentation: https://pandas.pydata.org/pandas-docs/stable/user_guide/indexing.html#returning-a-view-versus-a-copy\n",
      "  self._setitem_single_block(indexer, value, name)\n",
      "/opt/conda/lib/python3.9/site-packages/pandas/core/indexing.py:692: SettingWithCopyWarning: \n",
      "A value is trying to be set on a copy of a slice from a DataFrame\n",
      "\n",
      "See the caveats in the documentation: https://pandas.pydata.org/pandas-docs/stable/user_guide/indexing.html#returning-a-view-versus-a-copy\n",
      "  iloc._setitem_with_indexer(indexer, value, self.name)\n"
     ]
    },
    {
     "name": "stdout",
     "output_type": "stream",
     "text": [
      "Средняя валовая прибыль: 435 008 362 руб.\n",
      "95%-й доверительный интевал для валовой прибыли (руб.): (-128880547.32978901, 969706954.1802661)\n",
      "Вероятность убытков: 6.4%\n",
      "Вероятность убытков выше установленного порога\n"
     ]
    }
   ],
   "source": [
    "bootstrap(geo_3)"
   ]
  },
  {
   "cell_type": "code",
   "execution_count": 58,
   "metadata": {},
   "outputs": [
    {
     "name": "stdout",
     "output_type": "stream",
     "text": [
      "Средняя валовая прибыль: 425 938 526 руб.\n",
      "95%-й доверительный интевал для валовой прибыли (руб.): (-102090094.83793654, 947976353.3583689)\n",
      "Вероятность убытков: 6.0%\n",
      "Вероятность убытков выше установленного порога\n"
     ]
    }
   ],
   "source": [
    "bootstrap_tp(target_valid_geo_1, predicted_valid_1)"
   ]
  },
  {
   "cell_type": "code",
   "execution_count": 59,
   "metadata": {},
   "outputs": [
    {
     "name": "stdout",
     "output_type": "stream",
     "text": [
      "Средняя валовая прибыль: 515 222 773 руб.\n",
      "95%-й доверительный интевал для валовой прибыли (руб.): (68873225.37050176, 931547591.2570494)\n",
      "Вероятность убытков: 1.0%\n",
      "Вероятность убытков ниже установленного порога\n"
     ]
    }
   ],
   "source": [
    "bootstrap_tp(target_valid_geo_2, predicted_valid_2)"
   ]
  },
  {
   "cell_type": "code",
   "execution_count": 60,
   "metadata": {},
   "outputs": [
    {
     "name": "stdout",
     "output_type": "stream",
     "text": [
      "Средняя валовая прибыль: 435 008 362 руб.\n",
      "95%-й доверительный интевал для валовой прибыли (руб.): (-128880547.32978901, 969706954.1802661)\n",
      "Вероятность убытков: 6.4%\n",
      "Вероятность убытков выше установленного порога\n"
     ]
    }
   ],
   "source": [
    "bootstrap_tp(target_valid_geo_3, predicted_valid_3)"
   ]
  },
  {
   "cell_type": "markdown",
   "metadata": {},
   "source": [
    "### Вывод"
   ]
  },
  {
   "cell_type": "markdown",
   "metadata": {},
   "source": [
    "Из всех регионов, только у Второго вероятность убытка ниже установленного заказчиком порога в 2,5%, а также имеет самую большую среднюю валовую прибыль из всех. Соответсвенно, рекомендуемый регион для инвестирования является именно Второй регион. "
   ]
  },
  {
   "cell_type": "markdown",
   "metadata": {},
   "source": [
    "## Общий вывод"
   ]
  },
  {
   "cell_type": "markdown",
   "metadata": {},
   "source": [
    "В ходе проекта были исследованы данные о пробах нефти в трех регионах с целью анализа возможной прибыли и рисков.\n",
    "\n",
    "Для построения модели, которая предсказывает объём запасов в скважинах, был использован алгоритм линейной регрессии (LinearRegression). Данные были разбиты на обучающую и валидационную выборки в соотношении 75:25.\n",
    "\n",
    "Для каждого региона были рассчитаны средний запас предсказанного сырья и среднеквадратическая ошибка RMSE. По полученным результатам было сделано предположение, что Второй регион является самым предсказуемым для разработки, т.к. предсказанное значение запаса сырья во всех его скважинах примерно одинаковое, среднеквадратическая ошибка RMSE меньше единицы.\n",
    "\n",
    "Были подготовлены необходимые переменные с ключевыми значениями для расчётов. Также был рассчитан минимальный объем запасов в скважине, необходимый для безубыточной работы. Оказалось, что рассчитанный минимальный объем превышает средние значения запасов скважин во всех исследуемых регионах.\n",
    "\n",
    "Была рассчитана максимальная валовая прибыль с 200 лучших скважин для каждого региона. Расчет показал, что наибольшую валовую прибыль размером 3,32 млрд. рублей можно получить в Первом регионе. Далее была применена техника Bootstrap для поиска распределения прибыли. Т.о. была рассчитана средняя валовая прибыль, 95%-й доверительный интевал для валовой прибыли и вероятность убытков.\n",
    "\n",
    "Исходя из результатов исследования, был сделан вывод, что самым выгодным регионом для разработки скважин является Второй регион с показателем средней валовой прибыли 515 222 773 руб. и вероятностью убытков 1,0%."
   ]
  }
 ],
 "metadata": {
  "ExecuteTimeLog": [
   {
    "duration": 463,
    "start_time": "2023-03-20T05:23:13.895Z"
   },
   {
    "duration": 735,
    "start_time": "2023-03-20T05:26:19.003Z"
   },
   {
    "duration": 456,
    "start_time": "2023-03-20T05:29:38.293Z"
   },
   {
    "duration": 475,
    "start_time": "2023-03-20T05:30:47.611Z"
   },
   {
    "duration": 399,
    "start_time": "2023-03-20T05:57:26.108Z"
   },
   {
    "duration": 14,
    "start_time": "2023-03-20T05:58:20.212Z"
   },
   {
    "duration": 16,
    "start_time": "2023-03-20T05:58:42.011Z"
   },
   {
    "duration": 21,
    "start_time": "2023-03-20T05:58:55.297Z"
   },
   {
    "duration": 14,
    "start_time": "2023-03-20T05:59:00.473Z"
   },
   {
    "duration": 38,
    "start_time": "2023-03-20T06:00:15.312Z"
   },
   {
    "duration": 848,
    "start_time": "2023-03-20T06:00:58.962Z"
   },
   {
    "duration": 878,
    "start_time": "2023-03-20T06:01:39.361Z"
   },
   {
    "duration": 2478,
    "start_time": "2023-03-20T06:03:04.267Z"
   },
   {
    "duration": 774,
    "start_time": "2023-03-20T06:03:28.581Z"
   },
   {
    "duration": 710,
    "start_time": "2023-03-20T06:03:45.226Z"
   },
   {
    "duration": 879,
    "start_time": "2023-03-20T06:04:15.703Z"
   },
   {
    "duration": 734,
    "start_time": "2023-03-20T06:05:23.078Z"
   },
   {
    "duration": 37,
    "start_time": "2023-03-20T06:07:20.571Z"
   },
   {
    "duration": 42,
    "start_time": "2023-03-20T06:07:32.533Z"
   },
   {
    "duration": 13,
    "start_time": "2023-03-20T06:11:26.791Z"
   },
   {
    "duration": 26,
    "start_time": "2023-03-20T06:12:00.257Z"
   },
   {
    "duration": 44,
    "start_time": "2023-03-20T06:14:03.503Z"
   },
   {
    "duration": 127,
    "start_time": "2023-03-20T06:14:37.737Z"
   },
   {
    "duration": 146,
    "start_time": "2023-03-20T06:16:30.555Z"
   },
   {
    "duration": 431,
    "start_time": "2023-03-20T06:41:34.517Z"
   },
   {
    "duration": 78,
    "start_time": "2023-03-20T07:09:25.769Z"
   },
   {
    "duration": 11,
    "start_time": "2023-03-20T07:09:37.738Z"
   },
   {
    "duration": 9,
    "start_time": "2023-03-20T07:14:55.796Z"
   },
   {
    "duration": 9,
    "start_time": "2023-03-20T07:15:10.438Z"
   },
   {
    "duration": 5,
    "start_time": "2023-03-20T07:15:33.972Z"
   },
   {
    "duration": 10,
    "start_time": "2023-03-20T08:21:16.022Z"
   },
   {
    "duration": 1261,
    "start_time": "2023-03-20T08:21:41.269Z"
   },
   {
    "duration": 17,
    "start_time": "2023-03-20T08:21:48.430Z"
   },
   {
    "duration": 15,
    "start_time": "2023-03-20T08:22:02.448Z"
   },
   {
    "duration": 20,
    "start_time": "2023-03-20T08:22:46.212Z"
   },
   {
    "duration": 17,
    "start_time": "2023-03-20T08:23:04.326Z"
   },
   {
    "duration": 15,
    "start_time": "2023-03-20T08:23:18.902Z"
   },
   {
    "duration": 28,
    "start_time": "2023-03-20T08:24:02.411Z"
   },
   {
    "duration": 54,
    "start_time": "2023-03-20T08:25:57.674Z"
   },
   {
    "duration": 17,
    "start_time": "2023-03-20T08:26:16.937Z"
   },
   {
    "duration": 15,
    "start_time": "2023-03-20T08:26:56.599Z"
   },
   {
    "duration": 13,
    "start_time": "2023-03-20T08:29:24.958Z"
   },
   {
    "duration": 4,
    "start_time": "2023-03-20T09:05:26.259Z"
   },
   {
    "duration": 13,
    "start_time": "2023-03-20T09:05:32.812Z"
   },
   {
    "duration": 26,
    "start_time": "2023-03-20T09:06:35.612Z"
   },
   {
    "duration": 105,
    "start_time": "2023-03-20T09:06:41.809Z"
   },
   {
    "duration": 15,
    "start_time": "2023-03-20T09:07:17.736Z"
   },
   {
    "duration": 215,
    "start_time": "2023-03-20T09:14:30.469Z"
   },
   {
    "duration": 18,
    "start_time": "2023-03-20T09:16:49.954Z"
   },
   {
    "duration": 51,
    "start_time": "2023-03-20T09:17:10.359Z"
   },
   {
    "duration": 171,
    "start_time": "2023-03-20T09:19:30.212Z"
   },
   {
    "duration": 76,
    "start_time": "2023-03-20T09:19:48.105Z"
   },
   {
    "duration": 55,
    "start_time": "2023-03-20T09:19:53.055Z"
   },
   {
    "duration": 45,
    "start_time": "2023-03-20T09:19:55.147Z"
   },
   {
    "duration": 106,
    "start_time": "2023-03-20T09:43:01.019Z"
   },
   {
    "duration": 164,
    "start_time": "2023-03-20T09:43:12.517Z"
   },
   {
    "duration": 75,
    "start_time": "2023-03-20T09:43:34.267Z"
   },
   {
    "duration": 234,
    "start_time": "2023-03-20T09:47:25.127Z"
   },
   {
    "duration": 88,
    "start_time": "2023-03-20T09:48:17.608Z"
   },
   {
    "duration": 161,
    "start_time": "2023-03-20T09:48:19.522Z"
   },
   {
    "duration": 63,
    "start_time": "2023-03-20T09:48:42.626Z"
   },
   {
    "duration": 20,
    "start_time": "2023-03-20T09:49:07.639Z"
   },
   {
    "duration": 83,
    "start_time": "2023-03-20T09:49:09.710Z"
   },
   {
    "duration": 32,
    "start_time": "2023-03-20T09:50:14.917Z"
   },
   {
    "duration": 86,
    "start_time": "2023-03-20T09:50:30.394Z"
   },
   {
    "duration": 16,
    "start_time": "2023-03-20T09:50:47.519Z"
   },
   {
    "duration": 18,
    "start_time": "2023-03-20T09:50:48.246Z"
   },
   {
    "duration": 31,
    "start_time": "2023-03-20T09:50:50.006Z"
   },
   {
    "duration": 105,
    "start_time": "2023-03-20T09:50:51.182Z"
   },
   {
    "duration": 10,
    "start_time": "2023-03-20T09:52:06.849Z"
   },
   {
    "duration": 12,
    "start_time": "2023-03-20T10:45:11.506Z"
   },
   {
    "duration": 3,
    "start_time": "2023-03-20T10:45:15.915Z"
   },
   {
    "duration": 5,
    "start_time": "2023-03-20T10:45:18.545Z"
   },
   {
    "duration": 4,
    "start_time": "2023-03-20T10:49:53.341Z"
   },
   {
    "duration": 3,
    "start_time": "2023-03-20T10:50:23.114Z"
   },
   {
    "duration": 4,
    "start_time": "2023-03-20T10:50:30.287Z"
   },
   {
    "duration": 3,
    "start_time": "2023-03-20T11:55:18.013Z"
   },
   {
    "duration": 13,
    "start_time": "2023-03-20T12:22:26.845Z"
   },
   {
    "duration": 173,
    "start_time": "2023-03-20T12:22:52.206Z"
   },
   {
    "duration": 3,
    "start_time": "2023-03-20T12:23:53.516Z"
   },
   {
    "duration": 1623,
    "start_time": "2023-03-20T12:23:58.445Z"
   },
   {
    "duration": 1510,
    "start_time": "2023-03-20T12:24:33.180Z"
   },
   {
    "duration": 8,
    "start_time": "2023-03-20T12:37:02.270Z"
   },
   {
    "duration": 23,
    "start_time": "2023-03-20T12:38:19.977Z"
   },
   {
    "duration": 7,
    "start_time": "2023-03-20T12:39:23.528Z"
   },
   {
    "duration": 1581,
    "start_time": "2023-03-20T12:39:24.738Z"
   },
   {
    "duration": 7,
    "start_time": "2023-03-20T13:13:39.838Z"
   },
   {
    "duration": 1709,
    "start_time": "2023-03-20T13:13:41.310Z"
   },
   {
    "duration": 2,
    "start_time": "2023-03-20T13:14:03.438Z"
   },
   {
    "duration": 5,
    "start_time": "2023-03-20T13:14:04.130Z"
   },
   {
    "duration": 3,
    "start_time": "2023-03-20T13:14:05.692Z"
   },
   {
    "duration": 8,
    "start_time": "2023-03-20T13:14:06.811Z"
   },
   {
    "duration": 9,
    "start_time": "2023-03-20T13:14:07.269Z"
   },
   {
    "duration": 1660,
    "start_time": "2023-03-20T13:14:24.955Z"
   },
   {
    "duration": 5,
    "start_time": "2023-03-20T13:24:41.362Z"
   },
   {
    "duration": 10,
    "start_time": "2023-03-20T13:28:49.117Z"
   },
   {
    "duration": 16,
    "start_time": "2023-03-20T13:29:22.441Z"
   },
   {
    "duration": 3,
    "start_time": "2023-03-20T13:31:09.752Z"
   },
   {
    "duration": 39,
    "start_time": "2023-03-20T13:31:12.531Z"
   },
   {
    "duration": 4,
    "start_time": "2023-03-20T13:35:12.787Z"
   },
   {
    "duration": 60,
    "start_time": "2023-03-20T13:35:12.793Z"
   },
   {
    "duration": 4,
    "start_time": "2023-03-20T13:37:13.810Z"
   },
   {
    "duration": 28,
    "start_time": "2023-03-20T13:37:14.124Z"
   },
   {
    "duration": 72,
    "start_time": "2023-03-20T13:37:28.048Z"
   },
   {
    "duration": 25,
    "start_time": "2023-03-20T13:37:28.845Z"
   },
   {
    "duration": 3,
    "start_time": "2023-03-20T13:37:40.922Z"
   },
   {
    "duration": 24,
    "start_time": "2023-03-20T13:37:41.446Z"
   },
   {
    "duration": 3,
    "start_time": "2023-03-20T13:38:46.378Z"
   },
   {
    "duration": 13,
    "start_time": "2023-03-20T13:38:47.277Z"
   },
   {
    "duration": 3,
    "start_time": "2023-03-20T13:46:07.717Z"
   },
   {
    "duration": 13,
    "start_time": "2023-03-20T13:46:09.115Z"
   },
   {
    "duration": 3,
    "start_time": "2023-03-20T13:46:47.901Z"
   },
   {
    "duration": 30,
    "start_time": "2023-03-20T13:46:49.412Z"
   },
   {
    "duration": 9,
    "start_time": "2023-03-20T13:49:13.710Z"
   },
   {
    "duration": 4,
    "start_time": "2023-03-20T13:49:13.950Z"
   },
   {
    "duration": 3,
    "start_time": "2023-03-20T13:50:06.601Z"
   },
   {
    "duration": 6,
    "start_time": "2023-03-20T13:50:06.848Z"
   },
   {
    "duration": 3,
    "start_time": "2023-03-20T13:50:34.560Z"
   },
   {
    "duration": 8,
    "start_time": "2023-03-20T13:50:34.879Z"
   },
   {
    "duration": 3,
    "start_time": "2023-03-20T13:51:36.346Z"
   },
   {
    "duration": 7,
    "start_time": "2023-03-20T13:51:36.629Z"
   },
   {
    "duration": 3,
    "start_time": "2023-03-20T13:52:14.646Z"
   },
   {
    "duration": 24,
    "start_time": "2023-03-20T13:52:15.158Z"
   },
   {
    "duration": 7,
    "start_time": "2023-03-20T13:57:47.952Z"
   },
   {
    "duration": 1563,
    "start_time": "2023-03-20T13:57:49.120Z"
   },
   {
    "duration": 3,
    "start_time": "2023-03-20T14:00:23.241Z"
   },
   {
    "duration": 9,
    "start_time": "2023-03-20T14:00:23.825Z"
   },
   {
    "duration": 7,
    "start_time": "2023-03-20T14:06:02.955Z"
   },
   {
    "duration": 14,
    "start_time": "2023-03-20T14:06:03.319Z"
   },
   {
    "duration": 4,
    "start_time": "2023-03-20T14:06:21.851Z"
   },
   {
    "duration": 11,
    "start_time": "2023-03-20T14:06:22.044Z"
   },
   {
    "duration": 4,
    "start_time": "2023-03-20T14:06:36.636Z"
   },
   {
    "duration": 8,
    "start_time": "2023-03-20T14:06:36.965Z"
   },
   {
    "duration": 4,
    "start_time": "2023-03-20T14:08:23.492Z"
   },
   {
    "duration": 10,
    "start_time": "2023-03-20T14:08:23.793Z"
   },
   {
    "duration": 3,
    "start_time": "2023-03-20T14:16:34.425Z"
   },
   {
    "duration": 9,
    "start_time": "2023-03-20T14:16:34.664Z"
   },
   {
    "duration": 23,
    "start_time": "2023-03-20T14:20:41.294Z"
   },
   {
    "duration": 4,
    "start_time": "2023-03-20T14:20:45.337Z"
   },
   {
    "duration": 26,
    "start_time": "2023-03-20T14:20:45.665Z"
   },
   {
    "duration": 4,
    "start_time": "2023-03-20T14:27:32.367Z"
   },
   {
    "duration": 28,
    "start_time": "2023-03-20T14:27:32.588Z"
   },
   {
    "duration": 9,
    "start_time": "2023-03-20T14:44:07.029Z"
   },
   {
    "duration": 1626,
    "start_time": "2023-03-20T14:45:49.874Z"
   },
   {
    "duration": 1535,
    "start_time": "2023-03-20T14:46:29.828Z"
   },
   {
    "duration": 1615,
    "start_time": "2023-03-20T14:50:19.788Z"
   },
   {
    "duration": 129,
    "start_time": "2023-03-20T14:51:24.835Z"
   },
   {
    "duration": 1606,
    "start_time": "2023-03-20T14:51:25.767Z"
   },
   {
    "duration": 7,
    "start_time": "2023-03-20T14:51:55.945Z"
   },
   {
    "duration": 1608,
    "start_time": "2023-03-20T14:51:57.482Z"
   },
   {
    "duration": 10,
    "start_time": "2023-03-20T14:52:19.110Z"
   },
   {
    "duration": 1694,
    "start_time": "2023-03-20T14:52:19.983Z"
   },
   {
    "duration": 1589,
    "start_time": "2023-03-20T14:52:23.896Z"
   },
   {
    "duration": 1589,
    "start_time": "2023-03-20T14:52:25.487Z"
   },
   {
    "duration": 10,
    "start_time": "2023-03-20T15:10:05.490Z"
   },
   {
    "duration": 3,
    "start_time": "2023-03-20T15:11:20.078Z"
   },
   {
    "duration": 15,
    "start_time": "2023-03-20T15:11:27.300Z"
   },
   {
    "duration": 15,
    "start_time": "2023-03-20T15:11:39.199Z"
   },
   {
    "duration": 14,
    "start_time": "2023-03-20T15:12:07.488Z"
   },
   {
    "duration": 23,
    "start_time": "2023-03-20T15:12:11.314Z"
   },
   {
    "duration": 17,
    "start_time": "2023-03-20T15:12:32.511Z"
   },
   {
    "duration": 14,
    "start_time": "2023-03-20T15:12:33.100Z"
   },
   {
    "duration": 17,
    "start_time": "2023-03-20T15:12:34.208Z"
   },
   {
    "duration": 70,
    "start_time": "2023-03-20T15:12:38.928Z"
   },
   {
    "duration": 77,
    "start_time": "2023-03-20T15:13:19.125Z"
   },
   {
    "duration": 47,
    "start_time": "2023-03-20T15:13:49.179Z"
   },
   {
    "duration": 9,
    "start_time": "2023-03-20T15:13:53.646Z"
   },
   {
    "duration": 3,
    "start_time": "2023-03-20T15:21:33.878Z"
   },
   {
    "duration": 447,
    "start_time": "2023-03-20T15:21:34.761Z"
   },
   {
    "duration": 24,
    "start_time": "2023-03-20T15:21:35.211Z"
   },
   {
    "duration": 17,
    "start_time": "2023-03-20T15:21:35.358Z"
   },
   {
    "duration": 17,
    "start_time": "2023-03-20T15:21:35.450Z"
   },
   {
    "duration": 23,
    "start_time": "2023-03-20T15:21:35.910Z"
   },
   {
    "duration": 120,
    "start_time": "2023-03-20T15:21:36.319Z"
   },
   {
    "duration": 944,
    "start_time": "2023-03-20T15:21:36.826Z"
   },
   {
    "duration": 683,
    "start_time": "2023-03-20T15:21:37.772Z"
   },
   {
    "duration": 736,
    "start_time": "2023-03-20T15:21:38.457Z"
   },
   {
    "duration": 34,
    "start_time": "2023-03-20T15:21:39.197Z"
   },
   {
    "duration": 32,
    "start_time": "2023-03-20T15:21:39.233Z"
   },
   {
    "duration": 59,
    "start_time": "2023-03-20T15:21:39.267Z"
   },
   {
    "duration": 5,
    "start_time": "2023-03-20T15:21:42.850Z"
   },
   {
    "duration": 16,
    "start_time": "2023-03-20T15:21:44.359Z"
   },
   {
    "duration": 14,
    "start_time": "2023-03-20T15:22:20.442Z"
   },
   {
    "duration": 22,
    "start_time": "2023-03-20T15:22:21.075Z"
   },
   {
    "duration": 45,
    "start_time": "2023-03-20T15:22:21.954Z"
   },
   {
    "duration": 49,
    "start_time": "2023-03-20T15:22:22.748Z"
   },
   {
    "duration": 9,
    "start_time": "2023-03-20T15:22:23.567Z"
   },
   {
    "duration": 3,
    "start_time": "2023-03-20T15:22:24.558Z"
   },
   {
    "duration": 4,
    "start_time": "2023-03-20T15:22:25.054Z"
   },
   {
    "duration": 3,
    "start_time": "2023-03-20T15:22:26.565Z"
   },
   {
    "duration": 21,
    "start_time": "2023-03-20T15:22:26.904Z"
   },
   {
    "duration": 8,
    "start_time": "2023-03-20T15:22:29.063Z"
   },
   {
    "duration": 1560,
    "start_time": "2023-03-20T15:22:30.250Z"
   },
   {
    "duration": 1637,
    "start_time": "2023-03-20T15:22:31.812Z"
   },
   {
    "duration": 1565,
    "start_time": "2023-03-20T15:22:33.451Z"
   },
   {
    "duration": 1226,
    "start_time": "2023-03-21T10:36:20.188Z"
   },
   {
    "duration": 2125,
    "start_time": "2023-03-21T10:36:22.031Z"
   },
   {
    "duration": 29,
    "start_time": "2023-03-21T10:36:24.158Z"
   },
   {
    "duration": 19,
    "start_time": "2023-03-21T10:36:24.191Z"
   },
   {
    "duration": 16,
    "start_time": "2023-03-21T10:36:24.212Z"
   },
   {
    "duration": 22,
    "start_time": "2023-03-21T10:36:24.815Z"
   },
   {
    "duration": 151,
    "start_time": "2023-03-21T10:36:25.996Z"
   },
   {
    "duration": 1344,
    "start_time": "2023-03-21T10:36:27.280Z"
   },
   {
    "duration": 908,
    "start_time": "2023-03-21T10:36:28.626Z"
   },
   {
    "duration": 795,
    "start_time": "2023-03-21T10:36:29.536Z"
   },
   {
    "duration": 54,
    "start_time": "2023-03-21T10:36:30.333Z"
   },
   {
    "duration": 39,
    "start_time": "2023-03-21T10:36:30.389Z"
   },
   {
    "duration": 35,
    "start_time": "2023-03-21T10:36:32.221Z"
   },
   {
    "duration": 4,
    "start_time": "2023-03-21T10:36:43.150Z"
   },
   {
    "duration": 8,
    "start_time": "2023-03-21T10:36:44.326Z"
   },
   {
    "duration": 123,
    "start_time": "2023-03-21T10:36:47.742Z"
   },
   {
    "duration": 13,
    "start_time": "2023-03-21T10:37:00.238Z"
   },
   {
    "duration": 20,
    "start_time": "2023-03-21T10:37:08.973Z"
   },
   {
    "duration": 3,
    "start_time": "2023-03-21T10:37:25.219Z"
   },
   {
    "duration": 17,
    "start_time": "2023-03-21T10:37:27.117Z"
   },
   {
    "duration": 28,
    "start_time": "2023-03-21T10:37:28.984Z"
   },
   {
    "duration": 24,
    "start_time": "2023-03-21T10:38:06.488Z"
   },
   {
    "duration": 5,
    "start_time": "2023-03-21T10:41:34.291Z"
   },
   {
    "duration": 14,
    "start_time": "2023-03-21T10:41:35.990Z"
   },
   {
    "duration": 176,
    "start_time": "2023-03-21T10:41:37.498Z"
   },
   {
    "duration": 20,
    "start_time": "2023-03-21T10:42:53.920Z"
   },
   {
    "duration": 82,
    "start_time": "2023-03-21T10:43:10.984Z"
   },
   {
    "duration": 71,
    "start_time": "2023-03-21T10:43:45.994Z"
   },
   {
    "duration": 9,
    "start_time": "2023-03-21T10:43:51.834Z"
   },
   {
    "duration": 4,
    "start_time": "2023-03-21T10:44:16.141Z"
   },
   {
    "duration": 4,
    "start_time": "2023-03-21T10:44:17.178Z"
   },
   {
    "duration": 3,
    "start_time": "2023-03-21T10:44:22.889Z"
   },
   {
    "duration": 35,
    "start_time": "2023-03-21T10:44:24.918Z"
   },
   {
    "duration": 8,
    "start_time": "2023-03-21T10:45:34.091Z"
   },
   {
    "duration": 14,
    "start_time": "2023-03-21T10:45:57.177Z"
   },
   {
    "duration": 7,
    "start_time": "2023-03-21T10:46:25.124Z"
   },
   {
    "duration": 135,
    "start_time": "2023-03-21T10:46:29.728Z"
   },
   {
    "duration": 8,
    "start_time": "2023-03-21T10:48:40.998Z"
   },
   {
    "duration": 120,
    "start_time": "2023-03-21T10:48:43.443Z"
   },
   {
    "duration": 8,
    "start_time": "2023-03-21T10:50:28.772Z"
   },
   {
    "duration": 1640,
    "start_time": "2023-03-21T10:50:31.468Z"
   },
   {
    "duration": 1610,
    "start_time": "2023-03-21T10:50:43.693Z"
   },
   {
    "duration": 1516,
    "start_time": "2023-03-21T10:50:45.306Z"
   },
   {
    "duration": 8,
    "start_time": "2023-03-21T11:06:36.837Z"
   },
   {
    "duration": 1592,
    "start_time": "2023-03-21T11:06:38.918Z"
   },
   {
    "duration": 11,
    "start_time": "2023-03-21T11:13:07.568Z"
   },
   {
    "duration": 8,
    "start_time": "2023-03-21T11:13:12.282Z"
   },
   {
    "duration": 19,
    "start_time": "2023-03-21T11:13:19.774Z"
   },
   {
    "duration": 8,
    "start_time": "2023-03-21T11:13:54.240Z"
   },
   {
    "duration": 25,
    "start_time": "2023-03-21T11:13:57.455Z"
   },
   {
    "duration": 9,
    "start_time": "2023-03-21T11:16:02.873Z"
   },
   {
    "duration": 1682,
    "start_time": "2023-03-21T11:16:03.693Z"
   },
   {
    "duration": 1554,
    "start_time": "2023-03-21T11:16:05.531Z"
   },
   {
    "duration": 1511,
    "start_time": "2023-03-21T11:16:07.087Z"
   },
   {
    "duration": 14,
    "start_time": "2023-03-21T11:16:12.127Z"
   },
   {
    "duration": 7,
    "start_time": "2023-03-21T11:20:06.417Z"
   },
   {
    "duration": 1578,
    "start_time": "2023-03-21T11:20:13.981Z"
   },
   {
    "duration": 1384,
    "start_time": "2023-03-21T11:20:55.065Z"
   },
   {
    "duration": 1379,
    "start_time": "2023-03-21T11:20:58.048Z"
   },
   {
    "duration": 1455,
    "start_time": "2023-03-21T11:21:00.483Z"
   }
  ],
  "kernelspec": {
   "display_name": "Python 3 (ipykernel)",
   "language": "python",
   "name": "python3"
  },
  "language_info": {
   "codemirror_mode": {
    "name": "ipython",
    "version": 3
   },
   "file_extension": ".py",
   "mimetype": "text/x-python",
   "name": "python",
   "nbconvert_exporter": "python",
   "pygments_lexer": "ipython3",
   "version": "3.9.12"
  },
  "toc": {
   "base_numbering": 1,
   "nav_menu": {},
   "number_sections": true,
   "sideBar": true,
   "skip_h1_title": true,
   "title_cell": "Table of Contents",
   "title_sidebar": "Contents",
   "toc_cell": false,
   "toc_position": {
    "height": "calc(100% - 180px)",
    "left": "10px",
    "top": "150px",
    "width": "354.797px"
   },
   "toc_section_display": true,
   "toc_window_display": true
  }
 },
 "nbformat": 4,
 "nbformat_minor": 2
}
