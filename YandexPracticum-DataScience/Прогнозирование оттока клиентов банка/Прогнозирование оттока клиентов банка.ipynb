{
 "cells": [
  {
   "cell_type": "markdown",
   "metadata": {
    "toc": true
   },
   "source": [
    "<h1>Содержание<span class=\"tocSkip\"></span></h1>\n",
    "<div class=\"toc\"><ul class=\"toc-item\"><li><span><a href=\"#Подготовка-данных\" data-toc-modified-id=\"Подготовка-данных-1\"><span class=\"toc-item-num\">1&nbsp;&nbsp;</span>Подготовка данных</a></span><ul class=\"toc-item\"><li><span><a href=\"#Загрузка-необходимых-библиотек\" data-toc-modified-id=\"Загрузка-необходимых-библиотек-1.1\"><span class=\"toc-item-num\">1.1&nbsp;&nbsp;</span>Загрузка необходимых библиотек</a></span></li><li><span><a href=\"#Знакомство-с-данными\" data-toc-modified-id=\"Знакомство-с-данными-1.2\"><span class=\"toc-item-num\">1.2&nbsp;&nbsp;</span>Знакомство с данными</a></span></li><li><span><a href=\"#Предобработка-данных\" data-toc-modified-id=\"Предобработка-данных-1.3\"><span class=\"toc-item-num\">1.3&nbsp;&nbsp;</span>Предобработка данных</a></span></li></ul></li><li><span><a href=\"#Исследование-задачи\" data-toc-modified-id=\"Исследование-задачи-2\"><span class=\"toc-item-num\">2&nbsp;&nbsp;</span>Исследование задачи</a></span><ul class=\"toc-item\"><li><span><a href=\"#Баланс-классов\" data-toc-modified-id=\"Баланс-классов-2.1\"><span class=\"toc-item-num\">2.1&nbsp;&nbsp;</span>Баланс классов</a></span></li><li><span><a href=\"#Решающее-дерево\" data-toc-modified-id=\"Решающее-дерево-2.2\"><span class=\"toc-item-num\">2.2&nbsp;&nbsp;</span>Решающее дерево</a></span></li><li><span><a href=\"#Случайный-лес\" data-toc-modified-id=\"Случайный-лес-2.3\"><span class=\"toc-item-num\">2.3&nbsp;&nbsp;</span>Случайный лес</a></span></li><li><span><a href=\"#Логистическая-регрессия\" data-toc-modified-id=\"Логистическая-регрессия-2.4\"><span class=\"toc-item-num\">2.4&nbsp;&nbsp;</span>Логистическая регрессия</a></span></li><li><span><a href=\"#Вывод\" data-toc-modified-id=\"Вывод-2.5\"><span class=\"toc-item-num\">2.5&nbsp;&nbsp;</span>Вывод</a></span></li></ul></li><li><span><a href=\"#Борьба-с-дисбалансом\" data-toc-modified-id=\"Борьба-с-дисбалансом-3\"><span class=\"toc-item-num\">3&nbsp;&nbsp;</span>Борьба с дисбалансом</a></span><ul class=\"toc-item\"><li><span><a href=\"#Решающее-дерево\" data-toc-modified-id=\"Решающее-дерево-3.1\"><span class=\"toc-item-num\">3.1&nbsp;&nbsp;</span>Решающее дерево</a></span></li><li><span><a href=\"#Случайный-лес\" data-toc-modified-id=\"Случайный-лес-3.2\"><span class=\"toc-item-num\">3.2&nbsp;&nbsp;</span>Случайный лес</a></span></li><li><span><a href=\"#Логистическая-регрессия\" data-toc-modified-id=\"Логистическая-регрессия-3.3\"><span class=\"toc-item-num\">3.3&nbsp;&nbsp;</span>Логистическая регрессия</a></span></li><li><span><a href=\"#Вывод\" data-toc-modified-id=\"Вывод-3.4\"><span class=\"toc-item-num\">3.4&nbsp;&nbsp;</span>Вывод</a></span></li></ul></li><li><span><a href=\"#Тестирование-модели\" data-toc-modified-id=\"Тестирование-модели-4\"><span class=\"toc-item-num\">4&nbsp;&nbsp;</span>Тестирование модели</a></span></li><li><span><a href=\"#Общий-вывод\" data-toc-modified-id=\"Общий-вывод-5\"><span class=\"toc-item-num\">5&nbsp;&nbsp;</span>Общий вывод</a></span></li></ul></div>"
   ]
  },
  {
   "cell_type": "markdown",
   "metadata": {},
   "source": [
    "# Отток клиентов"
   ]
  },
  {
   "cell_type": "markdown",
   "metadata": {},
   "source": [
    "Из «Бета-Банка» стали уходить клиенты. Каждый месяц. Немного, но заметно. Банковские маркетологи посчитали: сохранять текущих клиентов дешевле, чем привлекать новых.\n",
    "\n",
    "Нужно спрогнозировать, уйдёт клиент из банка в ближайшее время или нет. Вам предоставлены исторические данные о поведении клиентов и расторжении договоров с банком. \n",
    "\n",
    "Постройте модель с предельно большим значением *F1*-меры. Чтобы сдать проект успешно, нужно довести метрику до 0.59. Проверьте *F1*-меру на тестовой выборке самостоятельно.\n",
    "\n",
    "Дополнительно измеряйте *AUC-ROC*, сравнивайте её значение с *F1*-мерой.\n",
    "\n",
    "Источник данных: [https://www.kaggle.com/barelydedicated/bank-customer-churn-modeling](https://www.kaggle.com/barelydedicated/bank-customer-churn-modeling)"
   ]
  },
  {
   "cell_type": "markdown",
   "metadata": {},
   "source": [
    "## Подготовка данных"
   ]
  },
  {
   "cell_type": "markdown",
   "metadata": {},
   "source": [
    "### Загрузка необходимых библиотек"
   ]
  },
  {
   "cell_type": "code",
   "execution_count": 190,
   "metadata": {},
   "outputs": [],
   "source": [
    "import pandas as pd\n",
    "from sklearn.preprocessing import OrdinalEncoder\n",
    "import matplotlib.pyplot as plt\n",
    "from sklearn.model_selection import train_test_split\n",
    "from sklearn.tree import DecisionTreeClassifier\n",
    "from sklearn.metrics import accuracy_score, f1_score, recall_score, precision_score, roc_auc_score, roc_curve\n",
    "from sklearn.ensemble import RandomForestClassifier\n",
    "from sklearn.preprocessing import StandardScaler \n",
    "from sklearn.ensemble import RandomForestRegressor\n",
    "from sklearn.linear_model import LogisticRegression\n",
    "from sklearn.utils import shuffle"
   ]
  },
  {
   "cell_type": "markdown",
   "metadata": {},
   "source": [
    "### Знакомство с данными"
   ]
  },
  {
   "cell_type": "markdown",
   "metadata": {},
   "source": [
    "Признаки:\n",
    "\n",
    "    RowNumber — индекс строки в данных\n",
    "    CustomerId — уникальный идентификатор клиента\n",
    "    Surname — фамилия\n",
    "    CreditScore — кредитный рейтинг\n",
    "    Geography — страна проживания\n",
    "    Gender — пол\n",
    "    Age — возраст\n",
    "    Tenure — сколько лет человек является клиентом банка\n",
    "    Balance — баланс на счёте\n",
    "    NumOfProducts — количество продуктов банка, используемых клиентом\n",
    "    HasCrCard — наличие кредитной карты\n",
    "    IsActiveMember — активность клиента\n",
    "    EstimatedSalary — предполагаемая зарплата\n",
    "\n",
    "Целевой признак\n",
    "\n",
    "    Exited — факт ухода клиента"
   ]
  },
  {
   "cell_type": "code",
   "execution_count": 191,
   "metadata": {},
   "outputs": [
    {
     "data": {
      "text/html": [
       "<div>\n",
       "<style scoped>\n",
       "    .dataframe tbody tr th:only-of-type {\n",
       "        vertical-align: middle;\n",
       "    }\n",
       "\n",
       "    .dataframe tbody tr th {\n",
       "        vertical-align: top;\n",
       "    }\n",
       "\n",
       "    .dataframe thead th {\n",
       "        text-align: right;\n",
       "    }\n",
       "</style>\n",
       "<table border=\"1\" class=\"dataframe\">\n",
       "  <thead>\n",
       "    <tr style=\"text-align: right;\">\n",
       "      <th></th>\n",
       "      <th>RowNumber</th>\n",
       "      <th>CustomerId</th>\n",
       "      <th>Surname</th>\n",
       "      <th>CreditScore</th>\n",
       "      <th>Geography</th>\n",
       "      <th>Gender</th>\n",
       "      <th>Age</th>\n",
       "      <th>Tenure</th>\n",
       "      <th>Balance</th>\n",
       "      <th>NumOfProducts</th>\n",
       "      <th>HasCrCard</th>\n",
       "      <th>IsActiveMember</th>\n",
       "      <th>EstimatedSalary</th>\n",
       "      <th>Exited</th>\n",
       "    </tr>\n",
       "  </thead>\n",
       "  <tbody>\n",
       "    <tr>\n",
       "      <th>0</th>\n",
       "      <td>1</td>\n",
       "      <td>15634602</td>\n",
       "      <td>Hargrave</td>\n",
       "      <td>619</td>\n",
       "      <td>France</td>\n",
       "      <td>Female</td>\n",
       "      <td>42</td>\n",
       "      <td>2.0</td>\n",
       "      <td>0.00</td>\n",
       "      <td>1</td>\n",
       "      <td>1</td>\n",
       "      <td>1</td>\n",
       "      <td>101348.88</td>\n",
       "      <td>1</td>\n",
       "    </tr>\n",
       "    <tr>\n",
       "      <th>1</th>\n",
       "      <td>2</td>\n",
       "      <td>15647311</td>\n",
       "      <td>Hill</td>\n",
       "      <td>608</td>\n",
       "      <td>Spain</td>\n",
       "      <td>Female</td>\n",
       "      <td>41</td>\n",
       "      <td>1.0</td>\n",
       "      <td>83807.86</td>\n",
       "      <td>1</td>\n",
       "      <td>0</td>\n",
       "      <td>1</td>\n",
       "      <td>112542.58</td>\n",
       "      <td>0</td>\n",
       "    </tr>\n",
       "    <tr>\n",
       "      <th>2</th>\n",
       "      <td>3</td>\n",
       "      <td>15619304</td>\n",
       "      <td>Onio</td>\n",
       "      <td>502</td>\n",
       "      <td>France</td>\n",
       "      <td>Female</td>\n",
       "      <td>42</td>\n",
       "      <td>8.0</td>\n",
       "      <td>159660.80</td>\n",
       "      <td>3</td>\n",
       "      <td>1</td>\n",
       "      <td>0</td>\n",
       "      <td>113931.57</td>\n",
       "      <td>1</td>\n",
       "    </tr>\n",
       "    <tr>\n",
       "      <th>3</th>\n",
       "      <td>4</td>\n",
       "      <td>15701354</td>\n",
       "      <td>Boni</td>\n",
       "      <td>699</td>\n",
       "      <td>France</td>\n",
       "      <td>Female</td>\n",
       "      <td>39</td>\n",
       "      <td>1.0</td>\n",
       "      <td>0.00</td>\n",
       "      <td>2</td>\n",
       "      <td>0</td>\n",
       "      <td>0</td>\n",
       "      <td>93826.63</td>\n",
       "      <td>0</td>\n",
       "    </tr>\n",
       "    <tr>\n",
       "      <th>4</th>\n",
       "      <td>5</td>\n",
       "      <td>15737888</td>\n",
       "      <td>Mitchell</td>\n",
       "      <td>850</td>\n",
       "      <td>Spain</td>\n",
       "      <td>Female</td>\n",
       "      <td>43</td>\n",
       "      <td>2.0</td>\n",
       "      <td>125510.82</td>\n",
       "      <td>1</td>\n",
       "      <td>1</td>\n",
       "      <td>1</td>\n",
       "      <td>79084.10</td>\n",
       "      <td>0</td>\n",
       "    </tr>\n",
       "    <tr>\n",
       "      <th>5</th>\n",
       "      <td>6</td>\n",
       "      <td>15574012</td>\n",
       "      <td>Chu</td>\n",
       "      <td>645</td>\n",
       "      <td>Spain</td>\n",
       "      <td>Male</td>\n",
       "      <td>44</td>\n",
       "      <td>8.0</td>\n",
       "      <td>113755.78</td>\n",
       "      <td>2</td>\n",
       "      <td>1</td>\n",
       "      <td>0</td>\n",
       "      <td>149756.71</td>\n",
       "      <td>1</td>\n",
       "    </tr>\n",
       "    <tr>\n",
       "      <th>6</th>\n",
       "      <td>7</td>\n",
       "      <td>15592531</td>\n",
       "      <td>Bartlett</td>\n",
       "      <td>822</td>\n",
       "      <td>France</td>\n",
       "      <td>Male</td>\n",
       "      <td>50</td>\n",
       "      <td>7.0</td>\n",
       "      <td>0.00</td>\n",
       "      <td>2</td>\n",
       "      <td>1</td>\n",
       "      <td>1</td>\n",
       "      <td>10062.80</td>\n",
       "      <td>0</td>\n",
       "    </tr>\n",
       "    <tr>\n",
       "      <th>7</th>\n",
       "      <td>8</td>\n",
       "      <td>15656148</td>\n",
       "      <td>Obinna</td>\n",
       "      <td>376</td>\n",
       "      <td>Germany</td>\n",
       "      <td>Female</td>\n",
       "      <td>29</td>\n",
       "      <td>4.0</td>\n",
       "      <td>115046.74</td>\n",
       "      <td>4</td>\n",
       "      <td>1</td>\n",
       "      <td>0</td>\n",
       "      <td>119346.88</td>\n",
       "      <td>1</td>\n",
       "    </tr>\n",
       "    <tr>\n",
       "      <th>8</th>\n",
       "      <td>9</td>\n",
       "      <td>15792365</td>\n",
       "      <td>He</td>\n",
       "      <td>501</td>\n",
       "      <td>France</td>\n",
       "      <td>Male</td>\n",
       "      <td>44</td>\n",
       "      <td>4.0</td>\n",
       "      <td>142051.07</td>\n",
       "      <td>2</td>\n",
       "      <td>0</td>\n",
       "      <td>1</td>\n",
       "      <td>74940.50</td>\n",
       "      <td>0</td>\n",
       "    </tr>\n",
       "    <tr>\n",
       "      <th>9</th>\n",
       "      <td>10</td>\n",
       "      <td>15592389</td>\n",
       "      <td>H?</td>\n",
       "      <td>684</td>\n",
       "      <td>France</td>\n",
       "      <td>Male</td>\n",
       "      <td>27</td>\n",
       "      <td>2.0</td>\n",
       "      <td>134603.88</td>\n",
       "      <td>1</td>\n",
       "      <td>1</td>\n",
       "      <td>1</td>\n",
       "      <td>71725.73</td>\n",
       "      <td>0</td>\n",
       "    </tr>\n",
       "  </tbody>\n",
       "</table>\n",
       "</div>"
      ],
      "text/plain": [
       "   RowNumber  CustomerId   Surname  CreditScore Geography  Gender  Age  \\\n",
       "0          1    15634602  Hargrave          619    France  Female   42   \n",
       "1          2    15647311      Hill          608     Spain  Female   41   \n",
       "2          3    15619304      Onio          502    France  Female   42   \n",
       "3          4    15701354      Boni          699    France  Female   39   \n",
       "4          5    15737888  Mitchell          850     Spain  Female   43   \n",
       "5          6    15574012       Chu          645     Spain    Male   44   \n",
       "6          7    15592531  Bartlett          822    France    Male   50   \n",
       "7          8    15656148    Obinna          376   Germany  Female   29   \n",
       "8          9    15792365        He          501    France    Male   44   \n",
       "9         10    15592389        H?          684    France    Male   27   \n",
       "\n",
       "   Tenure    Balance  NumOfProducts  HasCrCard  IsActiveMember  \\\n",
       "0     2.0       0.00              1          1               1   \n",
       "1     1.0   83807.86              1          0               1   \n",
       "2     8.0  159660.80              3          1               0   \n",
       "3     1.0       0.00              2          0               0   \n",
       "4     2.0  125510.82              1          1               1   \n",
       "5     8.0  113755.78              2          1               0   \n",
       "6     7.0       0.00              2          1               1   \n",
       "7     4.0  115046.74              4          1               0   \n",
       "8     4.0  142051.07              2          0               1   \n",
       "9     2.0  134603.88              1          1               1   \n",
       "\n",
       "   EstimatedSalary  Exited  \n",
       "0        101348.88       1  \n",
       "1        112542.58       0  \n",
       "2        113931.57       1  \n",
       "3         93826.63       0  \n",
       "4         79084.10       0  \n",
       "5        149756.71       1  \n",
       "6         10062.80       0  \n",
       "7        119346.88       1  \n",
       "8         74940.50       0  \n",
       "9         71725.73       0  "
      ]
     },
     "metadata": {},
     "output_type": "display_data"
    }
   ],
   "source": [
    "data = pd.read_csv('/datasets/Churn.csv')\n",
    "display(data.head(10))"
   ]
  },
  {
   "cell_type": "markdown",
   "metadata": {},
   "source": [
    "В названиях столбцов нарушен стиль написания - строчные буквы сочетаются с прописными. Необходимо привести названия полей к нижнему регистру и разделить слова символом нижнего подчеркивания."
   ]
  },
  {
   "cell_type": "code",
   "execution_count": 192,
   "metadata": {},
   "outputs": [
    {
     "name": "stdout",
     "output_type": "stream",
     "text": [
      "<class 'pandas.core.frame.DataFrame'>\n",
      "RangeIndex: 10000 entries, 0 to 9999\n",
      "Data columns (total 14 columns):\n",
      " #   Column           Non-Null Count  Dtype  \n",
      "---  ------           --------------  -----  \n",
      " 0   RowNumber        10000 non-null  int64  \n",
      " 1   CustomerId       10000 non-null  int64  \n",
      " 2   Surname          10000 non-null  object \n",
      " 3   CreditScore      10000 non-null  int64  \n",
      " 4   Geography        10000 non-null  object \n",
      " 5   Gender           10000 non-null  object \n",
      " 6   Age              10000 non-null  int64  \n",
      " 7   Tenure           9091 non-null   float64\n",
      " 8   Balance          10000 non-null  float64\n",
      " 9   NumOfProducts    10000 non-null  int64  \n",
      " 10  HasCrCard        10000 non-null  int64  \n",
      " 11  IsActiveMember   10000 non-null  int64  \n",
      " 12  EstimatedSalary  10000 non-null  float64\n",
      " 13  Exited           10000 non-null  int64  \n",
      "dtypes: float64(3), int64(8), object(3)\n",
      "memory usage: 1.1+ MB\n"
     ]
    }
   ],
   "source": [
    "data.info()"
   ]
  },
  {
   "cell_type": "code",
   "execution_count": 193,
   "metadata": {},
   "outputs": [
    {
     "data": {
      "text/html": [
       "<div>\n",
       "<style scoped>\n",
       "    .dataframe tbody tr th:only-of-type {\n",
       "        vertical-align: middle;\n",
       "    }\n",
       "\n",
       "    .dataframe tbody tr th {\n",
       "        vertical-align: top;\n",
       "    }\n",
       "\n",
       "    .dataframe thead th {\n",
       "        text-align: right;\n",
       "    }\n",
       "</style>\n",
       "<table border=\"1\" class=\"dataframe\">\n",
       "  <thead>\n",
       "    <tr style=\"text-align: right;\">\n",
       "      <th></th>\n",
       "      <th>RowNumber</th>\n",
       "    </tr>\n",
       "    <tr>\n",
       "      <th>Geography</th>\n",
       "      <th></th>\n",
       "    </tr>\n",
       "  </thead>\n",
       "  <tbody>\n",
       "    <tr>\n",
       "      <th>France</th>\n",
       "      <td>5014</td>\n",
       "    </tr>\n",
       "    <tr>\n",
       "      <th>Germany</th>\n",
       "      <td>2509</td>\n",
       "    </tr>\n",
       "    <tr>\n",
       "      <th>Spain</th>\n",
       "      <td>2477</td>\n",
       "    </tr>\n",
       "  </tbody>\n",
       "</table>\n",
       "</div>"
      ],
      "text/plain": [
       "           RowNumber\n",
       "Geography           \n",
       "France          5014\n",
       "Germany         2509\n",
       "Spain           2477"
      ]
     },
     "execution_count": 193,
     "metadata": {},
     "output_type": "execute_result"
    }
   ],
   "source": [
    "data.pivot_table(index='Geography', values='RowNumber', aggfunc='count')"
   ]
  },
  {
   "cell_type": "code",
   "execution_count": 194,
   "metadata": {},
   "outputs": [
    {
     "data": {
      "text/html": [
       "<div>\n",
       "<style scoped>\n",
       "    .dataframe tbody tr th:only-of-type {\n",
       "        vertical-align: middle;\n",
       "    }\n",
       "\n",
       "    .dataframe tbody tr th {\n",
       "        vertical-align: top;\n",
       "    }\n",
       "\n",
       "    .dataframe thead th {\n",
       "        text-align: right;\n",
       "    }\n",
       "</style>\n",
       "<table border=\"1\" class=\"dataframe\">\n",
       "  <thead>\n",
       "    <tr style=\"text-align: right;\">\n",
       "      <th></th>\n",
       "      <th>RowNumber</th>\n",
       "    </tr>\n",
       "    <tr>\n",
       "      <th>Gender</th>\n",
       "      <th></th>\n",
       "    </tr>\n",
       "  </thead>\n",
       "  <tbody>\n",
       "    <tr>\n",
       "      <th>Female</th>\n",
       "      <td>4543</td>\n",
       "    </tr>\n",
       "    <tr>\n",
       "      <th>Male</th>\n",
       "      <td>5457</td>\n",
       "    </tr>\n",
       "  </tbody>\n",
       "</table>\n",
       "</div>"
      ],
      "text/plain": [
       "        RowNumber\n",
       "Gender           \n",
       "Female       4543\n",
       "Male         5457"
      ]
     },
     "execution_count": 194,
     "metadata": {},
     "output_type": "execute_result"
    }
   ],
   "source": [
    "data.pivot_table(index='Gender', values='RowNumber', aggfunc='count')"
   ]
  },
  {
   "cell_type": "markdown",
   "metadata": {},
   "source": [
    "Столбцы Geography и Gender, география и пол, имеют тип object и являются категориальными переменными. В последующем для оперирования ими, необходимо будет их преобразовать."
   ]
  },
  {
   "cell_type": "code",
   "execution_count": 195,
   "metadata": {},
   "outputs": [
    {
     "data": {
      "image/png": "[encoded data removed]",
      "text/plain": [
       "<Figure size 1080x1440 with 12 Axes>"
      ]
     },
     "metadata": {
      "needs_background": "light"
     },
     "output_type": "display_data"
    }
   ],
   "source": [
    "data.hist(bins=50, figsize=(15, 20));"
   ]
  },
  {
   "cell_type": "code",
   "execution_count": 196,
   "metadata": {},
   "outputs": [
    {
     "data": {
      "image/png": "[encoded data removed]",
      "text/plain": [
       "<Figure size 720x720 with 1 Axes>"
      ]
     },
     "metadata": {
      "needs_background": "light"
     },
     "output_type": "display_data"
    }
   ],
   "source": [
    "data['Balance'].hist(bins=50, figsize=(10,10));"
   ]
  },
  {
   "cell_type": "markdown",
   "metadata": {},
   "source": [
    "По гистограммам видны выбросы в неоторых столбцах:\n",
    "    \n",
    "    В столбце CreditScore с максимальным кредитным рейтингом в 850. Возможно это связано с тем, что значение 850 - это \"потолок\" рейтинга. И если продолжить нормальное распределение на графике, то сумма клиентов после значения 850 как раз и равнялось бы около 300.\n",
    "    \n",
    "    И в столбце Balance, у более чем трети пользователей нулевое значение. Возможно эти клиенты уже пользуются услугами других банков, и соответственно финансовые потоки у них протекают там, либо они просто нищие и них вообще ничего нет за душой(что маловероятно). \n",
    "    \n",
    "Остальные графики внимания пока не привлекают."
   ]
  },
  {
   "cell_type": "code",
   "execution_count": 197,
   "metadata": {},
   "outputs": [
    {
     "data": {
      "text/html": [
       "<div>\n",
       "<style scoped>\n",
       "    .dataframe tbody tr th:only-of-type {\n",
       "        vertical-align: middle;\n",
       "    }\n",
       "\n",
       "    .dataframe tbody tr th {\n",
       "        vertical-align: top;\n",
       "    }\n",
       "\n",
       "    .dataframe thead th {\n",
       "        text-align: right;\n",
       "    }\n",
       "</style>\n",
       "<table border=\"1\" class=\"dataframe\">\n",
       "  <thead>\n",
       "    <tr style=\"text-align: right;\">\n",
       "      <th></th>\n",
       "      <th>RowNumber</th>\n",
       "      <th>CustomerId</th>\n",
       "      <th>CreditScore</th>\n",
       "      <th>Age</th>\n",
       "      <th>Tenure</th>\n",
       "      <th>Balance</th>\n",
       "      <th>NumOfProducts</th>\n",
       "      <th>HasCrCard</th>\n",
       "      <th>IsActiveMember</th>\n",
       "      <th>EstimatedSalary</th>\n",
       "      <th>Exited</th>\n",
       "    </tr>\n",
       "  </thead>\n",
       "  <tbody>\n",
       "    <tr>\n",
       "      <th>count</th>\n",
       "      <td>10000.00000</td>\n",
       "      <td>1.000000e+04</td>\n",
       "      <td>10000.000000</td>\n",
       "      <td>10000.000000</td>\n",
       "      <td>9091.000000</td>\n",
       "      <td>10000.000000</td>\n",
       "      <td>10000.000000</td>\n",
       "      <td>10000.00000</td>\n",
       "      <td>10000.000000</td>\n",
       "      <td>10000.000000</td>\n",
       "      <td>10000.000000</td>\n",
       "    </tr>\n",
       "    <tr>\n",
       "      <th>mean</th>\n",
       "      <td>5000.50000</td>\n",
       "      <td>1.569094e+07</td>\n",
       "      <td>650.528800</td>\n",
       "      <td>38.921800</td>\n",
       "      <td>4.997690</td>\n",
       "      <td>76485.889288</td>\n",
       "      <td>1.530200</td>\n",
       "      <td>0.70550</td>\n",
       "      <td>0.515100</td>\n",
       "      <td>100090.239881</td>\n",
       "      <td>0.203700</td>\n",
       "    </tr>\n",
       "    <tr>\n",
       "      <th>std</th>\n",
       "      <td>2886.89568</td>\n",
       "      <td>7.193619e+04</td>\n",
       "      <td>96.653299</td>\n",
       "      <td>10.487806</td>\n",
       "      <td>2.894723</td>\n",
       "      <td>62397.405202</td>\n",
       "      <td>0.581654</td>\n",
       "      <td>0.45584</td>\n",
       "      <td>0.499797</td>\n",
       "      <td>57510.492818</td>\n",
       "      <td>0.402769</td>\n",
       "    </tr>\n",
       "    <tr>\n",
       "      <th>min</th>\n",
       "      <td>1.00000</td>\n",
       "      <td>1.556570e+07</td>\n",
       "      <td>350.000000</td>\n",
       "      <td>18.000000</td>\n",
       "      <td>0.000000</td>\n",
       "      <td>0.000000</td>\n",
       "      <td>1.000000</td>\n",
       "      <td>0.00000</td>\n",
       "      <td>0.000000</td>\n",
       "      <td>11.580000</td>\n",
       "      <td>0.000000</td>\n",
       "    </tr>\n",
       "    <tr>\n",
       "      <th>25%</th>\n",
       "      <td>2500.75000</td>\n",
       "      <td>1.562853e+07</td>\n",
       "      <td>584.000000</td>\n",
       "      <td>32.000000</td>\n",
       "      <td>2.000000</td>\n",
       "      <td>0.000000</td>\n",
       "      <td>1.000000</td>\n",
       "      <td>0.00000</td>\n",
       "      <td>0.000000</td>\n",
       "      <td>51002.110000</td>\n",
       "      <td>0.000000</td>\n",
       "    </tr>\n",
       "    <tr>\n",
       "      <th>50%</th>\n",
       "      <td>5000.50000</td>\n",
       "      <td>1.569074e+07</td>\n",
       "      <td>652.000000</td>\n",
       "      <td>37.000000</td>\n",
       "      <td>5.000000</td>\n",
       "      <td>97198.540000</td>\n",
       "      <td>1.000000</td>\n",
       "      <td>1.00000</td>\n",
       "      <td>1.000000</td>\n",
       "      <td>100193.915000</td>\n",
       "      <td>0.000000</td>\n",
       "    </tr>\n",
       "    <tr>\n",
       "      <th>75%</th>\n",
       "      <td>7500.25000</td>\n",
       "      <td>1.575323e+07</td>\n",
       "      <td>718.000000</td>\n",
       "      <td>44.000000</td>\n",
       "      <td>7.000000</td>\n",
       "      <td>127644.240000</td>\n",
       "      <td>2.000000</td>\n",
       "      <td>1.00000</td>\n",
       "      <td>1.000000</td>\n",
       "      <td>149388.247500</td>\n",
       "      <td>0.000000</td>\n",
       "    </tr>\n",
       "    <tr>\n",
       "      <th>max</th>\n",
       "      <td>10000.00000</td>\n",
       "      <td>1.581569e+07</td>\n",
       "      <td>850.000000</td>\n",
       "      <td>92.000000</td>\n",
       "      <td>10.000000</td>\n",
       "      <td>250898.090000</td>\n",
       "      <td>4.000000</td>\n",
       "      <td>1.00000</td>\n",
       "      <td>1.000000</td>\n",
       "      <td>199992.480000</td>\n",
       "      <td>1.000000</td>\n",
       "    </tr>\n",
       "  </tbody>\n",
       "</table>\n",
       "</div>"
      ],
      "text/plain": [
       "         RowNumber    CustomerId   CreditScore           Age       Tenure  \\\n",
       "count  10000.00000  1.000000e+04  10000.000000  10000.000000  9091.000000   \n",
       "mean    5000.50000  1.569094e+07    650.528800     38.921800     4.997690   \n",
       "std     2886.89568  7.193619e+04     96.653299     10.487806     2.894723   \n",
       "min        1.00000  1.556570e+07    350.000000     18.000000     0.000000   \n",
       "25%     2500.75000  1.562853e+07    584.000000     32.000000     2.000000   \n",
       "50%     5000.50000  1.569074e+07    652.000000     37.000000     5.000000   \n",
       "75%     7500.25000  1.575323e+07    718.000000     44.000000     7.000000   \n",
       "max    10000.00000  1.581569e+07    850.000000     92.000000    10.000000   \n",
       "\n",
       "             Balance  NumOfProducts    HasCrCard  IsActiveMember  \\\n",
       "count   10000.000000   10000.000000  10000.00000    10000.000000   \n",
       "mean    76485.889288       1.530200      0.70550        0.515100   \n",
       "std     62397.405202       0.581654      0.45584        0.499797   \n",
       "min         0.000000       1.000000      0.00000        0.000000   \n",
       "25%         0.000000       1.000000      0.00000        0.000000   \n",
       "50%     97198.540000       1.000000      1.00000        1.000000   \n",
       "75%    127644.240000       2.000000      1.00000        1.000000   \n",
       "max    250898.090000       4.000000      1.00000        1.000000   \n",
       "\n",
       "       EstimatedSalary        Exited  \n",
       "count     10000.000000  10000.000000  \n",
       "mean     100090.239881      0.203700  \n",
       "std       57510.492818      0.402769  \n",
       "min          11.580000      0.000000  \n",
       "25%       51002.110000      0.000000  \n",
       "50%      100193.915000      0.000000  \n",
       "75%      149388.247500      0.000000  \n",
       "max      199992.480000      1.000000  "
      ]
     },
     "execution_count": 197,
     "metadata": {},
     "output_type": "execute_result"
    }
   ],
   "source": [
    "data.describe()"
   ]
  },
  {
   "cell_type": "code",
   "execution_count": 198,
   "metadata": {},
   "outputs": [
    {
     "data": {
      "text/plain": [
       "RowNumber            0\n",
       "CustomerId           0\n",
       "Surname              0\n",
       "CreditScore          0\n",
       "Geography            0\n",
       "Gender               0\n",
       "Age                  0\n",
       "Tenure             909\n",
       "Balance              0\n",
       "NumOfProducts        0\n",
       "HasCrCard            0\n",
       "IsActiveMember       0\n",
       "EstimatedSalary      0\n",
       "Exited               0\n",
       "dtype: int64"
      ]
     },
     "execution_count": 198,
     "metadata": {},
     "output_type": "execute_result"
    }
   ],
   "source": [
    "data.isna().sum()"
   ]
  },
  {
   "cell_type": "markdown",
   "metadata": {},
   "source": [
    "В столбце Tenure(сколько лет человек является клиентом банка) имеются пропуски. На мой взгляд, это важный признак для обучения модели, но логически заменить его нечем, поэтому необходимо будет удалить строки с пропуском. "
   ]
  },
  {
   "cell_type": "markdown",
   "metadata": {},
   "source": [
    "Итог знакомства с данными:\n",
    "\n",
    "    В названиях столбцов нарушен стиль написания - строчные буквы сочетаются с прописными. Необходимо привести названия полей к нижнему регистру и разделить слова символом нижнего подчеркивания.\n",
    "    \n",
    "    Столбцы Geography и Gender, география и пол, имеют тип object и являются категориальными переменными. В последующем для оперирования ими, необходимо будет их преобразовать.\n",
    "    \n",
    "    В столбце Tenure(сколько лет человек является клиентом банка) имеются пропуски. На мой взгляд, это важный признак для обучения модели, но логически заменить его нечем, поэтому необходимо будет удалить строки с пропуском.\n",
    "    \n",
    "    Тип столбцца Tenure (сколько лет человек является клиентом банка) необходимо изменить на int64, т.к. переменная принимает только целочисленные значения.\n",
    "\n",
    "    Столбцы RowNumber (индекс строки в данных), CustomerId (уникальный идентификатор клиента), Surname (фамилия) не будут использоваться в исследовании, их можно удалить.\n",
    "\n",
    "    Столбцы CreditScore (кредитный рейтинг), Age (возраст), Tenure (сколько лет человек является клиентом банка), Balance (баланс на счёте), NumOfProducts (количество продуктов банка, используемых клиентом), EstimatedSalary (предполагаемая зарплата) - это количественные признаки, которые имеют разный масштаб. Для проведения исследования их необходимо масштабировать (стандартизировать).\n",
    "    "
   ]
  },
  {
   "cell_type": "markdown",
   "metadata": {},
   "source": [
    "### Предобработка данных"
   ]
  },
  {
   "cell_type": "code",
   "execution_count": 199,
   "metadata": {},
   "outputs": [
    {
     "data": {
      "text/plain": [
       "0"
      ]
     },
     "execution_count": 199,
     "metadata": {},
     "output_type": "execute_result"
    }
   ],
   "source": [
    "data.duplicated().sum() # Потск явных дубликатов"
   ]
  },
  {
   "cell_type": "markdown",
   "metadata": {},
   "source": [
    "Удалим пропуски"
   ]
  },
  {
   "cell_type": "code",
   "execution_count": 200,
   "metadata": {},
   "outputs": [
    {
     "data": {
      "text/plain": [
       "RowNumber          0\n",
       "CustomerId         0\n",
       "Surname            0\n",
       "CreditScore        0\n",
       "Geography          0\n",
       "Gender             0\n",
       "Age                0\n",
       "Tenure             0\n",
       "Balance            0\n",
       "NumOfProducts      0\n",
       "HasCrCard          0\n",
       "IsActiveMember     0\n",
       "EstimatedSalary    0\n",
       "Exited             0\n",
       "dtype: int64"
      ]
     },
     "execution_count": 200,
     "metadata": {},
     "output_type": "execute_result"
    }
   ],
   "source": [
    "data = data.dropna()\n",
    "data.isna().sum()"
   ]
  },
  {
   "cell_type": "markdown",
   "metadata": {},
   "source": [
    "Удалим лишние столбцы и приведем оставшиеся в корректный вид"
   ]
  },
  {
   "cell_type": "code",
   "execution_count": 201,
   "metadata": {},
   "outputs": [],
   "source": [
    "data = data.drop(['RowNumber', 'CustomerId', 'Surname'], axis=1) \n",
    "\n",
    "data.set_axis(['credit_score', 'geography', 'gender', 'age', 'tenure', 'balance', 'num_of_products', 'has_cr_card',\n",
    "             'is_active_member', 'estimated_salary', 'exited'], axis='columns', inplace=True)"
   ]
  },
  {
   "cell_type": "markdown",
   "metadata": {},
   "source": [
    "Изменим тип столбца 'tenure'"
   ]
  },
  {
   "cell_type": "code",
   "execution_count": 202,
   "metadata": {},
   "outputs": [],
   "source": [
    "data['tenure'] = data['tenure'].astype('Int64')"
   ]
  },
  {
   "cell_type": "markdown",
   "metadata": {},
   "source": [
    "Посмотрим, что получилось"
   ]
  },
  {
   "cell_type": "code",
   "execution_count": 203,
   "metadata": {},
   "outputs": [
    {
     "data": {
      "text/html": [
       "<div>\n",
       "<style scoped>\n",
       "    .dataframe tbody tr th:only-of-type {\n",
       "        vertical-align: middle;\n",
       "    }\n",
       "\n",
       "    .dataframe tbody tr th {\n",
       "        vertical-align: top;\n",
       "    }\n",
       "\n",
       "    .dataframe thead th {\n",
       "        text-align: right;\n",
       "    }\n",
       "</style>\n",
       "<table border=\"1\" class=\"dataframe\">\n",
       "  <thead>\n",
       "    <tr style=\"text-align: right;\">\n",
       "      <th></th>\n",
       "      <th>credit_score</th>\n",
       "      <th>geography</th>\n",
       "      <th>gender</th>\n",
       "      <th>age</th>\n",
       "      <th>tenure</th>\n",
       "      <th>balance</th>\n",
       "      <th>num_of_products</th>\n",
       "      <th>has_cr_card</th>\n",
       "      <th>is_active_member</th>\n",
       "      <th>estimated_salary</th>\n",
       "      <th>exited</th>\n",
       "    </tr>\n",
       "  </thead>\n",
       "  <tbody>\n",
       "    <tr>\n",
       "      <th>0</th>\n",
       "      <td>619</td>\n",
       "      <td>France</td>\n",
       "      <td>Female</td>\n",
       "      <td>42</td>\n",
       "      <td>2</td>\n",
       "      <td>0.00</td>\n",
       "      <td>1</td>\n",
       "      <td>1</td>\n",
       "      <td>1</td>\n",
       "      <td>101348.88</td>\n",
       "      <td>1</td>\n",
       "    </tr>\n",
       "    <tr>\n",
       "      <th>1</th>\n",
       "      <td>608</td>\n",
       "      <td>Spain</td>\n",
       "      <td>Female</td>\n",
       "      <td>41</td>\n",
       "      <td>1</td>\n",
       "      <td>83807.86</td>\n",
       "      <td>1</td>\n",
       "      <td>0</td>\n",
       "      <td>1</td>\n",
       "      <td>112542.58</td>\n",
       "      <td>0</td>\n",
       "    </tr>\n",
       "    <tr>\n",
       "      <th>2</th>\n",
       "      <td>502</td>\n",
       "      <td>France</td>\n",
       "      <td>Female</td>\n",
       "      <td>42</td>\n",
       "      <td>8</td>\n",
       "      <td>159660.80</td>\n",
       "      <td>3</td>\n",
       "      <td>1</td>\n",
       "      <td>0</td>\n",
       "      <td>113931.57</td>\n",
       "      <td>1</td>\n",
       "    </tr>\n",
       "    <tr>\n",
       "      <th>3</th>\n",
       "      <td>699</td>\n",
       "      <td>France</td>\n",
       "      <td>Female</td>\n",
       "      <td>39</td>\n",
       "      <td>1</td>\n",
       "      <td>0.00</td>\n",
       "      <td>2</td>\n",
       "      <td>0</td>\n",
       "      <td>0</td>\n",
       "      <td>93826.63</td>\n",
       "      <td>0</td>\n",
       "    </tr>\n",
       "    <tr>\n",
       "      <th>4</th>\n",
       "      <td>850</td>\n",
       "      <td>Spain</td>\n",
       "      <td>Female</td>\n",
       "      <td>43</td>\n",
       "      <td>2</td>\n",
       "      <td>125510.82</td>\n",
       "      <td>1</td>\n",
       "      <td>1</td>\n",
       "      <td>1</td>\n",
       "      <td>79084.10</td>\n",
       "      <td>0</td>\n",
       "    </tr>\n",
       "  </tbody>\n",
       "</table>\n",
       "</div>"
      ],
      "text/plain": [
       "   credit_score geography  gender  age  tenure    balance  num_of_products  \\\n",
       "0           619    France  Female   42       2       0.00                1   \n",
       "1           608     Spain  Female   41       1   83807.86                1   \n",
       "2           502    France  Female   42       8  159660.80                3   \n",
       "3           699    France  Female   39       1       0.00                2   \n",
       "4           850     Spain  Female   43       2  125510.82                1   \n",
       "\n",
       "   has_cr_card  is_active_member  estimated_salary  exited  \n",
       "0            1                 1         101348.88       1  \n",
       "1            0                 1         112542.58       0  \n",
       "2            1                 0         113931.57       1  \n",
       "3            0                 0          93826.63       0  \n",
       "4            1                 1          79084.10       0  "
      ]
     },
     "execution_count": 203,
     "metadata": {},
     "output_type": "execute_result"
    }
   ],
   "source": [
    "data.head()"
   ]
  },
  {
   "cell_type": "markdown",
   "metadata": {},
   "source": [
    "Для обучения моделей категориальные признаки необходимо преобразовать в численные. Для этого будем использовать техники прямого кодирования (ОНЕ), которая подходит для преобразования признаков в логистической регресии, а также использовать технику порядкового кодирования, которая подходит для решающего дерева и случайного леса. Преобразуем данные с помощью двух техник и создадим соответственно два новых датасета - data_ohe и data_ordinal."
   ]
  },
  {
   "cell_type": "code",
   "execution_count": 204,
   "metadata": {},
   "outputs": [
    {
     "data": {
      "text/html": [
       "<div>\n",
       "<style scoped>\n",
       "    .dataframe tbody tr th:only-of-type {\n",
       "        vertical-align: middle;\n",
       "    }\n",
       "\n",
       "    .dataframe tbody tr th {\n",
       "        vertical-align: top;\n",
       "    }\n",
       "\n",
       "    .dataframe thead th {\n",
       "        text-align: right;\n",
       "    }\n",
       "</style>\n",
       "<table border=\"1\" class=\"dataframe\">\n",
       "  <thead>\n",
       "    <tr style=\"text-align: right;\">\n",
       "      <th></th>\n",
       "      <th>credit_score</th>\n",
       "      <th>age</th>\n",
       "      <th>tenure</th>\n",
       "      <th>balance</th>\n",
       "      <th>num_of_products</th>\n",
       "      <th>has_cr_card</th>\n",
       "      <th>is_active_member</th>\n",
       "      <th>estimated_salary</th>\n",
       "      <th>exited</th>\n",
       "      <th>geography_Germany</th>\n",
       "      <th>geography_Spain</th>\n",
       "      <th>gender_Male</th>\n",
       "    </tr>\n",
       "  </thead>\n",
       "  <tbody>\n",
       "    <tr>\n",
       "      <th>0</th>\n",
       "      <td>619</td>\n",
       "      <td>42</td>\n",
       "      <td>2</td>\n",
       "      <td>0.00</td>\n",
       "      <td>1</td>\n",
       "      <td>1</td>\n",
       "      <td>1</td>\n",
       "      <td>101348.88</td>\n",
       "      <td>1</td>\n",
       "      <td>0</td>\n",
       "      <td>0</td>\n",
       "      <td>0</td>\n",
       "    </tr>\n",
       "    <tr>\n",
       "      <th>1</th>\n",
       "      <td>608</td>\n",
       "      <td>41</td>\n",
       "      <td>1</td>\n",
       "      <td>83807.86</td>\n",
       "      <td>1</td>\n",
       "      <td>0</td>\n",
       "      <td>1</td>\n",
       "      <td>112542.58</td>\n",
       "      <td>0</td>\n",
       "      <td>0</td>\n",
       "      <td>1</td>\n",
       "      <td>0</td>\n",
       "    </tr>\n",
       "    <tr>\n",
       "      <th>2</th>\n",
       "      <td>502</td>\n",
       "      <td>42</td>\n",
       "      <td>8</td>\n",
       "      <td>159660.80</td>\n",
       "      <td>3</td>\n",
       "      <td>1</td>\n",
       "      <td>0</td>\n",
       "      <td>113931.57</td>\n",
       "      <td>1</td>\n",
       "      <td>0</td>\n",
       "      <td>0</td>\n",
       "      <td>0</td>\n",
       "    </tr>\n",
       "    <tr>\n",
       "      <th>3</th>\n",
       "      <td>699</td>\n",
       "      <td>39</td>\n",
       "      <td>1</td>\n",
       "      <td>0.00</td>\n",
       "      <td>2</td>\n",
       "      <td>0</td>\n",
       "      <td>0</td>\n",
       "      <td>93826.63</td>\n",
       "      <td>0</td>\n",
       "      <td>0</td>\n",
       "      <td>0</td>\n",
       "      <td>0</td>\n",
       "    </tr>\n",
       "    <tr>\n",
       "      <th>4</th>\n",
       "      <td>850</td>\n",
       "      <td>43</td>\n",
       "      <td>2</td>\n",
       "      <td>125510.82</td>\n",
       "      <td>1</td>\n",
       "      <td>1</td>\n",
       "      <td>1</td>\n",
       "      <td>79084.10</td>\n",
       "      <td>0</td>\n",
       "      <td>0</td>\n",
       "      <td>1</td>\n",
       "      <td>0</td>\n",
       "    </tr>\n",
       "    <tr>\n",
       "      <th>5</th>\n",
       "      <td>645</td>\n",
       "      <td>44</td>\n",
       "      <td>8</td>\n",
       "      <td>113755.78</td>\n",
       "      <td>2</td>\n",
       "      <td>1</td>\n",
       "      <td>0</td>\n",
       "      <td>149756.71</td>\n",
       "      <td>1</td>\n",
       "      <td>0</td>\n",
       "      <td>1</td>\n",
       "      <td>1</td>\n",
       "    </tr>\n",
       "    <tr>\n",
       "      <th>6</th>\n",
       "      <td>822</td>\n",
       "      <td>50</td>\n",
       "      <td>7</td>\n",
       "      <td>0.00</td>\n",
       "      <td>2</td>\n",
       "      <td>1</td>\n",
       "      <td>1</td>\n",
       "      <td>10062.80</td>\n",
       "      <td>0</td>\n",
       "      <td>0</td>\n",
       "      <td>0</td>\n",
       "      <td>1</td>\n",
       "    </tr>\n",
       "    <tr>\n",
       "      <th>7</th>\n",
       "      <td>376</td>\n",
       "      <td>29</td>\n",
       "      <td>4</td>\n",
       "      <td>115046.74</td>\n",
       "      <td>4</td>\n",
       "      <td>1</td>\n",
       "      <td>0</td>\n",
       "      <td>119346.88</td>\n",
       "      <td>1</td>\n",
       "      <td>1</td>\n",
       "      <td>0</td>\n",
       "      <td>0</td>\n",
       "    </tr>\n",
       "    <tr>\n",
       "      <th>8</th>\n",
       "      <td>501</td>\n",
       "      <td>44</td>\n",
       "      <td>4</td>\n",
       "      <td>142051.07</td>\n",
       "      <td>2</td>\n",
       "      <td>0</td>\n",
       "      <td>1</td>\n",
       "      <td>74940.50</td>\n",
       "      <td>0</td>\n",
       "      <td>0</td>\n",
       "      <td>0</td>\n",
       "      <td>1</td>\n",
       "    </tr>\n",
       "    <tr>\n",
       "      <th>9</th>\n",
       "      <td>684</td>\n",
       "      <td>27</td>\n",
       "      <td>2</td>\n",
       "      <td>134603.88</td>\n",
       "      <td>1</td>\n",
       "      <td>1</td>\n",
       "      <td>1</td>\n",
       "      <td>71725.73</td>\n",
       "      <td>0</td>\n",
       "      <td>0</td>\n",
       "      <td>0</td>\n",
       "      <td>1</td>\n",
       "    </tr>\n",
       "  </tbody>\n",
       "</table>\n",
       "</div>"
      ],
      "text/plain": [
       "   credit_score  age  tenure    balance  num_of_products  has_cr_card  \\\n",
       "0           619   42       2       0.00                1            1   \n",
       "1           608   41       1   83807.86                1            0   \n",
       "2           502   42       8  159660.80                3            1   \n",
       "3           699   39       1       0.00                2            0   \n",
       "4           850   43       2  125510.82                1            1   \n",
       "5           645   44       8  113755.78                2            1   \n",
       "6           822   50       7       0.00                2            1   \n",
       "7           376   29       4  115046.74                4            1   \n",
       "8           501   44       4  142051.07                2            0   \n",
       "9           684   27       2  134603.88                1            1   \n",
       "\n",
       "   is_active_member  estimated_salary  exited  geography_Germany  \\\n",
       "0                 1         101348.88       1                  0   \n",
       "1                 1         112542.58       0                  0   \n",
       "2                 0         113931.57       1                  0   \n",
       "3                 0          93826.63       0                  0   \n",
       "4                 1          79084.10       0                  0   \n",
       "5                 0         149756.71       1                  0   \n",
       "6                 1          10062.80       0                  0   \n",
       "7                 0         119346.88       1                  1   \n",
       "8                 1          74940.50       0                  0   \n",
       "9                 1          71725.73       0                  0   \n",
       "\n",
       "   geography_Spain  gender_Male  \n",
       "0                0            0  \n",
       "1                1            0  \n",
       "2                0            0  \n",
       "3                0            0  \n",
       "4                1            0  \n",
       "5                1            1  \n",
       "6                0            1  \n",
       "7                0            0  \n",
       "8                0            1  \n",
       "9                0            1  "
      ]
     },
     "execution_count": 204,
     "metadata": {},
     "output_type": "execute_result"
    }
   ],
   "source": [
    "data_ohe = pd.get_dummies(data, columns=['geography', 'gender'], drop_first=True)\n",
    "data_ohe.head(10)"
   ]
  },
  {
   "cell_type": "code",
   "execution_count": 205,
   "metadata": {
    "scrolled": true
   },
   "outputs": [
    {
     "data": {
      "text/html": [
       "<div>\n",
       "<style scoped>\n",
       "    .dataframe tbody tr th:only-of-type {\n",
       "        vertical-align: middle;\n",
       "    }\n",
       "\n",
       "    .dataframe tbody tr th {\n",
       "        vertical-align: top;\n",
       "    }\n",
       "\n",
       "    .dataframe thead th {\n",
       "        text-align: right;\n",
       "    }\n",
       "</style>\n",
       "<table border=\"1\" class=\"dataframe\">\n",
       "  <thead>\n",
       "    <tr style=\"text-align: right;\">\n",
       "      <th></th>\n",
       "      <th>credit_score</th>\n",
       "      <th>geography</th>\n",
       "      <th>gender</th>\n",
       "      <th>age</th>\n",
       "      <th>tenure</th>\n",
       "      <th>balance</th>\n",
       "      <th>num_of_products</th>\n",
       "      <th>has_cr_card</th>\n",
       "      <th>is_active_member</th>\n",
       "      <th>estimated_salary</th>\n",
       "      <th>exited</th>\n",
       "    </tr>\n",
       "  </thead>\n",
       "  <tbody>\n",
       "    <tr>\n",
       "      <th>0</th>\n",
       "      <td>619</td>\n",
       "      <td>0.0</td>\n",
       "      <td>0.0</td>\n",
       "      <td>42</td>\n",
       "      <td>2</td>\n",
       "      <td>0.00</td>\n",
       "      <td>1</td>\n",
       "      <td>1</td>\n",
       "      <td>1</td>\n",
       "      <td>101348.88</td>\n",
       "      <td>1</td>\n",
       "    </tr>\n",
       "    <tr>\n",
       "      <th>1</th>\n",
       "      <td>608</td>\n",
       "      <td>2.0</td>\n",
       "      <td>0.0</td>\n",
       "      <td>41</td>\n",
       "      <td>1</td>\n",
       "      <td>83807.86</td>\n",
       "      <td>1</td>\n",
       "      <td>0</td>\n",
       "      <td>1</td>\n",
       "      <td>112542.58</td>\n",
       "      <td>0</td>\n",
       "    </tr>\n",
       "    <tr>\n",
       "      <th>2</th>\n",
       "      <td>502</td>\n",
       "      <td>0.0</td>\n",
       "      <td>0.0</td>\n",
       "      <td>42</td>\n",
       "      <td>8</td>\n",
       "      <td>159660.80</td>\n",
       "      <td>3</td>\n",
       "      <td>1</td>\n",
       "      <td>0</td>\n",
       "      <td>113931.57</td>\n",
       "      <td>1</td>\n",
       "    </tr>\n",
       "    <tr>\n",
       "      <th>3</th>\n",
       "      <td>699</td>\n",
       "      <td>0.0</td>\n",
       "      <td>0.0</td>\n",
       "      <td>39</td>\n",
       "      <td>1</td>\n",
       "      <td>0.00</td>\n",
       "      <td>2</td>\n",
       "      <td>0</td>\n",
       "      <td>0</td>\n",
       "      <td>93826.63</td>\n",
       "      <td>0</td>\n",
       "    </tr>\n",
       "    <tr>\n",
       "      <th>4</th>\n",
       "      <td>850</td>\n",
       "      <td>2.0</td>\n",
       "      <td>0.0</td>\n",
       "      <td>43</td>\n",
       "      <td>2</td>\n",
       "      <td>125510.82</td>\n",
       "      <td>1</td>\n",
       "      <td>1</td>\n",
       "      <td>1</td>\n",
       "      <td>79084.10</td>\n",
       "      <td>0</td>\n",
       "    </tr>\n",
       "    <tr>\n",
       "      <th>5</th>\n",
       "      <td>645</td>\n",
       "      <td>2.0</td>\n",
       "      <td>1.0</td>\n",
       "      <td>44</td>\n",
       "      <td>8</td>\n",
       "      <td>113755.78</td>\n",
       "      <td>2</td>\n",
       "      <td>1</td>\n",
       "      <td>0</td>\n",
       "      <td>149756.71</td>\n",
       "      <td>1</td>\n",
       "    </tr>\n",
       "    <tr>\n",
       "      <th>6</th>\n",
       "      <td>822</td>\n",
       "      <td>0.0</td>\n",
       "      <td>1.0</td>\n",
       "      <td>50</td>\n",
       "      <td>7</td>\n",
       "      <td>0.00</td>\n",
       "      <td>2</td>\n",
       "      <td>1</td>\n",
       "      <td>1</td>\n",
       "      <td>10062.80</td>\n",
       "      <td>0</td>\n",
       "    </tr>\n",
       "    <tr>\n",
       "      <th>7</th>\n",
       "      <td>376</td>\n",
       "      <td>1.0</td>\n",
       "      <td>0.0</td>\n",
       "      <td>29</td>\n",
       "      <td>4</td>\n",
       "      <td>115046.74</td>\n",
       "      <td>4</td>\n",
       "      <td>1</td>\n",
       "      <td>0</td>\n",
       "      <td>119346.88</td>\n",
       "      <td>1</td>\n",
       "    </tr>\n",
       "    <tr>\n",
       "      <th>8</th>\n",
       "      <td>501</td>\n",
       "      <td>0.0</td>\n",
       "      <td>1.0</td>\n",
       "      <td>44</td>\n",
       "      <td>4</td>\n",
       "      <td>142051.07</td>\n",
       "      <td>2</td>\n",
       "      <td>0</td>\n",
       "      <td>1</td>\n",
       "      <td>74940.50</td>\n",
       "      <td>0</td>\n",
       "    </tr>\n",
       "    <tr>\n",
       "      <th>9</th>\n",
       "      <td>684</td>\n",
       "      <td>0.0</td>\n",
       "      <td>1.0</td>\n",
       "      <td>27</td>\n",
       "      <td>2</td>\n",
       "      <td>134603.88</td>\n",
       "      <td>1</td>\n",
       "      <td>1</td>\n",
       "      <td>1</td>\n",
       "      <td>71725.73</td>\n",
       "      <td>0</td>\n",
       "    </tr>\n",
       "  </tbody>\n",
       "</table>\n",
       "</div>"
      ],
      "text/plain": [
       "   credit_score  geography  gender  age  tenure    balance  num_of_products  \\\n",
       "0           619        0.0     0.0   42       2       0.00                1   \n",
       "1           608        2.0     0.0   41       1   83807.86                1   \n",
       "2           502        0.0     0.0   42       8  159660.80                3   \n",
       "3           699        0.0     0.0   39       1       0.00                2   \n",
       "4           850        2.0     0.0   43       2  125510.82                1   \n",
       "5           645        2.0     1.0   44       8  113755.78                2   \n",
       "6           822        0.0     1.0   50       7       0.00                2   \n",
       "7           376        1.0     0.0   29       4  115046.74                4   \n",
       "8           501        0.0     1.0   44       4  142051.07                2   \n",
       "9           684        0.0     1.0   27       2  134603.88                1   \n",
       "\n",
       "   has_cr_card  is_active_member  estimated_salary  exited  \n",
       "0            1                 1         101348.88       1  \n",
       "1            0                 1         112542.58       0  \n",
       "2            1                 0         113931.57       1  \n",
       "3            0                 0          93826.63       0  \n",
       "4            1                 1          79084.10       0  \n",
       "5            1                 0         149756.71       1  \n",
       "6            1                 1          10062.80       0  \n",
       "7            1                 0         119346.88       1  \n",
       "8            0                 1          74940.50       0  \n",
       "9            1                 1          71725.73       0  "
      ]
     },
     "execution_count": 205,
     "metadata": {},
     "output_type": "execute_result"
    }
   ],
   "source": [
    "\n",
    "encoder = OrdinalEncoder()\n",
    "data_ordinal = data\n",
    "encoder.fit(data_ordinal[['geography', 'gender']])\n",
    "data_ordinal[['geography', 'gender']] = encoder.transform(data_ordinal[['geography', 'gender']])\n",
    "data_ordinal.head(10)"
   ]
  },
  {
   "cell_type": "markdown",
   "metadata": {},
   "source": [
    "Исправил"
   ]
  },
  {
   "cell_type": "markdown",
   "metadata": {},
   "source": [
    "Итог предобработки данных:\n",
    "\n",
    "    Проверено на наличие явных дубликатов\n",
    "    \n",
    "    Удалены пропуски в датасете.\n",
    "\n",
    "    Удалены столбцы RowNumber, CustomerId, Surname. Названия столбцов приведены к правильному стилю написания.\n",
    "    \n",
    "    Категориальные признаки в датасете преобразованы в численные с помощью двух техник прямого кодирования (OHE) и порядкового кодирования (OrdinalEncoder)."
   ]
  },
  {
   "cell_type": "markdown",
   "metadata": {},
   "source": [
    "## Исследование задачи"
   ]
  },
  {
   "cell_type": "markdown",
   "metadata": {},
   "source": [
    "Исследовать будем с помощью трех моделей: дерево решений, случайный лес и логистическая регрессия.\n",
    "\n",
    "Но с начала посмотрим на баланс классов искомого признака. "
   ]
  },
  {
   "cell_type": "markdown",
   "metadata": {},
   "source": [
    "### Баланс классов"
   ]
  },
  {
   "cell_type": "code",
   "execution_count": 206,
   "metadata": {},
   "outputs": [
    {
     "data": {
      "text/plain": [
       "0    7237\n",
       "1    1854\n",
       "Name: exited, dtype: int64"
      ]
     },
     "execution_count": 206,
     "metadata": {},
     "output_type": "execute_result"
    },
    {
     "data": {
      "image/png": "[encoded data removed]",
      "text/plain": [
       "<Figure size 432x288 with 1 Axes>"
      ]
     },
     "metadata": {
      "needs_background": "light"
     },
     "output_type": "display_data"
    }
   ],
   "source": [
    "f, ax = plt.subplots(1, 1)\n",
    "data['exited'].value_counts().plot(kind='bar', label='valid');\n",
    "data['exited'].value_counts()"
   ]
  },
  {
   "cell_type": "markdown",
   "metadata": {},
   "source": [
    "Соотношение классов практически 4:1. Это говорит о том, что они не сбалансированы. В следующем пункте постараемся избавиться от дисбаланса классов."
   ]
  },
  {
   "cell_type": "markdown",
   "metadata": {},
   "source": [
    "### Решающее дерево"
   ]
  },
  {
   "cell_type": "markdown",
   "metadata": {},
   "source": [
    "Для проверки моделей на правильность предсказаний нужно разбить данные на три части: обучающую, валидационную и тестовую. Размеры тестового и валидационного наборов обычно равны. Данные будут разбиваться в соотношении 3:1:1."
   ]
  },
  {
   "cell_type": "code",
   "execution_count": 207,
   "metadata": {},
   "outputs": [],
   "source": [
    "\n",
    "features_ord = data_ordinal.drop(['exited'], axis=1)\n",
    "target_ord = data_ordinal['exited']"
   ]
  },
  {
   "cell_type": "markdown",
   "metadata": {},
   "source": [
    "Разделим данные на обучающую, тестовую и валидационную. Соотношение будет 3:1:1"
   ]
  },
  {
   "cell_type": "code",
   "execution_count": 208,
   "metadata": {},
   "outputs": [],
   "source": [
    "features_train_ord, features_test_ord, target_train_ord, target_test_ord  = train_test_split(\n",
    "    features_ord, \n",
    "    target_ord, \n",
    "    train_size=0.6, random_state=12345)\n",
    "features_test_ord, features_valid_ord, target_test_ord, target_valid_ord = train_test_split(\n",
    "    features_test_ord, \n",
    "    target_test_ord, \n",
    "    test_size=0.5, random_state=12345)"
   ]
  },
  {
   "cell_type": "markdown",
   "metadata": {},
   "source": [
    "Посмотрим, что получилось"
   ]
  },
  {
   "cell_type": "code",
   "execution_count": 209,
   "metadata": {},
   "outputs": [
    {
     "data": {
      "text/plain": [
       "'количество строк в features_train_ord'"
      ]
     },
     "metadata": {},
     "output_type": "display_data"
    },
    {
     "data": {
      "text/plain": [
       "5454"
      ]
     },
     "metadata": {},
     "output_type": "display_data"
    },
    {
     "data": {
      "text/plain": [
       "'количество строк в target_train_ord'"
      ]
     },
     "metadata": {},
     "output_type": "display_data"
    },
    {
     "data": {
      "text/plain": [
       "5454"
      ]
     },
     "metadata": {},
     "output_type": "display_data"
    },
    {
     "data": {
      "text/plain": [
       "'количество строк в features_test_ord'"
      ]
     },
     "metadata": {},
     "output_type": "display_data"
    },
    {
     "data": {
      "text/plain": [
       "1818"
      ]
     },
     "metadata": {},
     "output_type": "display_data"
    },
    {
     "data": {
      "text/plain": [
       "'количество строк в target_test_ord'"
      ]
     },
     "metadata": {},
     "output_type": "display_data"
    },
    {
     "data": {
      "text/plain": [
       "1818"
      ]
     },
     "metadata": {},
     "output_type": "display_data"
    },
    {
     "data": {
      "text/plain": [
       "'количество строк в features_valid_ord'"
      ]
     },
     "metadata": {},
     "output_type": "display_data"
    },
    {
     "data": {
      "text/plain": [
       "1819"
      ]
     },
     "metadata": {},
     "output_type": "display_data"
    },
    {
     "data": {
      "text/plain": [
       "'количество строк в target_valid_ord'"
      ]
     },
     "metadata": {},
     "output_type": "display_data"
    },
    {
     "data": {
      "text/plain": [
       "1819"
      ]
     },
     "metadata": {},
     "output_type": "display_data"
    }
   ],
   "source": [
    "display('количество строк в features_train_ord', features_train_ord.shape[0])\n",
    "display('количество строк в target_train_ord', target_train_ord.shape[0])\n",
    "display('количество строк в features_test_ord', features_test_ord.shape[0])\n",
    "display('количество строк в target_test_ord', target_test_ord.shape[0])\n",
    "display('количество строк в features_valid_ord', features_valid_ord.shape[0])\n",
    "display('количество строк в target_valid_ord', target_valid_ord.shape[0])"
   ]
  },
  {
   "cell_type": "markdown",
   "metadata": {},
   "source": [
    "Проверим \"состав\" искомого признака обучающей модели, чтоб не было перекосов."
   ]
  },
  {
   "cell_type": "code",
   "execution_count": 210,
   "metadata": {},
   "outputs": [
    {
     "data": {
      "text/plain": [
       "0    4328\n",
       "1    1126\n",
       "Name: exited, dtype: int64"
      ]
     },
     "execution_count": 210,
     "metadata": {},
     "output_type": "execute_result"
    }
   ],
   "source": [
    "target_train_ord.value_counts()"
   ]
  },
  {
   "cell_type": "markdown",
   "metadata": {},
   "source": [
    "Сделаем масштабирование признаков"
   ]
  },
  {
   "cell_type": "code",
   "execution_count": 211,
   "metadata": {},
   "outputs": [
    {
     "name": "stderr",
     "output_type": "stream",
     "text": [
      "/tmp/ipykernel_31/2367850413.py:4: SettingWithCopyWarning: \n",
      "A value is trying to be set on a copy of a slice from a DataFrame.\n",
      "Try using .loc[row_indexer,col_indexer] = value instead\n",
      "\n",
      "See the caveats in the documentation: https://pandas.pydata.org/pandas-docs/stable/user_guide/indexing.html#returning-a-view-versus-a-copy\n",
      "  features_train_ord[numeric] = scaler.transform(features_train_ord[numeric])\n",
      "/opt/conda/lib/python3.9/site-packages/pandas/core/indexing.py:1738: SettingWithCopyWarning: \n",
      "A value is trying to be set on a copy of a slice from a DataFrame.\n",
      "Try using .loc[row_indexer,col_indexer] = value instead\n",
      "\n",
      "See the caveats in the documentation: https://pandas.pydata.org/pandas-docs/stable/user_guide/indexing.html#returning-a-view-versus-a-copy\n",
      "  self._setitem_single_column(loc, value[:, i].tolist(), pi)\n"
     ]
    }
   ],
   "source": [
    "numeric=['credit_score', 'age', 'tenure', 'balance', 'num_of_products', 'estimated_salary']\n",
    "scaler = StandardScaler()\n",
    "scaler.fit(features_train_ord[numeric]) \n",
    "features_train_ord[numeric] = scaler.transform(features_train_ord[numeric])\n",
    "features_valid_ord[numeric] = scaler.transform(features_valid_ord[numeric])\n",
    "features_test_ord[numeric] = scaler.transform(features_test_ord[numeric])\n"
   ]
  },
  {
   "cell_type": "code",
   "execution_count": 212,
   "metadata": {},
   "outputs": [
    {
     "name": "stdout",
     "output_type": "stream",
     "text": [
      "0.5342960288808665\n"
     ]
    }
   ],
   "source": [
    "    model = DecisionTreeClassifier(random_state=12345, max_depth=5)\n",
    "    model.fit(features_train_ord, target_train_ord)\n",
    "    predictions = model.predict(features_valid_ord)\n",
    "    print(f1_score(target_valid_ord, predictions))"
   ]
  },
  {
   "cell_type": "code",
   "execution_count": 213,
   "metadata": {},
   "outputs": [
    {
     "name": "stdout",
     "output_type": "stream",
     "text": [
      "F1-мера = 0.5342960288808665 с глубиной: 5\n",
      "Accuracy наилучшей модели: 0.8411214953271028\n",
      "Полнота: 0.452991452991453\n",
      "Точность: 0.62109375\n"
     ]
    }
   ],
   "source": [
    "best_model = None\n",
    "best_result = 0\n",
    "best_predictions = 0\n",
    "for depth in range(1, 11):\n",
    "    model = DecisionTreeClassifier(random_state=12345, max_depth=depth)\n",
    "    model.fit(features_train_ord, target_train_ord)\n",
    "    predictions = model.predict(features_valid_ord)\n",
    "    result = f1_score(target_valid_ord, predictions)\n",
    "    if result > best_result:\n",
    "        best_model = model\n",
    "        best_result = result\n",
    "        best_predictions = predictions\n",
    "    \n",
    "print('F1-мера =', best_result,'с глубиной:', best_model.max_depth)\n",
    "print(\"Accuracy наилучшей модели:\", model.score(features_valid_ord, target_valid_ord))\n",
    "print('Полнота:', recall_score(target_valid_ord, predictions))\n",
    "print('Точность:', precision_score(target_valid_ord, predictions))"
   ]
  },
  {
   "cell_type": "markdown",
   "metadata": {},
   "source": [
    "Исправлено"
   ]
  },
  {
   "cell_type": "markdown",
   "metadata": {},
   "source": [
    "### Случайный лес"
   ]
  },
  {
   "cell_type": "markdown",
   "metadata": {},
   "source": [
    "Сперва найдем наилучшую глубину случайного леса, а потом и количество деревьев."
   ]
  },
  {
   "cell_type": "code",
   "execution_count": 214,
   "metadata": {},
   "outputs": [
    {
     "name": "stdout",
     "output_type": "stream",
     "text": [
      "F1-мера = 0.5683060109289617\n",
      "Глубина: 13\n"
     ]
    }
   ],
   "source": [
    "best_model = None\n",
    "best_result = 0\n",
    "for depth in range(1, 16, 1):\n",
    "    model = RandomForestClassifier(n_estimators=100, max_depth=depth, random_state=12345)\n",
    "    model.fit(features_train_ord, target_train_ord)\n",
    "    predictions = model.predict(features_valid_ord)\n",
    "    result = f1_score(target_valid_ord, predictions) \n",
    "    if result > best_result:\n",
    "        best_model = model \n",
    "        best_result = result \n",
    "        a = best_model.max_depth\n",
    "        \n",
    "print(\"F1-мера =\", best_result)\n",
    "print(\"Глубина:\",  a)"
   ]
  },
  {
   "cell_type": "markdown",
   "metadata": {},
   "source": [
    "Теперь количество деревьев"
   ]
  },
  {
   "cell_type": "code",
   "execution_count": 215,
   "metadata": {},
   "outputs": [
    {
     "name": "stdout",
     "output_type": "stream",
     "text": [
      "F1-мера наилучшей модели = 0.572992700729927 с количеством деревьев 78\n",
      "Accuracy: 0.8702583837273227\n",
      "Полнота: 0.4472934472934473\n",
      "Точность: 0.7969543147208121\n"
     ]
    }
   ],
   "source": [
    "best_model = None\n",
    "best_result = 0\n",
    "best_predictions = 0\n",
    "for est in range(1, 100):\n",
    "    model = RandomForestClassifier(random_state=12345, n_estimators= est, max_depth=a) \n",
    "    model.fit(features_train_ord, target_train_ord) \n",
    "    predictions = model.predict(features_valid_ord)\n",
    "    result = f1_score(target_valid_ord, predictions)\n",
    "    if result > best_result:\n",
    "        best_model = model \n",
    "        best_result = result \n",
    "        best_predictions = predictions\n",
    "        \n",
    "print('F1-мера наилучшей модели =', best_result,'с количеством деревьев', best_model.n_estimators)        \n",
    "print(\"Accuracy:\", model.score(features_valid_ord, target_valid_ord))\n",
    "print('Полнота:', recall_score(target_valid_ord, best_predictions))\n",
    "print('Точность:', precision_score(target_valid_ord, best_predictions))"
   ]
  },
  {
   "cell_type": "markdown",
   "metadata": {},
   "source": [
    "### Логистическая регрессия"
   ]
  },
  {
   "cell_type": "markdown",
   "metadata": {},
   "source": [
    "Для логистической регрессии будем использовать подготовленный ранее датасет data_ohe. \n",
    "\n",
    "Так же как и в предыдущих моделях разделим его на обучающие признаки и целевой. Затем на обучающие выборки, тестовый и валидационный"
   ]
  },
  {
   "cell_type": "code",
   "execution_count": 216,
   "metadata": {},
   "outputs": [],
   "source": [
    "features_ohe = data_ohe.drop(['exited'], axis=1)\n",
    "target_ohe = data_ohe['exited']\n",
    "\n",
    "features_train_ohe, features_test_ohe, target_train_ohe, target_test_ohe  = train_test_split(\n",
    "    features_ohe, \n",
    "    target_ohe, \n",
    "    train_size=0.6, random_state=12345)\n",
    "features_test_ohe, features_valid_ohe, target_test_ohe, target_valid_ohe = train_test_split(\n",
    "    features_test_ohe, \n",
    "    target_test_ohe, \n",
    "    test_size=0.5, random_state=12345)"
   ]
  },
  {
   "cell_type": "markdown",
   "metadata": {},
   "source": [
    "Посмотрим, что получилось"
   ]
  },
  {
   "cell_type": "code",
   "execution_count": 217,
   "metadata": {},
   "outputs": [
    {
     "data": {
      "text/plain": [
       "'количество строк в features_train_ohe'"
      ]
     },
     "metadata": {},
     "output_type": "display_data"
    },
    {
     "data": {
      "text/plain": [
       "5454"
      ]
     },
     "metadata": {},
     "output_type": "display_data"
    },
    {
     "data": {
      "text/plain": [
       "'количество строк в target_train_ohe'"
      ]
     },
     "metadata": {},
     "output_type": "display_data"
    },
    {
     "data": {
      "text/plain": [
       "5454"
      ]
     },
     "metadata": {},
     "output_type": "display_data"
    },
    {
     "data": {
      "text/plain": [
       "'количество строк в features_test_ohe'"
      ]
     },
     "metadata": {},
     "output_type": "display_data"
    },
    {
     "data": {
      "text/plain": [
       "1818"
      ]
     },
     "metadata": {},
     "output_type": "display_data"
    },
    {
     "data": {
      "text/plain": [
       "'количество строк в target_test_ohe'"
      ]
     },
     "metadata": {},
     "output_type": "display_data"
    },
    {
     "data": {
      "text/plain": [
       "1818"
      ]
     },
     "metadata": {},
     "output_type": "display_data"
    },
    {
     "data": {
      "text/plain": [
       "'количество строк в features_valid_ohe'"
      ]
     },
     "metadata": {},
     "output_type": "display_data"
    },
    {
     "data": {
      "text/plain": [
       "1819"
      ]
     },
     "metadata": {},
     "output_type": "display_data"
    },
    {
     "data": {
      "text/plain": [
       "'количество строк в target_valid_ohe'"
      ]
     },
     "metadata": {},
     "output_type": "display_data"
    },
    {
     "data": {
      "text/plain": [
       "1819"
      ]
     },
     "metadata": {},
     "output_type": "display_data"
    },
    {
     "name": "stdout",
     "output_type": "stream",
     "text": [
      "0    4328\n",
      "1    1126\n",
      "Name: exited, dtype: int64\n"
     ]
    }
   ],
   "source": [
    "display('количество строк в features_train_ohe', features_train_ohe.shape[0])\n",
    "display('количество строк в target_train_ohe', target_train_ohe.shape[0])\n",
    "display('количество строк в features_test_ohe', features_test_ohe.shape[0])\n",
    "display('количество строк в target_test_ohe', target_test_ohe.shape[0])\n",
    "display('количество строк в features_valid_ohe', features_valid_ohe.shape[0])\n",
    "display('количество строк в target_valid_ohe', target_valid_ohe.shape[0])\n",
    "print(target_train_ord.value_counts())"
   ]
  },
  {
   "cell_type": "code",
   "execution_count": 218,
   "metadata": {},
   "outputs": [
    {
     "name": "stderr",
     "output_type": "stream",
     "text": [
      "/tmp/ipykernel_31/658020059.py:4: SettingWithCopyWarning: \n",
      "A value is trying to be set on a copy of a slice from a DataFrame.\n",
      "Try using .loc[row_indexer,col_indexer] = value instead\n",
      "\n",
      "See the caveats in the documentation: https://pandas.pydata.org/pandas-docs/stable/user_guide/indexing.html#returning-a-view-versus-a-copy\n",
      "  features_train_ohe[numeric] = scaler.transform(features_train_ohe[numeric])\n",
      "/opt/conda/lib/python3.9/site-packages/pandas/core/indexing.py:1738: SettingWithCopyWarning: \n",
      "A value is trying to be set on a copy of a slice from a DataFrame.\n",
      "Try using .loc[row_indexer,col_indexer] = value instead\n",
      "\n",
      "See the caveats in the documentation: https://pandas.pydata.org/pandas-docs/stable/user_guide/indexing.html#returning-a-view-versus-a-copy\n",
      "  self._setitem_single_column(loc, value[:, i].tolist(), pi)\n"
     ]
    }
   ],
   "source": [
    "numeric=['credit_score', 'age', 'tenure', 'balance', 'num_of_products', 'estimated_salary']\n",
    "scaler = StandardScaler()\n",
    "scaler.fit(features_train_ohe[numeric]) \n",
    "features_train_ohe[numeric] = scaler.transform(features_train_ohe[numeric])\n",
    "features_valid_ohe[numeric] = scaler.transform(features_valid_ohe[numeric])\n",
    "features_test_ohe[numeric] = scaler.transform(features_test_ohe[numeric])"
   ]
  },
  {
   "cell_type": "code",
   "execution_count": 219,
   "metadata": {},
   "outputs": [
    {
     "name": "stdout",
     "output_type": "stream",
     "text": [
      "F1-мера = 0.32119914346895073\n",
      "Accuracy = 0.8257284222100055\n",
      "Полнота: 0.4472934472934473\n",
      "Точность: 0.7969543147208121\n"
     ]
    }
   ],
   "source": [
    "model = LogisticRegression(solver='lbfgs', random_state=12345)\n",
    "model.fit(features_train_ohe, target_train_ohe) \n",
    "predictions = model.predict(features_valid_ohe)\n",
    "result = model.score(features_valid_ohe, target_valid_ohe) \n",
    "\n",
    "print('F1-мера =', f1_score(target_valid_ohe, predictions))\n",
    "print(\"Accuracy =\", result)\n",
    "print('Полнота:', recall_score(target_valid_ohe, best_predictions))\n",
    "print('Точность:', precision_score(target_valid_ohe, best_predictions))"
   ]
  },
  {
   "cell_type": "markdown",
   "metadata": {},
   "source": [
    "### Вывод"
   ]
  },
  {
   "cell_type": "markdown",
   "metadata": {},
   "source": [
    "В ходе исследования задачи был выявлен дисбаланс классов.\n",
    "\n",
    "Были изучены модели без учёта дисбаланса\n",
    "\n",
    "Определены гиперпараметры моделей решающего дерева и случайного леса с самым высоким значением Accuracy:\n",
    "\n",
    "    DecisionTreeClassifier(random_state=12345, max_depth=5)\n",
    "\n",
    "    RandomForestClassifier(random_state=12345, n_estimators= 78, max_depth=13)\n",
    "\n",
    "Рассчитаны показатели качества для моделей: Accuracy, F1-мера, Precision, Recall.\n",
    "\n",
    "Из-за дисбаланса классов прослеживается довольно низкое значение метрики полноты."
   ]
  },
  {
   "cell_type": "markdown",
   "metadata": {},
   "source": [
    "Посчитаю ROC на наилучшей модели, случайного леса без учета дисбаланса"
   ]
  },
  {
   "cell_type": "code",
   "execution_count": 236,
   "metadata": {
    "scrolled": true
   },
   "outputs": [
    {
     "name": "stdout",
     "output_type": "stream",
     "text": [
      "ROC случайного леса c учетом дисбаланса : 0.84854774602731\n"
     ]
    }
   ],
   "source": [
    "model = RandomForestClassifier(random_state=12345, n_estimators= 78, max_depth=13) \n",
    "model.fit(features_train_ord, target_train_ord) \n",
    "probabilities_valid = model.predict_proba(features_valid_ord)\n",
    "probabilities_one_valid = probabilities_f[:, 1]\n",
    "\n",
    "print(\"ROC случайного леса c учетом дисбаланса :\", roc_auc_score(target_valid_ord, probabilities_one_valid))"
   ]
  },
  {
   "cell_type": "markdown",
   "metadata": {},
   "source": [
    "Исправлено, проскочил мимо)"
   ]
  },
  {
   "cell_type": "markdown",
   "metadata": {},
   "source": [
    "## Борьба с дисбалансом"
   ]
  },
  {
   "cell_type": "markdown",
   "metadata": {},
   "source": [
    "С дисбалансом будем бороться с помощью техник: upsampling, downsampling и указанием аргумента class_weight='balanced'.\n",
    "\n",
    "Сделаем функции для upsampling и downsampling"
   ]
  },
  {
   "cell_type": "code",
   "execution_count": 221,
   "metadata": {},
   "outputs": [],
   "source": [
    "def upsample(features, target, repeat):\n",
    "    features_zeros = features[target == 0]\n",
    "    features_ones = features[target == 1]\n",
    "    target_zeros = target[target == 0]\n",
    "    target_ones = target[target == 1]\n",
    "\n",
    "    features_upsampled = pd.concat([features_zeros] + [features_ones] * repeat)\n",
    "    target_upsampled = pd.concat([target_zeros] + [target_ones] * repeat)\n",
    "    \n",
    "    features_upsampled, target_upsampled = shuffle(\n",
    "        features_upsampled, target_upsampled, random_state=12345)\n",
    "    \n",
    "    return features_upsampled, target_upsampled\n",
    "\n"
   ]
  },
  {
   "cell_type": "code",
   "execution_count": 222,
   "metadata": {},
   "outputs": [],
   "source": [
    "def downsample(features, target, fraction):\n",
    "    features_zeros = features[target == 0]\n",
    "    features_ones = features[target == 1]\n",
    "    target_zeros = target[target == 0]\n",
    "    target_ones = target[target == 1]\n",
    "\n",
    "    features_downsampled = pd.concat(\n",
    "        [features_zeros.sample(frac=fraction, random_state=12345)] + [features_ones])\n",
    "    target_downsampled = pd.concat(\n",
    "        [target_zeros.sample(frac=fraction, random_state=12345)] + [target_ones])\n",
    "    \n",
    "    features_downsampled, target_downsampled = shuffle(\n",
    "        features_downsampled, target_downsampled, random_state=12345)\n",
    "    \n",
    "    return features_downsampled, target_downsampled"
   ]
  },
  {
   "cell_type": "markdown",
   "metadata": {},
   "source": [
    "Проверим, какая техника борьбы с дисбалансов наилучший на каждой модели."
   ]
  },
  {
   "cell_type": "markdown",
   "metadata": {},
   "source": [
    "### Решающее дерево"
   ]
  },
  {
   "cell_type": "markdown",
   "metadata": {},
   "source": [
    "Начнем с простого, указав параметр class_weight='balanced'"
   ]
  },
  {
   "cell_type": "code",
   "execution_count": 223,
   "metadata": {},
   "outputs": [
    {
     "name": "stdout",
     "output_type": "stream",
     "text": [
      "Accuracy наилучшей модели: 0.7894447498625619\n",
      "F1-мера = 0.5488810365135454\n",
      "Полнота: 0.6638176638176638\n",
      "Точность: 0.4678714859437751\n"
     ]
    }
   ],
   "source": [
    "model = DecisionTreeClassifier(random_state=12345, max_depth=5, class_weight='balanced')\n",
    "model.fit(features_train_ord, target_train_ord)\n",
    "result = model.score(features_valid_ord, target_valid_ord)\n",
    "predictions = model.predict(features_valid_ord)\n",
    "print(\"Accuracy наилучшей модели:\", result)\n",
    "print('F1-мера =', f1_score(target_valid_ord, predictions))\n",
    "print('Полнота:', recall_score(target_valid_ord, predictions))\n",
    "print('Точность:', precision_score(target_valid_ord, predictions))\n",
    "\n",
    "#Создаю таблицу для удобства просмотра качеств моделей\n",
    "Model = 'Решающее дерево'\n",
    "Balanc = 'class_weight'\n",
    "tablo = [[result, f1_score(target_valid_ord, predictions), recall_score(target_valid_ord, predictions),\n",
    "          precision_score(target_valid_ord, predictions), Model, Balanc]]\n",
    "quality = pd.DataFrame(tablo, columns=[\"Accuracy\", \"F1-мера\", \"Полнота\", \"Точность\", \"Модель\", \"Баланс\"])"
   ]
  },
  {
   "cell_type": "markdown",
   "metadata": {},
   "source": [
    "upsampling так как дисбаланс около 1:4, то увеличивать будем в 4 раза."
   ]
  },
  {
   "cell_type": "code",
   "execution_count": 224,
   "metadata": {},
   "outputs": [
    {
     "name": "stdout",
     "output_type": "stream",
     "text": [
      "Accuracy наилучшей модели: 0.7622282608695652\n",
      "F1-мера = 0.5488810365135454\n",
      "Полнота: 0.6638176638176638\n",
      "Точность: 0.4678714859437751\n"
     ]
    }
   ],
   "source": [
    "features_upsampled, target_upsampled = upsample(features_train_ord, target_train_ord, 4)\n",
    "\n",
    "model = DecisionTreeClassifier(random_state=12345, max_depth=5)\n",
    "model.fit(features_upsampled, target_upsampled)\n",
    "result = model.score(features_upsampled, target_upsampled)\n",
    "predictions = model.predict(features_valid_ord)\n",
    "\n",
    "print(\"Accuracy наилучшей модели:\", result)\n",
    "print('F1-мера =', f1_score(target_valid_ord, predictions))\n",
    "print('Полнота:', recall_score(target_valid_ord, predictions))\n",
    "print('Точность:', precision_score(target_valid_ord, predictions))\n",
    "\n",
    "Model = 'Решающее дерево'\n",
    "Balanc = 'upsampling'\n",
    "new_index = {'Accuracy':result, \"F1-мера\":f1_score(target_valid_ord, predictions), \n",
    "             \"Полнота\":recall_score(target_valid_ord, predictions),\n",
    "          \"Точность\":precision_score(target_valid_ord, predictions), \n",
    "             \"Модель\":Model, \"Баланс\":Balanc}\n",
    "quality = quality.append(new_index, ignore_index=True)"
   ]
  },
  {
   "cell_type": "markdown",
   "metadata": {},
   "source": [
    "downsampling"
   ]
  },
  {
   "cell_type": "code",
   "execution_count": 225,
   "metadata": {},
   "outputs": [
    {
     "name": "stdout",
     "output_type": "stream",
     "text": [
      "0    4328\n",
      "1    1126\n",
      "Name: exited, dtype: int64\n",
      "fraction =  0.2601663585951941\n"
     ]
    }
   ],
   "source": [
    "print(target_train_ord.value_counts())\n",
    "print('fraction = ', target_train_ord.value_counts()[1]/target_train_ord.value_counts()[0])"
   ]
  },
  {
   "cell_type": "markdown",
   "metadata": {},
   "source": [
    "Каюсь, значение fraction перебирал по лучшему показанию F1"
   ]
  },
  {
   "cell_type": "code",
   "execution_count": 226,
   "metadata": {},
   "outputs": [
    {
     "name": "stdout",
     "output_type": "stream",
     "text": [
      "Accuracy наилучшей модели: 0.7765437583296313\n",
      "F1-мера = 0.5517241379310345\n",
      "Полнота: 0.6609686609686609\n",
      "Точность: 0.47346938775510206\n"
     ]
    },
    {
     "data": {
      "text/html": [
       "<div>\n",
       "<style scoped>\n",
       "    .dataframe tbody tr th:only-of-type {\n",
       "        vertical-align: middle;\n",
       "    }\n",
       "\n",
       "    .dataframe tbody tr th {\n",
       "        vertical-align: top;\n",
       "    }\n",
       "\n",
       "    .dataframe thead th {\n",
       "        text-align: right;\n",
       "    }\n",
       "</style>\n",
       "<table border=\"1\" class=\"dataframe\">\n",
       "  <thead>\n",
       "    <tr style=\"text-align: right;\">\n",
       "      <th></th>\n",
       "      <th>Accuracy</th>\n",
       "      <th>F1-мера</th>\n",
       "      <th>Полнота</th>\n",
       "      <th>Точность</th>\n",
       "      <th>Модель</th>\n",
       "      <th>Баланс</th>\n",
       "    </tr>\n",
       "  </thead>\n",
       "  <tbody>\n",
       "    <tr>\n",
       "      <th>0</th>\n",
       "      <td>0.789445</td>\n",
       "      <td>0.548881</td>\n",
       "      <td>0.663818</td>\n",
       "      <td>0.467871</td>\n",
       "      <td>Решающее дерево</td>\n",
       "      <td>class_weight</td>\n",
       "    </tr>\n",
       "    <tr>\n",
       "      <th>1</th>\n",
       "      <td>0.762228</td>\n",
       "      <td>0.548881</td>\n",
       "      <td>0.663818</td>\n",
       "      <td>0.467871</td>\n",
       "      <td>Решающее дерево</td>\n",
       "      <td>upsampling</td>\n",
       "    </tr>\n",
       "    <tr>\n",
       "      <th>2</th>\n",
       "      <td>0.776544</td>\n",
       "      <td>0.551724</td>\n",
       "      <td>0.660969</td>\n",
       "      <td>0.473469</td>\n",
       "      <td>Решающее дерево</td>\n",
       "      <td>downsampling</td>\n",
       "    </tr>\n",
       "  </tbody>\n",
       "</table>\n",
       "</div>"
      ],
      "text/plain": [
       "   Accuracy   F1-мера   Полнота  Точность           Модель        Баланс\n",
       "0  0.789445  0.548881  0.663818  0.467871  Решающее дерево  class_weight\n",
       "1  0.762228  0.548881  0.663818  0.467871  Решающее дерево    upsampling\n",
       "2  0.776544  0.551724  0.660969  0.473469  Решающее дерево  downsampling"
      ]
     },
     "execution_count": 226,
     "metadata": {},
     "output_type": "execute_result"
    }
   ],
   "source": [
    "features_downsampled, target_downsampled = downsample(features_train_ord, target_train_ord, 0.26)\n",
    "\n",
    "model = DecisionTreeClassifier(random_state=12345, max_depth=5)\n",
    "model.fit(features_downsampled, target_downsampled)\n",
    "result = model.score(features_downsampled, target_downsampled)\n",
    "predictions = model.predict(features_valid_ord)\n",
    "\n",
    "print(\"Accuracy наилучшей модели:\", result)\n",
    "print('F1-мера =', f1_score(target_valid_ord, predictions))\n",
    "print('Полнота:', recall_score(target_valid_ord, predictions))\n",
    "print('Точность:', precision_score(target_valid_ord, predictions))\n",
    "\n",
    "Model = 'Решающее дерево'\n",
    "Balanc = 'downsampling'\n",
    "new_index = {'Accuracy':result, \"F1-мера\":f1_score(target_valid_ord, predictions), \n",
    "             \"Полнота\":recall_score(target_valid_ord, predictions),\n",
    "          \"Точность\":precision_score(target_valid_ord, predictions), \n",
    "             \"Модель\":Model, \"Баланс\":Balanc}\n",
    "quality = quality.append(new_index, ignore_index=True)\n",
    "quality"
   ]
  },
  {
   "cell_type": "markdown",
   "metadata": {},
   "source": [
    "### Случайный лес"
   ]
  },
  {
   "cell_type": "markdown",
   "metadata": {},
   "source": [
    "class_weight='balanced'"
   ]
  },
  {
   "cell_type": "code",
   "execution_count": 227,
   "metadata": {},
   "outputs": [
    {
     "name": "stdout",
     "output_type": "stream",
     "text": [
      "Accuracy наилучшей модели: 0.857064321055525\n",
      "F1-мера = 0.5765472312703582\n",
      "Полнота: 0.5042735042735043\n",
      "Точность: 0.6730038022813688\n"
     ]
    }
   ],
   "source": [
    "model = RandomForestClassifier(random_state=12345, n_estimators= 78, max_depth=13, class_weight='balanced') \n",
    "model.fit(features_train_ord, target_train_ord)\n",
    "result = model.score(features_valid_ord, target_valid_ord) \n",
    "predictions = model.predict(features_valid_ord)\n",
    "\n",
    "print(\"Accuracy наилучшей модели:\", result)\n",
    "print('F1-мера =', f1_score(target_valid_ord, predictions))\n",
    "print('Полнота:', recall_score(target_valid_ord, predictions))\n",
    "print('Точность:', precision_score(target_valid_ord, predictions))\n",
    "\n",
    "Model = 'Случайный лес'\n",
    "Balanc = 'class_weight'\n",
    "new_index = {'Accuracy':result, \"F1-мера\":f1_score(target_valid_ord, predictions), \n",
    "             \"Полнота\":recall_score(target_valid_ord, predictions),\n",
    "          \"Точность\":precision_score(target_valid_ord, predictions), \n",
    "             \"Модель\":Model, \"Баланс\":Balanc}\n",
    "quality = quality.append(new_index, ignore_index=True)"
   ]
  },
  {
   "cell_type": "markdown",
   "metadata": {},
   "source": [
    "upsampling"
   ]
  },
  {
   "cell_type": "code",
   "execution_count": 228,
   "metadata": {},
   "outputs": [
    {
     "name": "stdout",
     "output_type": "stream",
     "text": [
      "Accuracy наилучшей модели: 0.8481657608695652\n",
      "F1-мера = 0.5555555555555556\n",
      "Полнота: 0.698005698005698\n",
      "Точность: 0.4613935969868173\n"
     ]
    }
   ],
   "source": [
    "\n",
    "\n",
    "model = RandomForestClassifier(random_state=12345, n_estimators= 81, max_depth=8) \n",
    "model.fit(features_upsampled, target_upsampled)\n",
    "result = model.score(features_upsampled, target_upsampled) \n",
    "predictions = model.predict(features_valid_ord)\n",
    "\n",
    "\n",
    "print(\"Accuracy наилучшей модели:\", result)\n",
    "print('F1-мера =', f1_score(target_valid_ord, predictions))\n",
    "print('Полнота:', recall_score(target_valid_ord, predictions))\n",
    "print('Точность:', precision_score(target_valid_ord, predictions))\n",
    "\n",
    "Model = 'Случайный лес'\n",
    "Balanc = 'upsampling'\n",
    "new_index = {'Accuracy':result, \"F1-мера\":f1_score(target_valid_ord, predictions), \n",
    "             \"Полнота\":recall_score(target_valid_ord, predictions),\n",
    "          \"Точность\":precision_score(target_valid_ord, predictions), \n",
    "             \"Модель\":Model, \"Баланс\":Balanc}\n",
    "quality = quality.append(new_index, ignore_index=True)"
   ]
  },
  {
   "cell_type": "markdown",
   "metadata": {},
   "source": [
    "downsampling"
   ]
  },
  {
   "cell_type": "code",
   "execution_count": 229,
   "metadata": {},
   "outputs": [
    {
     "name": "stdout",
     "output_type": "stream",
     "text": [
      "Accuracy наилучшей модели: 0.8756108396268325\n",
      "F1-мера = 0.5488180883864336\n",
      "Полнота: 0.7606837606837606\n",
      "Точность: 0.4292604501607717\n"
     ]
    }
   ],
   "source": [
    "\n",
    "\n",
    "model = RandomForestClassifier(random_state=12345, n_estimators= 81, max_depth=8) \n",
    "model.fit(features_downsampled, target_downsampled)\n",
    "result = model.score(features_downsampled, target_downsampled) \n",
    "predictions = model.predict(features_valid_ord)\n",
    "\n",
    "print(\"Accuracy наилучшей модели:\", result)\n",
    "print('F1-мера =', f1_score(target_valid_ord, predictions))\n",
    "print('Полнота:', recall_score(target_valid_ord, predictions))\n",
    "print('Точность:', precision_score(target_valid_ord, predictions))\n",
    "\n",
    "Model = 'Случайный лес'\n",
    "Balanc = 'downsampling'\n",
    "new_index = {'Accuracy':result, \"F1-мера\":f1_score(target_valid_ord, predictions), \n",
    "             \"Полнота\":recall_score(target_valid_ord, predictions),\n",
    "          \"Точность\":precision_score(target_valid_ord, predictions), \n",
    "             \"Модель\":Model, \"Баланс\":Balanc}\n",
    "quality = quality.append(new_index, ignore_index=True)"
   ]
  },
  {
   "cell_type": "markdown",
   "metadata": {},
   "source": [
    "### Логистическая регрессия"
   ]
  },
  {
   "cell_type": "markdown",
   "metadata": {},
   "source": [
    "class_weight='balanced'"
   ]
  },
  {
   "cell_type": "code",
   "execution_count": 230,
   "metadata": {},
   "outputs": [
    {
     "name": "stdout",
     "output_type": "stream",
     "text": [
      "Accuracy = 0.7311709730621221\n",
      "F1-мера = 0.5025432349949135\n",
      "Полнота: 0.7037037037037037\n",
      "Точность: 0.39082278481012656\n"
     ]
    }
   ],
   "source": [
    "model = LogisticRegression(solver='lbfgs', random_state=12345, class_weight='balanced')\n",
    "model.fit(features_train_ohe, target_train_ohe) \n",
    "predictions = model.predict(features_valid_ohe)\n",
    "result = model.score(features_valid_ohe, target_valid_ohe) \n",
    "\n",
    "print(\"Accuracy =\", result)\n",
    "print('F1-мера =', f1_score(target_valid_ohe, predictions))\n",
    "print('Полнота:', recall_score(target_valid_ohe, predictions))\n",
    "print('Точность:', precision_score(target_valid_ohe, predictions))\n",
    "\n",
    "Model = 'Логистическая регрессия'\n",
    "Balanc = 'class_weight'\n",
    "new_index = {'Accuracy':result, \"F1-мера\":f1_score(target_valid_ohe, predictions), \n",
    "             \"Полнота\":recall_score(target_valid_ohe, predictions),\n",
    "          \"Точность\":precision_score(target_valid_ohe, predictions), \n",
    "             \"Модель\":Model, \"Баланс\":Balanc}\n",
    "quality = quality.append(new_index, ignore_index=True)"
   ]
  },
  {
   "cell_type": "markdown",
   "metadata": {},
   "source": [
    "upsampling"
   ]
  },
  {
   "cell_type": "code",
   "execution_count": 231,
   "metadata": {},
   "outputs": [
    {
     "name": "stdout",
     "output_type": "stream",
     "text": [
      "Accuracy = 0.7005208333333334\n",
      "F1-мера = 0.49653808110781406\n",
      "Полнота: 0.7150997150997151\n",
      "Точность: 0.3803030303030303\n"
     ]
    }
   ],
   "source": [
    "features_upsampled, target_upsampled = upsample(features_train_ohe, target_train_ohe, 4)\n",
    "\n",
    "model = LogisticRegression(solver='lbfgs', random_state=12345)\n",
    "model.fit(features_upsampled, target_upsampled) \n",
    "predictions = model.predict(features_valid_ohe)\n",
    "result = model.score(features_upsampled, target_upsampled) \n",
    "\n",
    "print(\"Accuracy =\", result)\n",
    "print('F1-мера =', f1_score(target_valid_ohe, predictions))\n",
    "print('Полнота:', recall_score(target_valid_ohe, predictions))\n",
    "print('Точность:', precision_score(target_valid_ohe, predictions))\n",
    "\n",
    "Model = 'Логистическая регрессия'\n",
    "Balanc = 'upsampling'\n",
    "new_index = {'Accuracy':result, \"F1-мера\":f1_score(target_valid_ohe, predictions), \n",
    "             \"Полнота\":recall_score(target_valid_ohe, predictions),\n",
    "          \"Точность\":precision_score(target_valid_ohe, predictions), \n",
    "             \"Модель\":Model, \"Баланс\":Balanc}\n",
    "quality = quality.append(new_index, ignore_index=True)"
   ]
  },
  {
   "cell_type": "markdown",
   "metadata": {},
   "source": [
    "downsampling"
   ]
  },
  {
   "cell_type": "code",
   "execution_count": 232,
   "metadata": {},
   "outputs": [
    {
     "name": "stdout",
     "output_type": "stream",
     "text": [
      "Accuracy = 0.7027987561083963\n",
      "F1-мера = 0.492462311557789\n",
      "Полнота: 0.698005698005698\n",
      "Точность: 0.3804347826086957\n"
     ]
    }
   ],
   "source": [
    "features_downsampled, target_downsampled = downsample(features_train_ohe, target_train_ohe, 0.26)\n",
    "\n",
    "model = LogisticRegression(solver='lbfgs', random_state=12345)\n",
    "model.fit(features_downsampled, target_downsampled) \n",
    "predictions = model.predict(features_valid_ohe)\n",
    "result = model.score(features_downsampled, target_downsampled) \n",
    "\n",
    "print(\"Accuracy =\", result)\n",
    "print('F1-мера =', f1_score(target_valid_ohe, predictions))\n",
    "print('Полнота:', recall_score(target_valid_ohe, predictions))\n",
    "print('Точность:', precision_score(target_valid_ohe, predictions))\n",
    "\n",
    "Model = 'Логистическая регрессия'\n",
    "Balanc = 'downsampling'\n",
    "new_index = {'Accuracy':result, \"F1-мера\":f1_score(target_valid_ohe, predictions), \n",
    "             \"Полнота\":recall_score(target_valid_ohe, predictions),\n",
    "          \"Точность\":precision_score(target_valid_ohe, predictions), \n",
    "             \"Модель\":Model, \"Баланс\":Balanc}\n",
    "quality = quality.append(new_index, ignore_index=True)"
   ]
  },
  {
   "cell_type": "markdown",
   "metadata": {},
   "source": [
    "### Вывод"
   ]
  },
  {
   "cell_type": "code",
   "execution_count": 233,
   "metadata": {},
   "outputs": [
    {
     "data": {
      "text/html": [
       "<div>\n",
       "<style scoped>\n",
       "    .dataframe tbody tr th:only-of-type {\n",
       "        vertical-align: middle;\n",
       "    }\n",
       "\n",
       "    .dataframe tbody tr th {\n",
       "        vertical-align: top;\n",
       "    }\n",
       "\n",
       "    .dataframe thead th {\n",
       "        text-align: right;\n",
       "    }\n",
       "</style>\n",
       "<table border=\"1\" class=\"dataframe\">\n",
       "  <thead>\n",
       "    <tr style=\"text-align: right;\">\n",
       "      <th></th>\n",
       "      <th>Accuracy</th>\n",
       "      <th>F1-мера</th>\n",
       "      <th>Полнота</th>\n",
       "      <th>Точность</th>\n",
       "      <th>Модель</th>\n",
       "      <th>Баланс</th>\n",
       "    </tr>\n",
       "  </thead>\n",
       "  <tbody>\n",
       "    <tr>\n",
       "      <th>3</th>\n",
       "      <td>0.857064</td>\n",
       "      <td>0.576547</td>\n",
       "      <td>0.504274</td>\n",
       "      <td>0.673004</td>\n",
       "      <td>Случайный лес</td>\n",
       "      <td>class_weight</td>\n",
       "    </tr>\n",
       "    <tr>\n",
       "      <th>4</th>\n",
       "      <td>0.848166</td>\n",
       "      <td>0.555556</td>\n",
       "      <td>0.698006</td>\n",
       "      <td>0.461394</td>\n",
       "      <td>Случайный лес</td>\n",
       "      <td>upsampling</td>\n",
       "    </tr>\n",
       "    <tr>\n",
       "      <th>2</th>\n",
       "      <td>0.776544</td>\n",
       "      <td>0.551724</td>\n",
       "      <td>0.660969</td>\n",
       "      <td>0.473469</td>\n",
       "      <td>Решающее дерево</td>\n",
       "      <td>downsampling</td>\n",
       "    </tr>\n",
       "    <tr>\n",
       "      <th>0</th>\n",
       "      <td>0.789445</td>\n",
       "      <td>0.548881</td>\n",
       "      <td>0.663818</td>\n",
       "      <td>0.467871</td>\n",
       "      <td>Решающее дерево</td>\n",
       "      <td>class_weight</td>\n",
       "    </tr>\n",
       "    <tr>\n",
       "      <th>1</th>\n",
       "      <td>0.762228</td>\n",
       "      <td>0.548881</td>\n",
       "      <td>0.663818</td>\n",
       "      <td>0.467871</td>\n",
       "      <td>Решающее дерево</td>\n",
       "      <td>upsampling</td>\n",
       "    </tr>\n",
       "    <tr>\n",
       "      <th>5</th>\n",
       "      <td>0.875611</td>\n",
       "      <td>0.548818</td>\n",
       "      <td>0.760684</td>\n",
       "      <td>0.429260</td>\n",
       "      <td>Случайный лес</td>\n",
       "      <td>downsampling</td>\n",
       "    </tr>\n",
       "    <tr>\n",
       "      <th>6</th>\n",
       "      <td>0.731171</td>\n",
       "      <td>0.502543</td>\n",
       "      <td>0.703704</td>\n",
       "      <td>0.390823</td>\n",
       "      <td>Логистическая регрессия</td>\n",
       "      <td>class_weight</td>\n",
       "    </tr>\n",
       "    <tr>\n",
       "      <th>7</th>\n",
       "      <td>0.700521</td>\n",
       "      <td>0.496538</td>\n",
       "      <td>0.715100</td>\n",
       "      <td>0.380303</td>\n",
       "      <td>Логистическая регрессия</td>\n",
       "      <td>upsampling</td>\n",
       "    </tr>\n",
       "    <tr>\n",
       "      <th>8</th>\n",
       "      <td>0.702799</td>\n",
       "      <td>0.492462</td>\n",
       "      <td>0.698006</td>\n",
       "      <td>0.380435</td>\n",
       "      <td>Логистическая регрессия</td>\n",
       "      <td>downsampling</td>\n",
       "    </tr>\n",
       "  </tbody>\n",
       "</table>\n",
       "</div>"
      ],
      "text/plain": [
       "   Accuracy   F1-мера   Полнота  Точность                   Модель  \\\n",
       "3  0.857064  0.576547  0.504274  0.673004            Случайный лес   \n",
       "4  0.848166  0.555556  0.698006  0.461394            Случайный лес   \n",
       "2  0.776544  0.551724  0.660969  0.473469          Решающее дерево   \n",
       "0  0.789445  0.548881  0.663818  0.467871          Решающее дерево   \n",
       "1  0.762228  0.548881  0.663818  0.467871          Решающее дерево   \n",
       "5  0.875611  0.548818  0.760684  0.429260            Случайный лес   \n",
       "6  0.731171  0.502543  0.703704  0.390823  Логистическая регрессия   \n",
       "7  0.700521  0.496538  0.715100  0.380303  Логистическая регрессия   \n",
       "8  0.702799  0.492462  0.698006  0.380435  Логистическая регрессия   \n",
       "\n",
       "         Баланс  \n",
       "3  class_weight  \n",
       "4    upsampling  \n",
       "2  downsampling  \n",
       "0  class_weight  \n",
       "1    upsampling  \n",
       "5  downsampling  \n",
       "6  class_weight  \n",
       "7    upsampling  \n",
       "8  downsampling  "
      ]
     },
     "execution_count": 233,
     "metadata": {},
     "output_type": "execute_result"
    }
   ],
   "source": [
    "quality.sort_values('F1-мера', ascending=False) # Отсортируем таблицу по убыванию столбца F1-мера"
   ]
  },
  {
   "cell_type": "markdown",
   "metadata": {},
   "source": [
    "Применение методов борьбы с дисбалансом привело к увеличению показателя F1-меры, а также к значительному увеличению метрики Полноты, а метрика Точность, наоборот уменьшилась.\n",
    "\n",
    "Лучший показатель F1 = 0,5765 на валидационной выборке у модели случайного леса с class_weight='balanced': \n",
    "    \n",
    "    RandomForestClassifier(random_state=12345, n_estimators= 78, max_depth=13)\n",
    "\n",
    "Обучим еще раз модель с лучшими показателями F1-меры и протестируем ее."
   ]
  },
  {
   "cell_type": "markdown",
   "metadata": {},
   "source": [
    "ROC случайного леса c учетом дисбаланса"
   ]
  },
  {
   "cell_type": "code",
   "execution_count": 235,
   "metadata": {},
   "outputs": [
    {
     "name": "stdout",
     "output_type": "stream",
     "text": [
      "ROC случайного леса c учетом дисбаланса : 0.84854774602731\n"
     ]
    }
   ],
   "source": [
    "model = RandomForestClassifier(random_state=12345, n_estimators= 78, max_depth=13, class_weight='balanced') \n",
    "model.fit(features_train_ord, target_train_ord) \n",
    "predictions = model.predict(features_valid_ord)\n",
    "probabilities_f = model.predict_proba(features_valid_ord)\n",
    "probabilities_one_f = probabilities_f[:, 1]\n",
    "\n",
    "print(\"ROC случайного леса c учетом дисбаланса :\", roc_auc_score(target_valid_ord, probabilities_one_f))"
   ]
  },
  {
   "cell_type": "markdown",
   "metadata": {},
   "source": [
    "## Тестирование модели"
   ]
  },
  {
   "cell_type": "markdown",
   "metadata": {},
   "source": [
    "Проверяем выбранную нами модель \"Случайного леса\" на тестовой выборке, с учетом баланса. А также построим график ROC-кривой"
   ]
  },
  {
   "cell_type": "code",
   "execution_count": 186,
   "metadata": {},
   "outputs": [
    {
     "data": {
      "image/png": "[encoded data removed]",
      "text/plain": [
       "<Figure size 432x288 with 1 Axes>"
      ]
     },
     "metadata": {
      "needs_background": "light"
     },
     "output_type": "display_data"
    },
    {
     "name": "stdout",
     "output_type": "stream",
     "text": [
      "ROC 0.8613326657548821\n",
      "F1-мера = 0.607361963190184\n",
      "[0.6810098  0.11350295 0.66518442 ... 0.13325655 0.07871855 0.64888802]\n",
      "[1 0 1 ... 0 0 1]\n"
     ]
    }
   ],
   "source": [
    "\n",
    "\n",
    "model = RandomForestClassifier(random_state=12345, n_estimators= 78, max_depth=13, class_weight='balanced') \n",
    "model.fit(features_train_ord, target_train_ord)\n",
    "prediction_test = model.predict(features_test_ord)\n",
    "probabilities = model.predict_proba(features_test_ord)\n",
    "probabilities_one = probabilities[:, 1]\n",
    "\n",
    "fpr, tpr, thresholds = roc_curve(target_test_ord, probabilities_one) \n",
    "\n",
    "plt.figure()\n",
    "plt.plot(fpr, tpr)\n",
    "plt.xlim([0.0, 1.0])\n",
    "plt.ylim([0.0, 1.0])\n",
    "plt.xlabel('False Positive Rate')\n",
    "plt.ylabel('True Positive Rate')\n",
    "plt.title('ROC-кривая')\n",
    "plt.show() \n",
    "\n",
    "print(\"ROC\", roc_auc_score(target_test_ord, probabilities_one))\n",
    "print('F1-мера =', f1_score(target_test_ord, prediction_test))"
   ]
  },
  {
   "cell_type": "markdown",
   "metadata": {},
   "source": [
    "С поставленной задачей справился, результат получился не ниже, чем 0.59. "
   ]
  },
  {
   "cell_type": "markdown",
   "metadata": {},
   "source": [
    "## Общий вывод "
   ]
  },
  {
   "cell_type": "markdown",
   "metadata": {},
   "source": [
    "В ходе проекта были исследованы исторические данные о поведении клиентов и расторжении договоров с банком.\n",
    "\n",
    "В ходе исследования задачи был выявлен дисбаланс классов, а также были построены модели для классификации, которые предсказывают уйдёт клиент из банка в ближайшее время или нет. Для этого данные были разбиты на три выборки: обучающую, валидационную и тестовую в соотношении 3:1:1. Были использованы следующие алгоритмы для построения моделей:\n",
    "\n",
    "Decision Tree (Дерево решений),\n",
    "Random Forest (Случайный лес) с двумя гиперпараметрами (n_estimators и max_depth),\n",
    "Logistic Regression (Логическая регрессия)\n",
    "Для каждой модели рассчитаны показатели качества - Accuracy, F1-мера, Precision, Recall.\n",
    "\n",
    "Для борьбы с дисбалансом было использовано три техники:\n",
    "\n",
    "class weight (взвешивание классов)\n",
    "upsampling (увеличение выборки)\n",
    "downsampling (уменьшение выборки)\n",
    "Использование перечисленных методов привело к увеличению F1-меры, а также к значительному увеличению метрики Recall, метрика Precision, наоборот, уменьшилась. Лучшей по значению F1-меры стала у модели случайного леса с class_weight='balanced'.\n",
    "\n",
    "В ходе тестирования модели RandomForest было получено значение F1-меры равное 0.607, что соответвует требованиям задания.\n",
    "\n",
    "Также была рассчитана метрика AUC-ROC и построена ROC-кривая для выбранной модели CatBoost. По достаточно высоким значениям AUC-ROC и F1-меры был сделан вывод о достаточно хорошем качестве выбранной модели."
   ]
  },
  {
   "cell_type": "code",
   "execution_count": null,
   "metadata": {},
   "outputs": [],
   "source": []
  }
 ],
 "metadata": {
  "ExecuteTimeLog": [
   {
    "duration": 427,
    "start_time": "2023-03-15T04:09:27.038Z"
   },
   {
    "duration": 116,
    "start_time": "2023-03-15T04:10:57.135Z"
   },
   {
    "duration": 16,
    "start_time": "2023-03-15T04:12:04.011Z"
   },
   {
    "duration": 4,
    "start_time": "2023-03-15T04:13:04.514Z"
   },
   {
    "duration": 1653,
    "start_time": "2023-03-15T04:14:06.241Z"
   },
   {
    "duration": 992,
    "start_time": "2023-03-15T04:14:23.806Z"
   },
   {
    "duration": 98,
    "start_time": "2023-03-15T04:14:49.722Z"
   },
   {
    "duration": 2559,
    "start_time": "2023-03-15T04:16:34.756Z"
   },
   {
    "duration": 54,
    "start_time": "2023-03-15T05:11:19.410Z"
   },
   {
    "duration": 13,
    "start_time": "2023-03-15T05:31:21.502Z"
   },
   {
    "duration": 305,
    "start_time": "2023-03-15T05:46:32.026Z"
   },
   {
    "duration": 21,
    "start_time": "2023-03-15T06:03:39.121Z"
   },
   {
    "duration": 15,
    "start_time": "2023-03-15T06:04:22.356Z"
   },
   {
    "duration": 308,
    "start_time": "2023-03-15T06:16:06.243Z"
   },
   {
    "duration": 51,
    "start_time": "2023-03-15T09:40:43.876Z"
   },
   {
    "duration": 407,
    "start_time": "2023-03-15T09:40:56.978Z"
   },
   {
    "duration": 193,
    "start_time": "2023-03-15T09:40:58.077Z"
   },
   {
    "duration": 28,
    "start_time": "2023-03-15T09:40:59.045Z"
   },
   {
    "duration": 14,
    "start_time": "2023-03-15T09:40:59.534Z"
   },
   {
    "duration": 15,
    "start_time": "2023-03-15T09:40:59.938Z"
   },
   {
    "duration": 2324,
    "start_time": "2023-03-15T09:41:00.850Z"
   },
   {
    "duration": 197,
    "start_time": "2023-03-15T09:41:03.178Z"
   },
   {
    "duration": 40,
    "start_time": "2023-03-15T09:41:03.377Z"
   },
   {
    "duration": 8,
    "start_time": "2023-03-15T09:41:03.419Z"
   },
   {
    "duration": 16,
    "start_time": "2023-03-15T09:41:04.503Z"
   },
   {
    "duration": 13,
    "start_time": "2023-03-15T09:41:40.176Z"
   },
   {
    "duration": 274,
    "start_time": "2023-03-15T09:43:54.365Z"
   },
   {
    "duration": 5,
    "start_time": "2023-03-15T09:48:54.317Z"
   },
   {
    "duration": 13,
    "start_time": "2023-03-15T09:49:59.650Z"
   },
   {
    "duration": 17,
    "start_time": "2023-03-15T09:55:29.831Z"
   },
   {
    "duration": 4,
    "start_time": "2023-03-15T09:56:25.129Z"
   },
   {
    "duration": 17,
    "start_time": "2023-03-15T09:56:30.823Z"
   },
   {
    "duration": 19,
    "start_time": "2023-03-15T10:44:32.257Z"
   },
   {
    "duration": 20,
    "start_time": "2023-03-15T10:44:57.577Z"
   },
   {
    "duration": 7,
    "start_time": "2023-03-15T10:48:04.374Z"
   },
   {
    "duration": 707,
    "start_time": "2023-03-15T10:48:22.617Z"
   },
   {
    "duration": 40,
    "start_time": "2023-03-15T10:48:33.338Z"
   },
   {
    "duration": 16,
    "start_time": "2023-03-15T10:48:51.771Z"
   },
   {
    "duration": 3,
    "start_time": "2023-03-15T10:51:21.876Z"
   },
   {
    "duration": 59,
    "start_time": "2023-03-15T10:51:23.100Z"
   },
   {
    "duration": 17,
    "start_time": "2023-03-15T10:51:23.654Z"
   },
   {
    "duration": 13,
    "start_time": "2023-03-15T10:51:23.933Z"
   },
   {
    "duration": 12,
    "start_time": "2023-03-15T10:51:24.324Z"
   },
   {
    "duration": 1838,
    "start_time": "2023-03-15T10:51:25.131Z"
   },
   {
    "duration": 206,
    "start_time": "2023-03-15T10:51:26.971Z"
   },
   {
    "duration": 38,
    "start_time": "2023-03-15T10:51:27.178Z"
   },
   {
    "duration": 6,
    "start_time": "2023-03-15T10:51:27.218Z"
   },
   {
    "duration": 10,
    "start_time": "2023-03-15T10:51:29.036Z"
   },
   {
    "duration": 5,
    "start_time": "2023-03-15T10:51:30.086Z"
   },
   {
    "duration": 4,
    "start_time": "2023-03-15T10:51:31.254Z"
   },
   {
    "duration": 11,
    "start_time": "2023-03-15T10:51:32.616Z"
   },
   {
    "duration": 27,
    "start_time": "2023-03-15T10:51:34.554Z"
   },
   {
    "duration": 15,
    "start_time": "2023-03-15T10:51:35.912Z"
   },
   {
    "duration": 15,
    "start_time": "2023-03-15T10:52:34.766Z"
   },
   {
    "duration": 39,
    "start_time": "2023-03-15T11:04:10.044Z"
   },
   {
    "duration": 15,
    "start_time": "2023-03-15T11:04:15.525Z"
   },
   {
    "duration": 9,
    "start_time": "2023-03-15T11:06:33.169Z"
   },
   {
    "duration": 19,
    "start_time": "2023-03-15T11:06:39.012Z"
   },
   {
    "duration": 8,
    "start_time": "2023-03-15T11:07:02.006Z"
   },
   {
    "duration": 10,
    "start_time": "2023-03-15T11:07:22.564Z"
   },
   {
    "duration": 17,
    "start_time": "2023-03-15T11:07:26.714Z"
   },
   {
    "duration": 12,
    "start_time": "2023-03-15T11:07:32.348Z"
   },
   {
    "duration": 2,
    "start_time": "2023-03-15T11:08:11.476Z"
   },
   {
    "duration": 45,
    "start_time": "2023-03-15T11:08:12.463Z"
   },
   {
    "duration": 11,
    "start_time": "2023-03-15T11:08:13.381Z"
   },
   {
    "duration": 15,
    "start_time": "2023-03-15T11:08:13.780Z"
   },
   {
    "duration": 12,
    "start_time": "2023-03-15T11:08:14.179Z"
   },
   {
    "duration": 1837,
    "start_time": "2023-03-15T11:08:15.123Z"
   },
   {
    "duration": 187,
    "start_time": "2023-03-15T11:08:16.962Z"
   },
   {
    "duration": 37,
    "start_time": "2023-03-15T11:08:17.150Z"
   },
   {
    "duration": 7,
    "start_time": "2023-03-15T11:08:17.189Z"
   },
   {
    "duration": 13,
    "start_time": "2023-03-15T11:08:19.137Z"
   },
   {
    "duration": 10,
    "start_time": "2023-03-15T11:08:21.801Z"
   },
   {
    "duration": 6,
    "start_time": "2023-03-15T11:08:24.615Z"
   },
   {
    "duration": 5,
    "start_time": "2023-03-15T11:08:26.698Z"
   },
   {
    "duration": 11,
    "start_time": "2023-03-15T11:08:27.741Z"
   },
   {
    "duration": 18,
    "start_time": "2023-03-15T11:08:29.077Z"
   },
   {
    "duration": 31,
    "start_time": "2023-03-15T11:08:30.141Z"
   },
   {
    "duration": 21,
    "start_time": "2023-03-15T11:08:49.372Z"
   },
   {
    "duration": 31,
    "start_time": "2023-03-15T11:09:05.414Z"
   },
   {
    "duration": 22,
    "start_time": "2023-03-15T11:11:19.816Z"
   },
   {
    "duration": 12,
    "start_time": "2023-03-15T11:11:32.538Z"
   },
   {
    "duration": 35,
    "start_time": "2023-03-15T11:13:58.270Z"
   },
   {
    "duration": 57,
    "start_time": "2023-03-15T15:15:52.872Z"
   },
   {
    "duration": 1509,
    "start_time": "2023-03-15T15:16:19.645Z"
   },
   {
    "duration": 237,
    "start_time": "2023-03-15T15:16:25.524Z"
   },
   {
    "duration": 3,
    "start_time": "2023-03-15T15:16:38.935Z"
   },
   {
    "duration": 151,
    "start_time": "2023-03-15T15:16:39.638Z"
   },
   {
    "duration": 13,
    "start_time": "2023-03-15T15:16:40.109Z"
   },
   {
    "duration": 16,
    "start_time": "2023-03-15T15:16:40.308Z"
   },
   {
    "duration": 11,
    "start_time": "2023-03-15T15:16:40.506Z"
   },
   {
    "duration": 2021,
    "start_time": "2023-03-15T15:16:40.909Z"
   },
   {
    "duration": 210,
    "start_time": "2023-03-15T15:16:42.932Z"
   },
   {
    "duration": 41,
    "start_time": "2023-03-15T15:16:43.144Z"
   },
   {
    "duration": 8,
    "start_time": "2023-03-15T15:16:43.187Z"
   },
   {
    "duration": 34,
    "start_time": "2023-03-15T15:16:43.196Z"
   },
   {
    "duration": 11,
    "start_time": "2023-03-15T15:16:43.502Z"
   },
   {
    "duration": 6,
    "start_time": "2023-03-15T15:16:44.006Z"
   },
   {
    "duration": 5,
    "start_time": "2023-03-15T15:16:44.430Z"
   },
   {
    "duration": 12,
    "start_time": "2023-03-15T15:16:44.943Z"
   },
   {
    "duration": 21,
    "start_time": "2023-03-15T15:16:45.422Z"
   },
   {
    "duration": 38,
    "start_time": "2023-03-15T15:16:45.710Z"
   },
   {
    "duration": 183,
    "start_time": "2023-03-15T15:16:47.706Z"
   },
   {
    "duration": 126,
    "start_time": "2023-03-15T15:17:09.542Z"
   },
   {
    "duration": 110,
    "start_time": "2023-03-15T15:17:53.722Z"
   },
   {
    "duration": 102,
    "start_time": "2023-03-15T15:18:13.908Z"
   },
   {
    "duration": 7,
    "start_time": "2023-03-15T15:18:37.452Z"
   },
   {
    "duration": 253,
    "start_time": "2023-03-15T15:19:00.518Z"
   },
   {
    "duration": 64,
    "start_time": "2023-03-17T06:34:39.811Z"
   },
   {
    "duration": 1840,
    "start_time": "2023-03-17T06:34:51.746Z"
   },
   {
    "duration": 251,
    "start_time": "2023-03-17T06:34:53.590Z"
   },
   {
    "duration": 22,
    "start_time": "2023-03-17T06:34:53.884Z"
   },
   {
    "duration": 17,
    "start_time": "2023-03-17T06:34:54.251Z"
   },
   {
    "duration": 15,
    "start_time": "2023-03-17T06:34:54.562Z"
   },
   {
    "duration": 2763,
    "start_time": "2023-03-17T06:34:55.218Z"
   },
   {
    "duration": 331,
    "start_time": "2023-03-17T06:34:57.988Z"
   },
   {
    "duration": 51,
    "start_time": "2023-03-17T06:34:58.321Z"
   },
   {
    "duration": 12,
    "start_time": "2023-03-17T06:34:58.391Z"
   },
   {
    "duration": 18,
    "start_time": "2023-03-17T06:34:58.405Z"
   },
   {
    "duration": 13,
    "start_time": "2023-03-17T06:34:58.426Z"
   },
   {
    "duration": 10,
    "start_time": "2023-03-17T06:34:58.851Z"
   },
   {
    "duration": 6,
    "start_time": "2023-03-17T06:34:59.451Z"
   },
   {
    "duration": 14,
    "start_time": "2023-03-17T06:35:00.035Z"
   },
   {
    "duration": 30,
    "start_time": "2023-03-17T06:35:00.731Z"
   },
   {
    "duration": 60,
    "start_time": "2023-03-17T06:35:01.019Z"
   },
   {
    "duration": 147,
    "start_time": "2023-03-17T06:35:03.002Z"
   },
   {
    "duration": 6,
    "start_time": "2023-03-17T06:35:05.199Z"
   },
   {
    "duration": 5,
    "start_time": "2023-03-17T06:36:01.477Z"
   },
   {
    "duration": 79,
    "start_time": "2023-03-17T06:39:40.039Z"
   },
   {
    "duration": 20,
    "start_time": "2023-03-17T06:40:13.542Z"
   },
   {
    "duration": 17,
    "start_time": "2023-03-17T06:40:18.003Z"
   },
   {
    "duration": 6,
    "start_time": "2023-03-17T06:40:29.795Z"
   },
   {
    "duration": 10,
    "start_time": "2023-03-17T06:40:30.972Z"
   },
   {
    "duration": 15,
    "start_time": "2023-03-17T06:42:11.440Z"
   },
   {
    "duration": 16,
    "start_time": "2023-03-17T06:42:42.258Z"
   },
   {
    "duration": 9,
    "start_time": "2023-03-17T06:58:56.809Z"
   },
   {
    "duration": 15,
    "start_time": "2023-03-17T07:01:19.267Z"
   },
   {
    "duration": 38,
    "start_time": "2023-03-17T07:01:45.317Z"
   },
   {
    "duration": 15,
    "start_time": "2023-03-17T07:01:54.144Z"
   },
   {
    "duration": 2640,
    "start_time": "2023-03-17T07:02:28.570Z"
   },
   {
    "duration": 12,
    "start_time": "2023-03-17T07:05:26.219Z"
   },
   {
    "duration": 19,
    "start_time": "2023-03-17T07:05:34.499Z"
   },
   {
    "duration": 208,
    "start_time": "2023-03-17T07:06:47.904Z"
   },
   {
    "duration": 3,
    "start_time": "2023-03-17T07:07:31.113Z"
   },
   {
    "duration": 195,
    "start_time": "2023-03-17T07:07:37.721Z"
   },
   {
    "duration": 178,
    "start_time": "2023-03-17T07:07:55.627Z"
   },
   {
    "duration": 17,
    "start_time": "2023-03-17T08:58:28.230Z"
   },
   {
    "duration": 12,
    "start_time": "2023-03-17T09:06:33.656Z"
   },
   {
    "duration": 4,
    "start_time": "2023-03-17T09:07:30.959Z"
   },
   {
    "duration": 24,
    "start_time": "2023-03-17T09:07:41.437Z"
   },
   {
    "duration": 23,
    "start_time": "2023-03-17T09:08:29.219Z"
   },
   {
    "duration": 212,
    "start_time": "2023-03-17T09:08:44.318Z"
   },
   {
    "duration": 117,
    "start_time": "2023-03-17T09:09:50.549Z"
   },
   {
    "duration": 183,
    "start_time": "2023-03-17T09:10:11.732Z"
   },
   {
    "duration": 14,
    "start_time": "2023-03-17T09:12:29.856Z"
   },
   {
    "duration": 8,
    "start_time": "2023-03-17T09:13:12.218Z"
   },
   {
    "duration": 12,
    "start_time": "2023-03-17T09:13:16.353Z"
   },
   {
    "duration": 3249,
    "start_time": "2023-03-17T09:14:02.416Z"
   },
   {
    "duration": 3758,
    "start_time": "2023-03-17T09:16:05.669Z"
   },
   {
    "duration": 3885,
    "start_time": "2023-03-17T09:16:17.559Z"
   },
   {
    "duration": 3760,
    "start_time": "2023-03-17T09:18:02.317Z"
   },
   {
    "duration": 3833,
    "start_time": "2023-03-17T09:21:46.483Z"
   },
   {
    "duration": 3830,
    "start_time": "2023-03-17T09:22:01.438Z"
   },
   {
    "duration": 68688,
    "start_time": "2023-03-17T09:22:40.822Z"
   },
   {
    "duration": 67900,
    "start_time": "2023-03-17T09:24:58.571Z"
   },
   {
    "duration": 8962,
    "start_time": "2023-03-17T09:35:39.114Z"
   },
   {
    "duration": 13798,
    "start_time": "2023-03-17T09:35:57.635Z"
   },
   {
    "duration": 17462,
    "start_time": "2023-03-17T09:36:21.780Z"
   },
   {
    "duration": 63299,
    "start_time": "2023-03-17T09:37:27.439Z"
   },
   {
    "duration": 21,
    "start_time": "2023-03-17T09:50:41.874Z"
   },
   {
    "duration": 12,
    "start_time": "2023-03-17T09:50:55.682Z"
   },
   {
    "duration": 38,
    "start_time": "2023-03-17T09:52:45.914Z"
   },
   {
    "duration": 31,
    "start_time": "2023-03-17T09:53:33.781Z"
   },
   {
    "duration": 19,
    "start_time": "2023-03-17T09:58:01.730Z"
   },
   {
    "duration": 16,
    "start_time": "2023-03-17T09:58:33.875Z"
   },
   {
    "duration": 1187,
    "start_time": "2023-03-17T09:58:41.951Z"
   },
   {
    "duration": 1325,
    "start_time": "2023-03-17T10:02:02.075Z"
   },
   {
    "duration": 14,
    "start_time": "2023-03-17T10:06:38.883Z"
   },
   {
    "duration": 47,
    "start_time": "2023-03-17T10:22:16.217Z"
   },
   {
    "duration": 348,
    "start_time": "2023-03-17T10:22:20.205Z"
   },
   {
    "duration": 103,
    "start_time": "2023-03-17T10:24:51.488Z"
   },
   {
    "duration": 218,
    "start_time": "2023-03-17T10:25:00.029Z"
   },
   {
    "duration": 73978,
    "start_time": "2023-03-17T10:26:25.834Z"
   },
   {
    "duration": 18543,
    "start_time": "2023-03-17T10:29:11.841Z"
   },
   {
    "duration": 18604,
    "start_time": "2023-03-17T10:29:50.215Z"
   },
   {
    "duration": 73113,
    "start_time": "2023-03-17T10:30:08.823Z"
   },
   {
    "duration": 70256,
    "start_time": "2023-03-17T10:34:22.215Z"
   },
   {
    "duration": 65586,
    "start_time": "2023-03-17T10:36:23.777Z"
   },
   {
    "duration": 5,
    "start_time": "2023-03-17T10:39:35.764Z"
   },
   {
    "duration": 178,
    "start_time": "2023-03-17T10:39:37.157Z"
   },
   {
    "duration": 31,
    "start_time": "2023-03-17T10:39:37.918Z"
   },
   {
    "duration": 13,
    "start_time": "2023-03-17T10:39:38.269Z"
   },
   {
    "duration": 15,
    "start_time": "2023-03-17T10:39:38.568Z"
   },
   {
    "duration": 2631,
    "start_time": "2023-03-17T10:39:39.252Z"
   },
   {
    "duration": 273,
    "start_time": "2023-03-17T10:39:41.886Z"
   },
   {
    "duration": 72,
    "start_time": "2023-03-17T10:39:42.161Z"
   },
   {
    "duration": 12,
    "start_time": "2023-03-17T10:39:42.239Z"
   },
   {
    "duration": 21,
    "start_time": "2023-03-17T10:39:44.817Z"
   },
   {
    "duration": 14,
    "start_time": "2023-03-17T10:39:45.964Z"
   },
   {
    "duration": 10,
    "start_time": "2023-03-17T10:39:47.644Z"
   },
   {
    "duration": 5,
    "start_time": "2023-03-17T10:39:48.728Z"
   },
   {
    "duration": 16,
    "start_time": "2023-03-17T10:39:49.726Z"
   },
   {
    "duration": 29,
    "start_time": "2023-03-17T10:39:51.022Z"
   },
   {
    "duration": 54,
    "start_time": "2023-03-17T10:39:51.722Z"
   },
   {
    "duration": 161,
    "start_time": "2023-03-17T10:39:54.944Z"
   },
   {
    "duration": 10,
    "start_time": "2023-03-17T10:39:57.755Z"
   },
   {
    "duration": 12,
    "start_time": "2023-03-17T10:39:58.805Z"
   },
   {
    "duration": 24,
    "start_time": "2023-03-17T10:40:00.659Z"
   },
   {
    "duration": 8,
    "start_time": "2023-03-17T10:40:02.719Z"
   },
   {
    "duration": 21,
    "start_time": "2023-03-17T10:40:04.343Z"
   },
   {
    "duration": 287,
    "start_time": "2023-03-17T10:40:05.214Z"
   },
   {
    "duration": 17616,
    "start_time": "2023-03-17T10:40:19.317Z"
   },
   {
    "duration": 66831,
    "start_time": "2023-03-17T10:40:42.067Z"
   },
   {
    "duration": 62709,
    "start_time": "2023-03-17T10:42:41.210Z"
   },
   {
    "duration": 62209,
    "start_time": "2023-03-17T10:46:46.567Z"
   },
   {
    "duration": 61964,
    "start_time": "2023-03-17T12:01:25.514Z"
   },
   {
    "duration": 1204,
    "start_time": "2023-03-17T12:03:00.648Z"
   },
   {
    "duration": 20,
    "start_time": "2023-03-17T12:27:15.911Z"
   },
   {
    "duration": 22,
    "start_time": "2023-03-17T12:27:29.622Z"
   },
   {
    "duration": 179,
    "start_time": "2023-03-17T12:27:34.224Z"
   },
   {
    "duration": 15757,
    "start_time": "2023-03-17T12:27:37.638Z"
   },
   {
    "duration": 58557,
    "start_time": "2023-03-17T12:28:02.514Z"
   },
   {
    "duration": 59049,
    "start_time": "2023-03-17T12:30:16.775Z"
   },
   {
    "duration": 1552,
    "start_time": "2023-03-17T14:44:13.662Z"
   },
   {
    "duration": 132,
    "start_time": "2023-03-17T14:44:15.216Z"
   },
   {
    "duration": 17,
    "start_time": "2023-03-17T14:44:15.460Z"
   },
   {
    "duration": 17,
    "start_time": "2023-03-17T14:44:15.846Z"
   },
   {
    "duration": 12,
    "start_time": "2023-03-17T14:44:16.227Z"
   },
   {
    "duration": 1997,
    "start_time": "2023-03-17T14:44:16.939Z"
   },
   {
    "duration": 292,
    "start_time": "2023-03-17T14:44:18.938Z"
   },
   {
    "duration": 64,
    "start_time": "2023-03-17T14:44:19.232Z"
   },
   {
    "duration": 15,
    "start_time": "2023-03-17T14:44:19.302Z"
   },
   {
    "duration": 13,
    "start_time": "2023-03-17T14:44:20.065Z"
   },
   {
    "duration": 14,
    "start_time": "2023-03-17T14:44:20.907Z"
   },
   {
    "duration": 5,
    "start_time": "2023-03-17T14:44:21.739Z"
   },
   {
    "duration": 4,
    "start_time": "2023-03-17T14:44:22.405Z"
   },
   {
    "duration": 16,
    "start_time": "2023-03-17T14:44:23.138Z"
   },
   {
    "duration": 19,
    "start_time": "2023-03-17T14:44:24.065Z"
   },
   {
    "duration": 51,
    "start_time": "2023-03-17T14:44:24.527Z"
   },
   {
    "duration": 138,
    "start_time": "2023-03-17T14:44:26.536Z"
   },
   {
    "duration": 5,
    "start_time": "2023-03-17T14:44:28.545Z"
   },
   {
    "duration": 10,
    "start_time": "2023-03-17T14:44:29.353Z"
   },
   {
    "duration": 16,
    "start_time": "2023-03-17T14:44:30.635Z"
   },
   {
    "duration": 11,
    "start_time": "2023-03-17T14:44:31.874Z"
   },
   {
    "duration": 20,
    "start_time": "2023-03-17T14:44:32.841Z"
   },
   {
    "duration": 192,
    "start_time": "2023-03-17T14:44:33.266Z"
   },
   {
    "duration": 15050,
    "start_time": "2023-03-17T14:44:36.599Z"
   },
   {
    "duration": 52649,
    "start_time": "2023-03-17T14:46:09.626Z"
   },
   {
    "duration": 54889,
    "start_time": "2023-03-17T14:48:15.843Z"
   },
   {
    "duration": 54512,
    "start_time": "2023-03-17T14:50:23.190Z"
   },
   {
    "duration": 1069,
    "start_time": "2023-03-17T14:52:22.331Z"
   },
   {
    "duration": 1006,
    "start_time": "2023-03-17T14:53:37.899Z"
   },
   {
    "duration": 1012,
    "start_time": "2023-03-17T14:54:34.560Z"
   },
   {
    "duration": 1019,
    "start_time": "2023-03-17T14:54:48.616Z"
   },
   {
    "duration": 4216,
    "start_time": "2023-03-17T15:05:01.506Z"
   },
   {
    "duration": 5,
    "start_time": "2023-03-17T15:05:24.398Z"
   },
   {
    "duration": 14767,
    "start_time": "2023-03-17T15:06:09.486Z"
   },
   {
    "duration": 170,
    "start_time": "2023-03-17T15:06:34.475Z"
   },
   {
    "duration": 1063,
    "start_time": "2023-03-17T15:07:33.072Z"
   },
   {
    "duration": 512,
    "start_time": "2023-03-17T15:18:24.861Z"
   },
   {
    "duration": 26708,
    "start_time": "2023-03-17T15:18:39.632Z"
   },
   {
    "duration": 224,
    "start_time": "2023-03-17T15:23:38.635Z"
   },
   {
    "duration": 170,
    "start_time": "2023-03-17T15:24:06.541Z"
   },
   {
    "duration": 168,
    "start_time": "2023-03-17T15:32:27.179Z"
   },
   {
    "duration": 28824,
    "start_time": "2023-03-17T15:32:54.733Z"
   },
   {
    "duration": 18,
    "start_time": "2023-03-17T15:35:18.394Z"
   },
   {
    "duration": 13,
    "start_time": "2023-03-17T15:35:38.017Z"
   },
   {
    "duration": 10,
    "start_time": "2023-03-17T15:35:49.406Z"
   },
   {
    "duration": 27,
    "start_time": "2023-03-17T15:35:50.408Z"
   },
   {
    "duration": 41,
    "start_time": "2023-03-17T15:35:51.186Z"
   },
   {
    "duration": 1387,
    "start_time": "2023-03-17T15:35:52.021Z"
   },
   {
    "duration": 7,
    "start_time": "2023-03-17T15:37:48.805Z"
   },
   {
    "duration": 38,
    "start_time": "2023-03-17T16:04:02.155Z"
   },
   {
    "duration": 437,
    "start_time": "2023-03-17T16:08:13.039Z"
   },
   {
    "duration": 9,
    "start_time": "2023-03-17T16:20:35.328Z"
   },
   {
    "duration": 11,
    "start_time": "2023-03-17T16:21:25.458Z"
   },
   {
    "duration": 13,
    "start_time": "2023-03-17T16:21:38.858Z"
   },
   {
    "duration": 14,
    "start_time": "2023-03-17T16:22:26.239Z"
   },
   {
    "duration": 4,
    "start_time": "2023-03-17T16:30:41.508Z"
   },
   {
    "duration": 4,
    "start_time": "2023-03-17T16:31:26.658Z"
   },
   {
    "duration": 22,
    "start_time": "2023-03-17T16:49:15.551Z"
   },
   {
    "duration": 4,
    "start_time": "2023-03-17T16:49:53.561Z"
   },
   {
    "duration": 65,
    "start_time": "2023-03-17T16:50:00.847Z"
   },
   {
    "duration": 13,
    "start_time": "2023-03-17T16:53:52.502Z"
   },
   {
    "duration": 25,
    "start_time": "2023-03-17T16:54:28.547Z"
   },
   {
    "duration": 654,
    "start_time": "2023-03-17T16:57:42.981Z"
   },
   {
    "duration": 1194,
    "start_time": "2023-03-17T16:59:44.911Z"
   },
   {
    "duration": 968,
    "start_time": "2023-03-17T17:01:18.933Z"
   },
   {
    "duration": 248,
    "start_time": "2023-03-17T17:02:07.732Z"
   },
   {
    "duration": 243,
    "start_time": "2023-03-17T17:02:55.189Z"
   },
   {
    "duration": 229,
    "start_time": "2023-03-17T17:04:34.244Z"
   },
   {
    "duration": 266,
    "start_time": "2023-03-17T17:20:25.826Z"
   },
   {
    "duration": 226,
    "start_time": "2023-03-17T17:23:49.117Z"
   },
   {
    "duration": 265,
    "start_time": "2023-03-17T17:26:06.320Z"
   },
   {
    "duration": 239,
    "start_time": "2023-03-17T17:27:16.743Z"
   },
   {
    "duration": 82,
    "start_time": "2023-03-17T17:29:00.620Z"
   },
   {
    "duration": 238,
    "start_time": "2023-03-17T17:29:24.060Z"
   },
   {
    "duration": 925,
    "start_time": "2023-03-17T17:32:00.214Z"
   },
   {
    "duration": 888,
    "start_time": "2023-03-17T17:34:20.670Z"
   },
   {
    "duration": 242,
    "start_time": "2023-03-17T17:34:31.241Z"
   },
   {
    "duration": 234,
    "start_time": "2023-03-17T17:36:18.870Z"
   },
   {
    "duration": 227,
    "start_time": "2023-03-17T17:36:44.152Z"
   },
   {
    "duration": 229,
    "start_time": "2023-03-17T17:37:01.822Z"
   },
   {
    "duration": 227,
    "start_time": "2023-03-17T17:38:09.595Z"
   },
   {
    "duration": 227,
    "start_time": "2023-03-17T17:38:56.955Z"
   },
   {
    "duration": 224,
    "start_time": "2023-03-17T17:41:23.122Z"
   },
   {
    "duration": 260,
    "start_time": "2023-03-17T17:41:50.991Z"
   },
   {
    "duration": 236,
    "start_time": "2023-03-17T17:42:53.965Z"
   },
   {
    "duration": 233,
    "start_time": "2023-03-17T17:43:19.557Z"
   },
   {
    "duration": 224,
    "start_time": "2023-03-17T17:44:11.501Z"
   },
   {
    "duration": 220,
    "start_time": "2023-03-17T17:46:56.793Z"
   },
   {
    "duration": 12,
    "start_time": "2023-03-17T18:11:57.567Z"
   },
   {
    "duration": 208,
    "start_time": "2023-03-17T18:13:20.574Z"
   },
   {
    "duration": 12,
    "start_time": "2023-03-17T18:13:26.570Z"
   },
   {
    "duration": 1352,
    "start_time": "2023-03-17T18:14:51.421Z"
   },
   {
    "duration": 53,
    "start_time": "2023-03-17T18:14:52.774Z"
   },
   {
    "duration": 11,
    "start_time": "2023-03-17T18:14:52.828Z"
   },
   {
    "duration": 15,
    "start_time": "2023-03-17T18:14:52.842Z"
   },
   {
    "duration": 18,
    "start_time": "2023-03-17T18:14:52.858Z"
   },
   {
    "duration": 1651,
    "start_time": "2023-03-17T18:14:52.877Z"
   },
   {
    "duration": 175,
    "start_time": "2023-03-17T18:14:54.530Z"
   },
   {
    "duration": 32,
    "start_time": "2023-03-17T18:14:54.706Z"
   },
   {
    "duration": 5,
    "start_time": "2023-03-17T18:14:54.739Z"
   },
   {
    "duration": 21,
    "start_time": "2023-03-17T18:14:54.746Z"
   },
   {
    "duration": 18,
    "start_time": "2023-03-17T18:14:54.768Z"
   },
   {
    "duration": 5,
    "start_time": "2023-03-17T18:14:54.787Z"
   },
   {
    "duration": 16,
    "start_time": "2023-03-17T18:14:54.793Z"
   },
   {
    "duration": 19,
    "start_time": "2023-03-17T18:14:54.810Z"
   },
   {
    "duration": 20,
    "start_time": "2023-03-17T18:14:54.831Z"
   },
   {
    "duration": 39,
    "start_time": "2023-03-17T18:14:54.853Z"
   },
   {
    "duration": 93,
    "start_time": "2023-03-17T18:14:54.894Z"
   },
   {
    "duration": 4,
    "start_time": "2023-03-17T18:14:54.988Z"
   },
   {
    "duration": 11,
    "start_time": "2023-03-17T18:14:54.993Z"
   },
   {
    "duration": 23,
    "start_time": "2023-03-17T18:14:55.005Z"
   },
   {
    "duration": 9,
    "start_time": "2023-03-17T18:14:55.030Z"
   },
   {
    "duration": 21,
    "start_time": "2023-03-17T18:14:55.040Z"
   },
   {
    "duration": 180,
    "start_time": "2023-03-17T18:14:55.062Z"
   },
   {
    "duration": 6712,
    "start_time": "2023-03-17T18:14:55.244Z"
   },
   {
    "duration": 31598,
    "start_time": "2023-03-17T18:15:01.958Z"
   },
   {
    "duration": 9,
    "start_time": "2023-03-17T18:15:33.558Z"
   },
   {
    "duration": 26,
    "start_time": "2023-03-17T18:15:33.568Z"
   },
   {
    "duration": 28,
    "start_time": "2023-03-17T18:15:33.597Z"
   },
   {
    "duration": 253,
    "start_time": "2023-03-17T18:15:33.627Z"
   },
   {
    "duration": 98,
    "start_time": "2023-03-17T18:15:33.882Z"
   },
   {
    "duration": 3,
    "start_time": "2023-03-17T18:15:33.982Z"
   },
   {
    "duration": 16,
    "start_time": "2023-03-17T18:15:33.987Z"
   },
   {
    "duration": 27,
    "start_time": "2023-03-17T18:15:34.005Z"
   },
   {
    "duration": 30,
    "start_time": "2023-03-17T18:15:34.033Z"
   },
   {
    "duration": 40,
    "start_time": "2023-03-17T18:15:34.064Z"
   },
   {
    "duration": 21,
    "start_time": "2023-03-17T18:15:34.105Z"
   },
   {
    "duration": 415,
    "start_time": "2023-03-17T18:15:34.128Z"
   },
   {
    "duration": 862,
    "start_time": "2023-03-17T18:15:34.545Z"
   },
   {
    "duration": 214,
    "start_time": "2023-03-17T18:15:35.409Z"
   },
   {
    "duration": 10,
    "start_time": "2023-03-17T18:20:37.445Z"
   },
   {
    "duration": 8,
    "start_time": "2023-03-17T18:21:00.709Z"
   },
   {
    "duration": 105,
    "start_time": "2023-03-17T18:21:35.759Z"
   },
   {
    "duration": 8,
    "start_time": "2023-03-17T18:21:43.869Z"
   },
   {
    "duration": 9,
    "start_time": "2023-03-17T18:25:18.063Z"
   },
   {
    "duration": 9,
    "start_time": "2023-03-17T18:27:18.737Z"
   },
   {
    "duration": 9,
    "start_time": "2023-03-17T18:30:00.638Z"
   },
   {
    "duration": 75,
    "start_time": "2023-03-17T18:30:15.654Z"
   },
   {
    "duration": 69,
    "start_time": "2023-03-17T18:30:23.159Z"
   },
   {
    "duration": 42,
    "start_time": "2023-03-17T18:46:31.081Z"
   },
   {
    "duration": 36,
    "start_time": "2023-03-17T18:49:14.055Z"
   },
   {
    "duration": 30,
    "start_time": "2023-03-17T18:52:17.116Z"
   },
   {
    "duration": 50,
    "start_time": "2023-03-17T18:57:51.785Z"
   },
   {
    "duration": 54,
    "start_time": "2023-03-17T19:00:36.913Z"
   },
   {
    "duration": 53,
    "start_time": "2023-03-17T19:00:45.116Z"
   },
   {
    "duration": 73,
    "start_time": "2023-03-17T19:01:04.019Z"
   },
   {
    "duration": 57,
    "start_time": "2023-03-17T19:01:52.728Z"
   },
   {
    "duration": 58,
    "start_time": "2023-03-17T19:03:19.990Z"
   },
   {
    "duration": 59,
    "start_time": "2023-03-17T19:03:44.722Z"
   },
   {
    "duration": 53,
    "start_time": "2023-03-17T19:20:01.153Z"
   },
   {
    "duration": 1267,
    "start_time": "2023-03-17T19:22:16.163Z"
   },
   {
    "duration": 51,
    "start_time": "2023-03-17T19:22:17.432Z"
   },
   {
    "duration": 12,
    "start_time": "2023-03-17T19:22:17.485Z"
   },
   {
    "duration": 13,
    "start_time": "2023-03-17T19:22:17.499Z"
   },
   {
    "duration": 11,
    "start_time": "2023-03-17T19:22:17.513Z"
   },
   {
    "duration": 1684,
    "start_time": "2023-03-17T19:22:17.526Z"
   },
   {
    "duration": 174,
    "start_time": "2023-03-17T19:22:19.212Z"
   },
   {
    "duration": 35,
    "start_time": "2023-03-17T19:22:19.387Z"
   },
   {
    "duration": 5,
    "start_time": "2023-03-17T19:22:19.423Z"
   },
   {
    "duration": 9,
    "start_time": "2023-03-17T19:22:19.431Z"
   },
   {
    "duration": 9,
    "start_time": "2023-03-17T19:22:19.441Z"
   },
   {
    "duration": 4,
    "start_time": "2023-03-17T19:22:19.480Z"
   },
   {
    "duration": 7,
    "start_time": "2023-03-17T19:22:19.485Z"
   },
   {
    "duration": 11,
    "start_time": "2023-03-17T19:22:19.493Z"
   },
   {
    "duration": 18,
    "start_time": "2023-03-17T19:22:19.505Z"
   },
   {
    "duration": 32,
    "start_time": "2023-03-17T19:22:19.524Z"
   },
   {
    "duration": 100,
    "start_time": "2023-03-17T19:22:19.579Z"
   },
   {
    "duration": 5,
    "start_time": "2023-03-17T19:22:19.681Z"
   },
   {
    "duration": 6,
    "start_time": "2023-03-17T19:22:19.687Z"
   },
   {
    "duration": 16,
    "start_time": "2023-03-17T19:22:19.694Z"
   },
   {
    "duration": 5,
    "start_time": "2023-03-17T19:22:19.712Z"
   },
   {
    "duration": 18,
    "start_time": "2023-03-17T19:22:19.718Z"
   },
   {
    "duration": 198,
    "start_time": "2023-03-17T19:22:19.737Z"
   },
   {
    "duration": 6875,
    "start_time": "2023-03-17T19:22:19.936Z"
   },
   {
    "duration": 31311,
    "start_time": "2023-03-17T19:22:26.812Z"
   },
   {
    "duration": 9,
    "start_time": "2023-03-17T19:22:58.124Z"
   },
   {
    "duration": 17,
    "start_time": "2023-03-17T19:22:58.134Z"
   },
   {
    "duration": 49,
    "start_time": "2023-03-17T19:22:58.155Z"
   },
   {
    "duration": 175,
    "start_time": "2023-03-17T19:22:58.206Z"
   },
   {
    "duration": 95,
    "start_time": "2023-03-17T19:22:58.385Z"
   },
   {
    "duration": 5,
    "start_time": "2023-03-17T19:22:58.482Z"
   },
   {
    "duration": 6,
    "start_time": "2023-03-17T19:22:58.488Z"
   },
   {
    "duration": 119,
    "start_time": "2023-03-17T19:22:58.495Z"
   },
   {
    "duration": 0,
    "start_time": "2023-03-17T19:22:58.615Z"
   },
   {
    "duration": 0,
    "start_time": "2023-03-17T19:22:58.616Z"
   },
   {
    "duration": 0,
    "start_time": "2023-03-17T19:22:58.618Z"
   },
   {
    "duration": 0,
    "start_time": "2023-03-17T19:22:58.618Z"
   },
   {
    "duration": 0,
    "start_time": "2023-03-17T19:22:58.619Z"
   },
   {
    "duration": 0,
    "start_time": "2023-03-17T19:22:58.620Z"
   },
   {
    "duration": 47,
    "start_time": "2023-03-17T19:24:19.450Z"
   },
   {
    "duration": 32,
    "start_time": "2023-03-17T19:24:54.592Z"
   },
   {
    "duration": 76,
    "start_time": "2023-03-17T19:25:03.026Z"
   },
   {
    "duration": 25,
    "start_time": "2023-03-17T19:27:23.855Z"
   },
   {
    "duration": 38,
    "start_time": "2023-03-17T19:28:14.225Z"
   },
   {
    "duration": 420,
    "start_time": "2023-03-17T19:32:57.301Z"
   },
   {
    "duration": 721,
    "start_time": "2023-03-17T19:34:45.211Z"
   },
   {
    "duration": 278,
    "start_time": "2023-03-17T19:36:47.360Z"
   },
   {
    "duration": 341,
    "start_time": "2023-03-17T19:40:17.905Z"
   },
   {
    "duration": 253,
    "start_time": "2023-03-17T19:51:58.367Z"
   },
   {
    "duration": 249,
    "start_time": "2023-03-17T19:58:50.031Z"
   },
   {
    "duration": 291,
    "start_time": "2023-03-17T20:03:55.390Z"
   },
   {
    "duration": 865,
    "start_time": "2023-03-17T20:05:36.330Z"
   },
   {
    "duration": 1383,
    "start_time": "2023-03-17T20:07:08.354Z"
   },
   {
    "duration": 56,
    "start_time": "2023-03-17T20:07:09.740Z"
   },
   {
    "duration": 13,
    "start_time": "2023-03-17T20:07:09.800Z"
   },
   {
    "duration": 16,
    "start_time": "2023-03-17T20:07:09.814Z"
   },
   {
    "duration": 12,
    "start_time": "2023-03-17T20:07:09.831Z"
   },
   {
    "duration": 1934,
    "start_time": "2023-03-17T20:07:09.844Z"
   },
   {
    "duration": 220,
    "start_time": "2023-03-17T20:07:11.780Z"
   },
   {
    "duration": 38,
    "start_time": "2023-03-17T20:07:12.002Z"
   },
   {
    "duration": 10,
    "start_time": "2023-03-17T20:07:12.043Z"
   },
   {
    "duration": 33,
    "start_time": "2023-03-17T20:07:12.054Z"
   },
   {
    "duration": 11,
    "start_time": "2023-03-17T20:07:12.089Z"
   },
   {
    "duration": 5,
    "start_time": "2023-03-17T20:07:12.101Z"
   },
   {
    "duration": 7,
    "start_time": "2023-03-17T20:07:12.108Z"
   },
   {
    "duration": 14,
    "start_time": "2023-03-17T20:07:12.117Z"
   },
   {
    "duration": 20,
    "start_time": "2023-03-17T20:07:12.132Z"
   },
   {
    "duration": 41,
    "start_time": "2023-03-17T20:07:12.179Z"
   },
   {
    "duration": 120,
    "start_time": "2023-03-17T20:07:12.221Z"
   },
   {
    "duration": 4,
    "start_time": "2023-03-17T20:07:12.343Z"
   },
   {
    "duration": 9,
    "start_time": "2023-03-17T20:07:12.348Z"
   },
   {
    "duration": 35,
    "start_time": "2023-03-17T20:07:12.358Z"
   },
   {
    "duration": 6,
    "start_time": "2023-03-17T20:07:12.395Z"
   },
   {
    "duration": 19,
    "start_time": "2023-03-17T20:07:12.402Z"
   },
   {
    "duration": 229,
    "start_time": "2023-03-17T20:07:12.422Z"
   },
   {
    "duration": 7008,
    "start_time": "2023-03-17T20:07:12.653Z"
   },
   {
    "duration": 31276,
    "start_time": "2023-03-17T20:07:19.662Z"
   },
   {
    "duration": 9,
    "start_time": "2023-03-17T20:07:50.939Z"
   },
   {
    "duration": 35,
    "start_time": "2023-03-17T20:07:50.952Z"
   },
   {
    "duration": 26,
    "start_time": "2023-03-17T20:07:50.989Z"
   },
   {
    "duration": 377,
    "start_time": "2023-03-17T20:07:51.016Z"
   },
   {
    "duration": 87,
    "start_time": "2023-03-17T20:07:51.395Z"
   },
   {
    "duration": 5,
    "start_time": "2023-03-17T20:07:51.484Z"
   },
   {
    "duration": 8,
    "start_time": "2023-03-17T20:07:51.491Z"
   },
   {
    "duration": 37,
    "start_time": "2023-03-17T20:07:51.501Z"
   },
   {
    "duration": 74,
    "start_time": "2023-03-17T20:07:51.539Z"
   },
   {
    "duration": 44,
    "start_time": "2023-03-17T20:07:51.614Z"
   },
   {
    "duration": 445,
    "start_time": "2023-03-17T20:07:51.660Z"
   },
   {
    "duration": 645,
    "start_time": "2023-03-17T20:07:52.108Z"
   },
   {
    "duration": 328,
    "start_time": "2023-03-17T20:07:52.754Z"
   },
   {
    "duration": 505,
    "start_time": "2023-03-17T20:07:53.084Z"
   },
   {
    "duration": 294,
    "start_time": "2023-03-17T20:07:53.590Z"
   },
   {
    "duration": 262,
    "start_time": "2023-03-17T20:13:23.020Z"
   },
   {
    "duration": 189,
    "start_time": "2023-03-17T20:13:29.091Z"
   },
   {
    "duration": 10,
    "start_time": "2023-03-17T20:20:07.554Z"
   },
   {
    "duration": 303,
    "start_time": "2023-03-17T20:32:09.836Z"
   },
   {
    "duration": 297,
    "start_time": "2023-03-17T20:34:25.193Z"
   },
   {
    "duration": 285,
    "start_time": "2023-03-17T20:40:37.221Z"
   },
   {
    "duration": 292,
    "start_time": "2023-03-17T20:41:42.955Z"
   },
   {
    "duration": 291,
    "start_time": "2023-03-17T20:42:24.170Z"
   },
   {
    "duration": 395,
    "start_time": "2023-03-17T20:49:18.040Z"
   },
   {
    "duration": 1592,
    "start_time": "2023-03-19T05:39:08.528Z"
   },
   {
    "duration": 107,
    "start_time": "2023-03-19T05:39:10.295Z"
   },
   {
    "duration": 14,
    "start_time": "2023-03-19T05:39:11.760Z"
   },
   {
    "duration": 13,
    "start_time": "2023-03-19T05:39:12.356Z"
   },
   {
    "duration": 12,
    "start_time": "2023-03-19T05:39:13.244Z"
   },
   {
    "duration": 2112,
    "start_time": "2023-03-19T05:39:14.088Z"
   },
   {
    "duration": 221,
    "start_time": "2023-03-19T05:39:16.202Z"
   },
   {
    "duration": 53,
    "start_time": "2023-03-19T05:39:16.425Z"
   },
   {
    "duration": 9,
    "start_time": "2023-03-19T05:39:16.480Z"
   },
   {
    "duration": 11,
    "start_time": "2023-03-19T05:39:19.461Z"
   },
   {
    "duration": 13,
    "start_time": "2023-03-19T05:39:20.416Z"
   },
   {
    "duration": 5,
    "start_time": "2023-03-19T05:39:22.749Z"
   },
   {
    "duration": 5,
    "start_time": "2023-03-19T05:39:24.525Z"
   },
   {
    "duration": 13,
    "start_time": "2023-03-19T05:39:25.418Z"
   },
   {
    "duration": 19,
    "start_time": "2023-03-19T05:39:27.721Z"
   },
   {
    "duration": 152,
    "start_time": "2023-03-19T05:40:05.070Z"
   },
   {
    "duration": 1207,
    "start_time": "2023-03-19T05:59:04.610Z"
   },
   {
    "duration": 19,
    "start_time": "2023-03-19T05:59:35.206Z"
   },
   {
    "duration": 15,
    "start_time": "2023-03-19T06:00:27.348Z"
   },
   {
    "duration": 1206,
    "start_time": "2023-03-19T06:00:54.555Z"
   },
   {
    "duration": 4,
    "start_time": "2023-03-19T06:02:02.700Z"
   },
   {
    "duration": 16,
    "start_time": "2023-03-19T06:02:09.654Z"
   },
   {
    "duration": 15,
    "start_time": "2023-03-19T06:10:26.967Z"
   },
   {
    "duration": 14,
    "start_time": "2023-03-19T06:11:16.970Z"
   },
   {
    "duration": 16,
    "start_time": "2023-03-19T06:20:40.654Z"
   },
   {
    "duration": 27,
    "start_time": "2023-03-19T06:26:45.351Z"
   },
   {
    "duration": 22,
    "start_time": "2023-03-19T06:27:13.752Z"
   },
   {
    "duration": 117,
    "start_time": "2023-03-19T06:31:01.152Z"
   },
   {
    "duration": 4,
    "start_time": "2023-03-19T06:31:03.172Z"
   },
   {
    "duration": 9,
    "start_time": "2023-03-19T06:31:04.156Z"
   },
   {
    "duration": 17,
    "start_time": "2023-03-19T06:31:05.071Z"
   },
   {
    "duration": 5,
    "start_time": "2023-03-19T06:31:06.085Z"
   },
   {
    "duration": 34,
    "start_time": "2023-03-19T06:31:07.213Z"
   },
   {
    "duration": 207,
    "start_time": "2023-03-19T06:31:09.389Z"
   },
   {
    "duration": 26,
    "start_time": "2023-03-19T06:33:18.976Z"
   },
   {
    "duration": 52,
    "start_time": "2023-03-19T09:38:18.823Z"
   },
   {
    "duration": 1553,
    "start_time": "2023-03-19T09:38:37.753Z"
   },
   {
    "duration": 206,
    "start_time": "2023-03-19T09:38:39.308Z"
   },
   {
    "duration": 13,
    "start_time": "2023-03-19T09:38:39.566Z"
   },
   {
    "duration": 13,
    "start_time": "2023-03-19T09:38:39.829Z"
   },
   {
    "duration": 15,
    "start_time": "2023-03-19T09:38:40.134Z"
   },
   {
    "duration": 2198,
    "start_time": "2023-03-19T09:38:40.749Z"
   },
   {
    "duration": 269,
    "start_time": "2023-03-19T09:38:42.949Z"
   },
   {
    "duration": 41,
    "start_time": "2023-03-19T09:38:43.220Z"
   },
   {
    "duration": 6,
    "start_time": "2023-03-19T09:38:43.263Z"
   },
   {
    "duration": 12,
    "start_time": "2023-03-19T09:38:46.518Z"
   },
   {
    "duration": 12,
    "start_time": "2023-03-19T09:38:47.967Z"
   },
   {
    "duration": 6,
    "start_time": "2023-03-19T09:38:49.124Z"
   },
   {
    "duration": 5,
    "start_time": "2023-03-19T09:38:50.071Z"
   },
   {
    "duration": 12,
    "start_time": "2023-03-19T09:38:50.678Z"
   },
   {
    "duration": 17,
    "start_time": "2023-03-19T09:38:51.550Z"
   },
   {
    "duration": 26,
    "start_time": "2023-03-19T09:38:52.438Z"
   },
   {
    "duration": 130,
    "start_time": "2023-03-19T09:38:56.838Z"
   },
   {
    "duration": 4,
    "start_time": "2023-03-19T09:38:59.506Z"
   },
   {
    "duration": 8,
    "start_time": "2023-03-19T09:39:00.339Z"
   },
   {
    "duration": 16,
    "start_time": "2023-03-19T09:39:01.159Z"
   },
   {
    "duration": 5,
    "start_time": "2023-03-19T09:39:02.760Z"
   },
   {
    "duration": 43,
    "start_time": "2023-03-19T09:39:03.898Z"
   },
   {
    "duration": 124,
    "start_time": "2023-03-19T09:39:06.921Z"
   },
   {
    "duration": 51,
    "start_time": "2023-03-19T09:42:59.158Z"
   },
   {
    "duration": 12,
    "start_time": "2023-03-19T09:43:28.331Z"
   },
   {
    "duration": 7998,
    "start_time": "2023-03-19T09:43:58.007Z"
   },
   {
    "duration": 37549,
    "start_time": "2023-03-19T09:44:07.733Z"
   },
   {
    "duration": 26,
    "start_time": "2023-03-19T09:45:42.248Z"
   },
   {
    "duration": 23,
    "start_time": "2023-03-19T09:46:21.877Z"
   },
   {
    "duration": 168,
    "start_time": "2023-03-19T09:46:55.703Z"
   },
   {
    "duration": 186,
    "start_time": "2023-03-19T09:47:42.249Z"
   },
   {
    "duration": 184,
    "start_time": "2023-03-19T09:48:31.307Z"
   },
   {
    "duration": 167,
    "start_time": "2023-03-19T09:49:33.639Z"
   },
   {
    "duration": 69,
    "start_time": "2023-03-19T10:05:24.515Z"
   },
   {
    "duration": 176,
    "start_time": "2023-03-19T10:05:38.867Z"
   },
   {
    "duration": 7557,
    "start_time": "2023-03-19T10:07:43.359Z"
   },
   {
    "duration": 7241,
    "start_time": "2023-03-19T10:08:29.956Z"
   },
   {
    "duration": 33072,
    "start_time": "2023-03-19T10:10:16.527Z"
   },
   {
    "duration": 7,
    "start_time": "2023-03-19T10:11:57.595Z"
   },
   {
    "duration": 163,
    "start_time": "2023-03-19T10:12:02.166Z"
   },
   {
    "duration": 32739,
    "start_time": "2023-03-19T10:17:57.289Z"
   },
   {
    "duration": 12,
    "start_time": "2023-03-19T10:20:46.487Z"
   },
   {
    "duration": 10,
    "start_time": "2023-03-19T10:20:58.157Z"
   },
   {
    "duration": 18,
    "start_time": "2023-03-19T10:20:58.888Z"
   },
   {
    "duration": 31,
    "start_time": "2023-03-19T10:20:59.333Z"
   },
   {
    "duration": 394,
    "start_time": "2023-03-19T10:21:00.503Z"
   },
   {
    "duration": 184,
    "start_time": "2023-03-19T10:24:33.290Z"
   },
   {
    "duration": 177,
    "start_time": "2023-03-19T10:24:49.628Z"
   },
   {
    "duration": 533,
    "start_time": "2023-03-19T10:42:00.046Z"
   },
   {
    "duration": 513,
    "start_time": "2023-03-19T10:45:20.759Z"
   },
   {
    "duration": 549,
    "start_time": "2023-03-19T10:47:47.193Z"
   },
   {
    "duration": 4,
    "start_time": "2023-03-19T10:48:21.829Z"
   },
   {
    "duration": 5,
    "start_time": "2023-03-19T10:48:22.269Z"
   },
   {
    "duration": 34,
    "start_time": "2023-03-19T10:48:27.646Z"
   },
   {
    "duration": 532,
    "start_time": "2023-03-19T10:51:16.095Z"
   },
   {
    "duration": 4,
    "start_time": "2023-03-19T10:54:08.557Z"
   },
   {
    "duration": 5,
    "start_time": "2023-03-19T10:54:09.094Z"
   },
   {
    "duration": 34,
    "start_time": "2023-03-19T10:54:11.449Z"
   },
   {
    "duration": 45,
    "start_time": "2023-03-19T10:54:14.530Z"
   },
   {
    "duration": 8,
    "start_time": "2023-03-19T10:55:30.593Z"
   },
   {
    "duration": 46,
    "start_time": "2023-03-19T11:04:16.930Z"
   },
   {
    "duration": 6,
    "start_time": "2023-03-19T11:04:44.369Z"
   },
   {
    "duration": 12,
    "start_time": "2023-03-19T11:06:46.318Z"
   },
   {
    "duration": 5,
    "start_time": "2023-03-19T11:07:09.111Z"
   },
   {
    "duration": 44,
    "start_time": "2023-03-19T11:08:54.838Z"
   },
   {
    "duration": 7,
    "start_time": "2023-03-19T11:11:36.020Z"
   },
   {
    "duration": 490,
    "start_time": "2023-03-19T11:12:08.059Z"
   },
   {
    "duration": 664,
    "start_time": "2023-03-19T11:12:56.045Z"
   },
   {
    "duration": 310,
    "start_time": "2023-03-19T11:13:05.822Z"
   },
   {
    "duration": 278,
    "start_time": "2023-03-19T11:13:30.112Z"
   },
   {
    "duration": 376,
    "start_time": "2023-03-19T11:13:38.213Z"
   },
   {
    "duration": 273,
    "start_time": "2023-03-19T11:13:46.523Z"
   },
   {
    "duration": 6,
    "start_time": "2023-03-19T11:15:20.901Z"
   },
   {
    "duration": 6,
    "start_time": "2023-03-19T11:15:39.835Z"
   },
   {
    "duration": 6,
    "start_time": "2023-03-19T11:15:50.953Z"
   },
   {
    "duration": 7,
    "start_time": "2023-03-19T11:16:30.645Z"
   },
   {
    "duration": 41,
    "start_time": "2023-03-19T11:17:31.855Z"
   },
   {
    "duration": 494,
    "start_time": "2023-03-19T11:17:57.930Z"
   },
   {
    "duration": 757,
    "start_time": "2023-03-19T11:18:02.767Z"
   },
   {
    "duration": 4,
    "start_time": "2023-03-19T11:46:57.772Z"
   },
   {
    "duration": 53,
    "start_time": "2023-03-19T11:46:59.309Z"
   },
   {
    "duration": 13,
    "start_time": "2023-03-19T11:47:00.069Z"
   },
   {
    "duration": 12,
    "start_time": "2023-03-19T11:47:00.414Z"
   },
   {
    "duration": 13,
    "start_time": "2023-03-19T11:47:00.758Z"
   },
   {
    "duration": 2076,
    "start_time": "2023-03-19T11:47:01.398Z"
   },
   {
    "duration": 205,
    "start_time": "2023-03-19T11:47:03.476Z"
   },
   {
    "duration": 39,
    "start_time": "2023-03-19T11:47:03.683Z"
   },
   {
    "duration": 6,
    "start_time": "2023-03-19T11:47:03.724Z"
   },
   {
    "duration": 10,
    "start_time": "2023-03-19T11:47:04.441Z"
   },
   {
    "duration": 12,
    "start_time": "2023-03-19T11:47:04.998Z"
   },
   {
    "duration": 9,
    "start_time": "2023-03-19T11:47:05.786Z"
   },
   {
    "duration": 4,
    "start_time": "2023-03-19T11:47:06.562Z"
   },
   {
    "duration": 13,
    "start_time": "2023-03-19T11:47:07.074Z"
   },
   {
    "duration": 31,
    "start_time": "2023-03-19T11:47:07.545Z"
   },
   {
    "duration": 28,
    "start_time": "2023-03-19T11:47:08.034Z"
   },
   {
    "duration": 112,
    "start_time": "2023-03-19T11:47:09.695Z"
   },
   {
    "duration": 5,
    "start_time": "2023-03-19T11:47:10.883Z"
   },
   {
    "duration": 11,
    "start_time": "2023-03-19T11:47:11.278Z"
   },
   {
    "duration": 14,
    "start_time": "2023-03-19T11:47:11.723Z"
   },
   {
    "duration": 5,
    "start_time": "2023-03-19T11:47:12.144Z"
   },
   {
    "duration": 35,
    "start_time": "2023-03-19T11:47:12.599Z"
   },
   {
    "duration": 21,
    "start_time": "2023-03-19T11:47:13.018Z"
   },
   {
    "duration": 165,
    "start_time": "2023-03-19T11:47:13.267Z"
   },
   {
    "duration": 7320,
    "start_time": "2023-03-19T11:47:14.343Z"
   },
   {
    "duration": 32587,
    "start_time": "2023-03-19T11:47:21.665Z"
   },
   {
    "duration": 9,
    "start_time": "2023-03-19T11:47:54.254Z"
   },
   {
    "duration": 33,
    "start_time": "2023-03-19T11:47:54.265Z"
   },
   {
    "duration": 31,
    "start_time": "2023-03-19T11:47:54.299Z"
   },
   {
    "duration": 360,
    "start_time": "2023-03-19T11:47:54.332Z"
   },
   {
    "duration": 617,
    "start_time": "2023-03-19T11:47:54.695Z"
   },
   {
    "duration": 4,
    "start_time": "2023-03-19T11:47:55.314Z"
   },
   {
    "duration": 12,
    "start_time": "2023-03-19T11:47:55.320Z"
   },
   {
    "duration": 37,
    "start_time": "2023-03-19T11:47:55.335Z"
   },
   {
    "duration": 59,
    "start_time": "2023-03-19T11:47:55.374Z"
   },
   {
    "duration": 7,
    "start_time": "2023-03-19T11:47:55.434Z"
   },
   {
    "duration": 52,
    "start_time": "2023-03-19T11:48:07.998Z"
   },
   {
    "duration": 570,
    "start_time": "2023-03-19T11:48:26.906Z"
   },
   {
    "duration": 669,
    "start_time": "2023-03-19T11:48:39.430Z"
   },
   {
    "duration": 307,
    "start_time": "2023-03-19T11:48:58.674Z"
   },
   {
    "duration": 360,
    "start_time": "2023-03-19T11:49:11.542Z"
   },
   {
    "duration": 539,
    "start_time": "2023-03-19T11:49:13.057Z"
   },
   {
    "duration": 218,
    "start_time": "2023-03-19T11:49:33.572Z"
   },
   {
    "duration": 13,
    "start_time": "2023-03-19T11:49:41.340Z"
   },
   {
    "duration": 504,
    "start_time": "2023-03-19T11:53:09.564Z"
   },
   {
    "duration": 305,
    "start_time": "2023-03-19T11:54:22.152Z"
   },
   {
    "duration": 716,
    "start_time": "2023-03-19T12:00:22.765Z"
   },
   {
    "duration": 705,
    "start_time": "2023-03-19T12:01:27.575Z"
   },
   {
    "duration": 535,
    "start_time": "2023-03-19T12:01:56.276Z"
   },
   {
    "duration": 555,
    "start_time": "2023-03-19T12:02:35.796Z"
   },
   {
    "duration": 744,
    "start_time": "2023-03-19T12:03:58.362Z"
   },
   {
    "duration": 713,
    "start_time": "2023-03-19T12:09:54.842Z"
   },
   {
    "duration": 807,
    "start_time": "2023-03-19T12:22:02.892Z"
   },
   {
    "duration": 684,
    "start_time": "2023-03-19T12:22:34.211Z"
   },
   {
    "duration": 690,
    "start_time": "2023-03-19T12:23:02.543Z"
   },
   {
    "duration": 697,
    "start_time": "2023-03-19T14:11:48.162Z"
   },
   {
    "duration": 730,
    "start_time": "2023-03-19T14:12:26.706Z"
   },
   {
    "duration": 667,
    "start_time": "2023-03-19T14:15:03.070Z"
   },
   {
    "duration": 4,
    "start_time": "2023-03-19T15:17:44.042Z"
   },
   {
    "duration": 54,
    "start_time": "2023-03-19T15:17:44.855Z"
   },
   {
    "duration": 12,
    "start_time": "2023-03-19T15:17:45.253Z"
   },
   {
    "duration": 13,
    "start_time": "2023-03-19T15:17:45.730Z"
   },
   {
    "duration": 14,
    "start_time": "2023-03-19T15:17:45.745Z"
   },
   {
    "duration": 2177,
    "start_time": "2023-03-19T15:17:46.090Z"
   },
   {
    "duration": 220,
    "start_time": "2023-03-19T15:17:48.269Z"
   },
   {
    "duration": 41,
    "start_time": "2023-03-19T15:17:48.491Z"
   },
   {
    "duration": 8,
    "start_time": "2023-03-19T15:17:48.534Z"
   },
   {
    "duration": 12,
    "start_time": "2023-03-19T15:17:49.240Z"
   },
   {
    "duration": 12,
    "start_time": "2023-03-19T15:17:51.686Z"
   },
   {
    "duration": 5,
    "start_time": "2023-03-19T15:17:53.108Z"
   },
   {
    "duration": 4,
    "start_time": "2023-03-19T15:17:54.060Z"
   },
   {
    "duration": 13,
    "start_time": "2023-03-19T15:17:54.844Z"
   },
   {
    "duration": 20,
    "start_time": "2023-03-19T15:17:55.823Z"
   },
   {
    "duration": 26,
    "start_time": "2023-03-19T15:17:56.837Z"
   },
   {
    "duration": 110,
    "start_time": "2023-03-19T15:18:01.496Z"
   },
   {
    "duration": 5,
    "start_time": "2023-03-19T15:18:03.498Z"
   },
   {
    "duration": 11,
    "start_time": "2023-03-19T15:18:04.292Z"
   },
   {
    "duration": 15,
    "start_time": "2023-03-19T15:18:05.021Z"
   },
   {
    "duration": 5,
    "start_time": "2023-03-19T15:18:06.026Z"
   },
   {
    "duration": 38,
    "start_time": "2023-03-19T15:18:06.826Z"
   },
   {
    "duration": 28,
    "start_time": "2023-03-19T15:18:07.511Z"
   },
   {
    "duration": 178,
    "start_time": "2023-03-19T15:18:08.162Z"
   },
   {
    "duration": 7276,
    "start_time": "2023-03-19T15:18:20.178Z"
   },
   {
    "duration": 32672,
    "start_time": "2023-03-19T15:18:27.457Z"
   },
   {
    "duration": 10,
    "start_time": "2023-03-19T15:19:00.131Z"
   },
   {
    "duration": 55,
    "start_time": "2023-03-19T15:19:00.143Z"
   },
   {
    "duration": 56,
    "start_time": "2023-03-19T15:19:00.200Z"
   },
   {
    "duration": 339,
    "start_time": "2023-03-19T15:19:00.257Z"
   },
   {
    "duration": 621,
    "start_time": "2023-03-19T15:19:00.599Z"
   },
   {
    "duration": 4,
    "start_time": "2023-03-19T15:19:01.222Z"
   },
   {
    "duration": 46,
    "start_time": "2023-03-19T15:19:01.228Z"
   },
   {
    "duration": 70,
    "start_time": "2023-03-19T15:19:01.277Z"
   },
   {
    "duration": 52,
    "start_time": "2023-03-19T15:19:01.349Z"
   },
   {
    "duration": 18,
    "start_time": "2023-03-19T15:19:01.402Z"
   },
   {
    "duration": 42,
    "start_time": "2023-03-19T15:19:04.830Z"
   },
   {
    "duration": 583,
    "start_time": "2023-03-19T15:19:06.509Z"
   },
   {
    "duration": 651,
    "start_time": "2023-03-19T15:19:12.295Z"
   },
   {
    "duration": 288,
    "start_time": "2023-03-19T15:19:13.187Z"
   },
   {
    "duration": 258,
    "start_time": "2023-03-19T15:19:15.238Z"
   },
   {
    "duration": 334,
    "start_time": "2023-03-19T15:19:16.258Z"
   },
   {
    "duration": 365,
    "start_time": "2023-03-19T15:19:16.725Z"
   },
   {
    "duration": 15,
    "start_time": "2023-03-19T15:19:17.488Z"
   },
   {
    "duration": 491,
    "start_time": "2023-03-19T15:19:20.485Z"
   },
   {
    "duration": 655,
    "start_time": "2023-03-19T15:19:22.842Z"
   },
   {
    "duration": 799,
    "start_time": "2023-03-19T15:24:57.905Z"
   },
   {
    "duration": 757,
    "start_time": "2023-03-19T15:25:10.406Z"
   },
   {
    "duration": 589,
    "start_time": "2023-03-19T15:26:48.353Z"
   },
   {
    "duration": 551,
    "start_time": "2023-03-19T15:29:08.822Z"
   },
   {
    "duration": 634,
    "start_time": "2023-03-19T15:29:27.148Z"
   },
   {
    "duration": 4,
    "start_time": "2023-03-19T15:30:43.849Z"
   },
   {
    "duration": 51,
    "start_time": "2023-03-19T15:30:43.982Z"
   },
   {
    "duration": 12,
    "start_time": "2023-03-19T15:30:44.046Z"
   },
   {
    "duration": 13,
    "start_time": "2023-03-19T15:30:44.101Z"
   },
   {
    "duration": 13,
    "start_time": "2023-03-19T15:30:44.118Z"
   },
   {
    "duration": 2152,
    "start_time": "2023-03-19T15:30:44.198Z"
   },
   {
    "duration": 224,
    "start_time": "2023-03-19T15:30:46.352Z"
   },
   {
    "duration": 47,
    "start_time": "2023-03-19T15:30:46.577Z"
   },
   {
    "duration": 10,
    "start_time": "2023-03-19T15:30:46.627Z"
   },
   {
    "duration": 17,
    "start_time": "2023-03-19T15:30:46.639Z"
   },
   {
    "duration": 36,
    "start_time": "2023-03-19T15:30:46.658Z"
   },
   {
    "duration": 5,
    "start_time": "2023-03-19T15:30:46.696Z"
   },
   {
    "duration": 5,
    "start_time": "2023-03-19T15:30:46.703Z"
   },
   {
    "duration": 12,
    "start_time": "2023-03-19T15:30:46.709Z"
   },
   {
    "duration": 19,
    "start_time": "2023-03-19T15:30:46.724Z"
   },
   {
    "duration": 60,
    "start_time": "2023-03-19T15:30:46.745Z"
   },
   {
    "duration": 127,
    "start_time": "2023-03-19T15:30:46.807Z"
   },
   {
    "duration": 6,
    "start_time": "2023-03-19T15:30:46.936Z"
   },
   {
    "duration": 9,
    "start_time": "2023-03-19T15:30:46.943Z"
   },
   {
    "duration": 43,
    "start_time": "2023-03-19T15:30:46.954Z"
   },
   {
    "duration": 5,
    "start_time": "2023-03-19T15:30:46.999Z"
   },
   {
    "duration": 32,
    "start_time": "2023-03-19T15:30:47.006Z"
   },
   {
    "duration": 54,
    "start_time": "2023-03-19T15:30:47.040Z"
   },
   {
    "duration": 181,
    "start_time": "2023-03-19T15:30:47.095Z"
   },
   {
    "duration": 7320,
    "start_time": "2023-03-19T15:30:47.278Z"
   },
   {
    "duration": 32315,
    "start_time": "2023-03-19T15:30:54.599Z"
   },
   {
    "duration": 10,
    "start_time": "2023-03-19T15:31:26.915Z"
   },
   {
    "duration": 16,
    "start_time": "2023-03-19T15:31:26.926Z"
   },
   {
    "duration": 64,
    "start_time": "2023-03-19T15:31:26.944Z"
   },
   {
    "duration": 380,
    "start_time": "2023-03-19T15:31:27.010Z"
   },
   {
    "duration": 642,
    "start_time": "2023-03-19T15:31:27.395Z"
   },
   {
    "duration": 4,
    "start_time": "2023-03-19T15:31:28.038Z"
   },
   {
    "duration": 6,
    "start_time": "2023-03-19T15:31:28.044Z"
   },
   {
    "duration": 49,
    "start_time": "2023-03-19T15:31:28.051Z"
   },
   {
    "duration": 48,
    "start_time": "2023-03-19T15:31:28.102Z"
   },
   {
    "duration": 6,
    "start_time": "2023-03-19T15:31:28.151Z"
   },
   {
    "duration": 65,
    "start_time": "2023-03-19T15:31:28.159Z"
   },
   {
    "duration": 569,
    "start_time": "2023-03-19T15:31:28.225Z"
   },
   {
    "duration": 669,
    "start_time": "2023-03-19T15:31:28.796Z"
   },
   {
    "duration": 310,
    "start_time": "2023-03-19T15:31:29.467Z"
   },
   {
    "duration": 607,
    "start_time": "2023-03-19T15:31:29.788Z"
   },
   {
    "duration": 506,
    "start_time": "2023-03-19T15:31:30.396Z"
   },
   {
    "duration": 311,
    "start_time": "2023-03-19T15:31:30.988Z"
   },
   {
    "duration": 93,
    "start_time": "2023-03-19T15:31:31.301Z"
   },
   {
    "duration": 578,
    "start_time": "2023-03-19T15:31:31.396Z"
   },
   {
    "duration": 556,
    "start_time": "2023-03-19T15:32:33.728Z"
   },
   {
    "duration": 493,
    "start_time": "2023-03-19T15:35:09.718Z"
   }
  ],
  "kernelspec": {
   "display_name": "Python 3 (ipykernel)",
   "language": "python",
   "name": "python3"
  },
  "language_info": {
   "codemirror_mode": {
    "name": "ipython",
    "version": 3
   },
   "file_extension": ".py",
   "mimetype": "text/x-python",
   "name": "python",
   "nbconvert_exporter": "python",
   "pygments_lexer": "ipython3",
   "version": "3.9.12"
  },
  "toc": {
   "base_numbering": 1,
   "nav_menu": {},
   "number_sections": true,
   "sideBar": true,
   "skip_h1_title": true,
   "title_cell": "Содержание",
   "title_sidebar": "Contents",
   "toc_cell": true,
   "toc_position": {
    "height": "calc(100% - 180px)",
    "left": "10px",
    "top": "150px",
    "width": "354.797px"
   },
   "toc_section_display": true,
   "toc_window_display": true
  }
 },
 "nbformat": 4,
 "nbformat_minor": 2
}
